{
 "cells": [
  {
   "cell_type": "code",
   "execution_count": 1,
   "metadata": {},
   "outputs": [],
   "source": [
    "import spacy\n",
    "nlp = spacy.load('en_core_web_lg')"
   ]
  },
  {
   "cell_type": "code",
   "execution_count": 69,
   "metadata": {},
   "outputs": [],
   "source": [
    "import pandas as pd\n",
    "#df = pd.read_csv('Data/GSandInsight_df_wTopics.csv')\n",
    "#rerun on collapsed reviews\n",
    "df = pd.read_pickle(\"./1collapsed_allcompanies_wTopics.pkl\")\n",
    "#df = pd.read_csv('Data/1collapsed_allcompanies_wTopics.csv')\n",
    "\n",
    "#df = pd.read_pickle(\"./1glassdoor_reviews_top100.pkl\")"
   ]
  },
  {
   "cell_type": "code",
   "execution_count": 71,
   "metadata": {},
   "outputs": [],
   "source": [
    "df['Parsed_cons'] = df['cons_cleaned'].apply(nlp)\n"
   ]
  },
  {
   "cell_type": "code",
   "execution_count": 72,
   "metadata": {},
   "outputs": [
    {
     "data": {
      "text/plain": [
       "7757                                                                                                                                  (The, most, tenure, someone, has, there, that, is, not, the, COO, is, 1, year, .,  , Look, at, their, blog, to, see, how, many, employees, have, come, and, gone, in, a, matter, of, months, .,  , Wondering, the, reason, for, the, turnover, ?,  , The, CEO, is, verbally, abusive, and, loves, chaos, and, creating, chaos, .,  , He, has, no, clue, how, to, run, a, company, .,  , Be, sure, to, ask, detailed, questions, about, the, current, clients, and, profitability, -, they, have, never, sold, this, platform, to, a, single, client, .)\n",
       "6024                                                                                                                                                                                                                                                                                                                                                                                                                                                                                                                                                                                                     (Fast, moving, markets, require, periodic, strategy, and, organizational, shifts, .)\n",
       "6414                                                                                                                                                                                                                                                                                 (Bonus, structure, constantly, changed, !, !,  , Being, told, the, high, quotas, were, from, the, client, --, when, in, fact, this, was, not, the, case, .,  , By, doing, this, ,, it, was, hard, to, obtain, bonuses, ...,  , In, addition, ,, working, for, an, authorized, vendor, means, the, client, can, make, cutbacks, at, anytime, ,, i.e.one, could, be, out, of, a, job, without, warning, .)\n",
       "7603                                                                                                                                                                                                                                                                                                                                                                                                                                                                                                                           (I, am, having, a, hard, time, thinking, of, any, Cons, ..., If, there, ever, is, a, Con, ,, we, 're, empowered, to, provide, feedback, and, make, changes, .)\n",
       "1957                                                                                                                                                                                                                                                                                                                                                                                                                                                                                                                              (can, be, long, working, hours, ,, last, minute, changes, and, sometimes, difficult, clients, left, to, you, to, deal, with, rather, than, for, management)\n",
       "5999                                                                                                                                                                                                                                                                                                                                                                                                                                                                                                                                                                                      (Lack, of, young, blood, ., \\n, Need, more, excitement, in, the, job, that, is, being, assigned, .)\n",
       "3218                                                                                                                                                                                                                                                                                                                                                                                                                                                                                                                                                                              (Heavy, administrative, /, bureaucracy, \\n, Siloed, with, more, than, average, amount, of, non, -, workers)\n",
       "6886    (The, current, business, model, is, completely, unsustainable, and, they, are, making, constant, drastic, changes, to, satisfy, the, board, of, directors, ., (, And, ironically, acquiring, more, and, more, companies, despite, having, a, terrible, revenue, year, and, annihilating, the, sales, team, to, save, money, ), ., \\n, Extremely, high, turnover, rate, and, disloyalty, to, employees, -, I, have, witnessed, several, members, of, the, sales, team, (, including, one, who, won, \", Account, Executive, of, the, year, \", ), let, go, after, one, or, two, bad, quarters, ., \\n, Massively, Misogynistic, -, unless, you, are, in, the, Boys, ', Club, ,, you, ...)\n",
       "5015                                                                                                                                                                                                                                                                                                                                                                                                                                                                                                                                                                                        (-Sales, was, split, into, two, subsets, \\n, -Difficult, to, grow, due, to, huge, hiring, volume)\n",
       "3764                                                                                                                                                                                                                                                                                                                                                                                                                                                                                                                                                                                                                                                 (the, usual, cons, -, slow, to, execute)\n",
       "1730                                                                                                                                                                                                                                                                                                                                                                                                                                                                                                                                                                                                (No, offices, to, report, to, \\n, Virtual, connection, to, management, \\n, Draw, Balance)\n",
       "8522                                                                                                                                                                                                                                                                                                                                                                                                                      (Bad, engineering, skills, (, no, one, else, runs, a, fab, like, this, ), \\n, Constant, ', crisis, ', projects, with, no, purpose, \\n, Internal, competitions, ,, you, can, not, be, successful, if, someone, else, is, \\n, Horrible, homegrown, software, systems)\n",
       "1218                                                                                                                                                                                                                                                                                                                                                                                                                                                                                                                                                                                                                                     (Some, lower, employees, get, pushed, to, the, side)\n",
       "1729                                                                                                                                                                                                                                                                                                                                                                                                                               (Sales, people, only, want, money, ,, you, 'll, get, thrown, under, the, bus, a, lot, and, for, not, enough, pay, ., You, 'll, always, be, putting, out, \", fires, \", and, will, get, little, support, from, management, .,  , Promotions, are, biased, .)\n",
       "4896                                                                                                                                                                                                                                                                                                                                                                                                                                                                                                                                                                                                                        (None, really, ,, sales, role, comes, with, typical, stresses, .)\n",
       "7872                                                                                                                                                                                                                                                                                                                                                           (Management, does, n't, appreciate, ,, vision, and, continuous, improvement, .,  , Just, keeping, things, the, same, way, they, have, always, been, is, the, easy, way, .,  , And, build, a, culture, of, young, ,, less, experienced, people, who, do, n't, have, a, lot, to, offer, beyond, what, they, do, day, to, day, .)\n",
       "7522                                                                                                                                                                                                              (The, company, moves, \", at, the, speed, of, light, ,, \", but, at, the, same, time, ,, sometimes, it, takes, too, long, to, get, things, done, .,   , That, can, be, frustrating, .,    , However, ,, if, one, is, persistent, ,, you, can, keep, things, moving, .,    , The, hours, are, long, and, the, workload, is, demanding, .,  , That, works, for, some, people, ,, but, not, others, .,  , It, is, something, for, a, prospective, employee, to, think, about, .)\n",
       "4389                                                                                                                                                                                                                                                                                                                                                                                                                          (Working, specific, hours, are, better, for, inventory, and, warehouse, hours, ., Warehouses, closed, on, weekends, ., Buyers, have, trouble, forecasting, so, constant, inventory, issues, ., Must, work, in, region, even, though, it, 's, home, -, based, .)\n",
       "3053                                                                                                                                                                                                                                                                                                                                                                                                                                                                                                                                                                                                                             (Re, organization, happens, often, that, alters, the, goals)\n",
       "8238                                                                                                                                                                                                                                                                                                                                                                                                                                         (Remote, employees, are, neglected, and, forgotten, \\n, Product, and, Development, on, an, island, and, do, n't, work, well, with, other, departments, \\n, Integrations, seemed, random, and, poorly, thought, out, while, big, ones, neglected)\n",
       "7521                                                                                                                                                                                                                                                                                                                                                                                                                                                                             (Things, change, at, the, speed, of, light, ,, so, does, n't, work, well, for, people, who, get, attached, to, projects, or, ca, n't, pivot, quickly, ., Office, decor, could, be, warmer, /, friendlier, .)\n",
       "36                                                (There, 's, a, general, departure, from, the, original, get, things, done, culture, and, an, emerging, middle, management, political, ware, going, on, ., \\n\\n, Most, middle, management, and, promotions, are, granted, on, a, political, basis, ;, lots, of, kiss, assing, and, back, scratching, going, on, ., It, still, works, because, the, underlying, organic, growth, is, strong, ,, but, once, growth, slows, ,, the, cracks, will, sink, this, ship, ., \\n\\n, Terrible, place, for, long, term, career, development, ., Managers, change, ,, orgs, change, ,, equity, is, stagnant, ,, and, the, pay, is, far, below, market, .)\n",
       "5533                                                                                                                                                                                                                                                                                                                                                                                                                                                                                                                                                   (not, many, cons, ., Looking, forward, to, completing, integration, with, Plantronics, and, more, stability, with, senior, management)\n",
       "4897                                                                                                                                                                                                                                                                                                                                                                                                                                          (My, department, is, a, little, bit, newer, ,, so, some, struggles, in, getting, everything, right, ., You, also, have, to, know, that, sales, there, is, n't, a, seasonal, gig, ,, it, 's, continuous, so, be, ready, to, play, every, day, .)\n",
       "3055                                                                                                                                                                                                                                                                                                                                                                                                                                                                                                                                                                                                 (The, company, needs, to, invest, more, in, updating, the, core, underlying, technology)\n",
       "3051                                                                                                                                                                                                                                                                                                                                                                                                                                                                                                                                                                                                                                          (Culture, seems, to, be, taking, a, decline, .)\n",
       "7877                                                                                                                                                                                                                                                                                                                                                                                                                                                                                                                                                                                                                                                    (Work, culture, is, not, that, great)\n",
       "6960                                                                                                                                                                                                                                                                                                                                                                                                                                                                                                                            (Communication, /, cooperation, between, departments, can, be, lacking, .,  , Pay, is, below, competition, depending, on, what, department, you, work, in, .)\n",
       "3958                                                                                                                                                                                                                                                                                                                                                                                                                                                                                                                                                                                                                                           (Not, much, personal, growth, or, training, .)\n",
       "2097                                                                                                                                                                                                                                                                                                                                                                                                                                                                                     (Terrible, customers, -, Everything, is, quota, based, ., Even, if, you, bend, over, backwards, to, help, a, customer, who, needs, it, and, do, n't, meet, your, quota, -, it, does, n't, matter, .)\n",
       "                                                                                                                                                                                                                                                                                                                                                ...                                                                                                                                                                                                                                                                                                                                          \n",
       "3668                                                                                                                                                                                                                                                                                                                                                                                                                                                                                                                                                                                                                                             (hard, work,                   , slow, days)\n",
       "96                                                                                                                                                                                                                                                                                                                                                                                                                                                                                                                                                                                                                                          (Nothing, negative, to, say, about, the, company)\n",
       "7132                                                                                                                                                                                                                                                                                                                                                                                                                                                                                                                                                                  (None, ,, really, ., Ummm, ..., No, free, half-&-half, for, the, coffee, ?, That, 's, about, all, I, can, think, of, .)\n",
       "6313                                                                                                                                                                                                                                                                                                                                                                                                                                                                                                                                                                   (career, evolution, ,, promotional, opportunities, ,, ability, to, change, roles, /, salaries, /, bonus, structure, .)\n",
       "753                                                                                                                                                                                                                                                                                                                                                                                                                                                                                                                                      (General, pains, that, companies, go, through, when, there, is, rapid, growth, \\n, Weekly, company, meetings, that, go, until, 5, pm, every, Friday)\n",
       "7000                                                                                                                                                                                                                                                                                                                                                                                                                                                                                                                                                                                                                                                     (There, are, no, negatives, so, far)\n",
       "7804                                                                                                                                                                                                                                                                                                                                                                                                                                                                                               (Not, very, well, organized, ,, and, still, not, making, money, ,,  , but, seems, better, under, new, CEO, as, of, last, year, .,  , Long, term, company, prospects, remain, uncertain, .)\n",
       "3097                                                                                                                                                                                                                                                                                                                                                                                                                                                                                                                                                                                    (Company, has, not, yet, come, to, terms, with, employment, competition, in, the, Front, Range, area)\n",
       "1908                                                                                                                                                                                                                                                                                                                                                                                                           (Recent, growth, has, been, a, rough, ride, for, some, ., But, opportunities, arise, through, change, for, those, motivated, to, succeed, ., \\n\\n, No, company, paid, team, outings, ., The, Boss, should, n't, have, to, pay, out, of, pocket, to, keep, his, team, happy, !)\n",
       "0                                                                                                                                                                                                                                                                                                                                                      (I, do, n't, have, any, ,, honestly, ., The, only, minor, inconvenience, is, the, growing, pain, of, not, having, enough, meeting, rooms, available, ,, but, we, 're, getting, a, new, office, and, since, I, work, with, so, many, people, outside, of, the, SF, office, ,, we, can, all, meet, on, a, video, conference, anyways, .)\n",
       "90                                                                                                                                                                                                                                                                                                                                                                                                                                                                                                                                                                                   (Lots, of, documentation, and, reporting, ,, of, course, good, documentation, is, a, necessary, evil, .)\n",
       "280                                                                                                                                                                                                                                                                                                                                                                                                                                                                                                                                                                                                                                       (10, min, streetcar, ride, away, from, the, subway)\n",
       "560                                                                                                                                                                                                                                                                                                                                                                                                                                                                                (I, would, imagine, that, our, CONS, are, at, every, other, software, company, as, well, .,  , We, do, get, in, our, own, way, at, times, .,  , The, Pros, out, weigh, the, Cons, tremendously, though, .)\n",
       "650                                                                                                                                                                                                                                                                                                                                                                                                                                                                                                                                                                                                                                                         (None, to, tell, at, this, point)\n",
       "2550                                                                                                                                                                                                                                                                                                                                                                                                                                                                                                                                                 (-, Can, be, overwhelming, ,, very, steep, learning, curve, \\n, -, Can, be, difficult, to, keep, up, if, you, are, not, self, motivated)\n",
       "2860                                                                                                                                                                                                                                                                                                                                                                                                                                                                                                                                                                                                                                                        (None, that, I, could, think, of)\n",
       "3231                                                                                                                                                                                                                                                                                                                                                                                                                                                                                                                                                                                                                               (Nothing, that, sticks, out, vs, other, jobs, I, 've, had)\n",
       "3575                                                                                                                                                                                                                                                                                                                                                                               (The, media, storm, (, and, internal, storm, ), which, the, company, underwent, in, the, last, few, years, left, a, strong, impact, ., However, ,, I, 'm, convinced, that, it, turned, things, around, for, the, better, ,, and, that, we, 're, a, much, healthier, ,, better, company, for, it, today, .)\n",
       "3775                                                                                                                                                                                                                                                                                                                                                                                                                                                                                                                                                                                                               (Before, culture, was, old, but, now, its, changing, and, getting, better)\n",
       "4095                                                                                                                                                                                                                                                                                                                                                                                                                                                                                                      (No, cons, to, speak, of, ., But, you, will, have, to, embrace, the, culture, to, succeed, ., It, really, is, on, the, key, USPs, of, the, business, ,, alongside, the, product, .)\n",
       "4725                                                                                                                                                                                                                                                                                                                                                                                                                                                                                                                                                                                                                                                               (No, cons, at, this, time)\n",
       "6139                                                                                                                                                                                                                                                                                                                                                                                                                                                                                                                                                                                                     (Change, -, all, companies, change, but, HS, is, still, trying, to, find, its, feet)\n",
       "6229                                                                                                                            (-, The, commute, /, traffic, to, RTP, ., \\n, -, Like, many, large, companies, ,, there, are, a, lot, of, old, tools, ,, processes, ,, and, systems, that, you, have, to, use, to, do, your, job, ., They, are, working, hard, to, consolidate, them, though, !, \\n, -, Again, ,, with, many, other, large, companies, ,, lay, offs, can, happen, (, but, Cisco, did, put, on, an, internal, career, fair, the, last, time, for, those, being, displaced, to, try, and, refill, open, positions, based, on, skillsets, of, those, that, were, impacted, ., ))\n",
       "6515                                                                                                                                    (So, why, not, 5, stars, ,, you, ask, ?, Like, others, have, mentioned, ,, the, company, is, growing, ,, and, with, that, come, growing, pains, ., They, need, to, establish, more, processes, to, add, the, discipline, needed, with, a, big, company, ., We, do, n't, want, bureaucracy, ,, but, in, big, companies, ,, unfortunately, that, 's, needed, ., We, sometimes, hire, leaders, that, talk, a, big, game, ,, but, when, it, comes, down, to, it, ,, do, n't, know, how, to, execute, ., So, it, 's, a, matter, of, finding, our, pace, .)\n",
       "6605                                                                                                                                                                                                                                                                                                                                                                                                                                                                                                                                                                                                      (The, cons, are, trivial, in, light, of, the, pros, ., No, company, is, perfect, .)\n",
       "6969                                                                                                                                                                                                                                                                                                                                                                                                                                                                                         (No, real, cons, from, a, working, perspective, ,, I, could, get, picky, and, say, the, elevators, get, crowded, at, lunch, time, and, parking, is, tough, if, you, show, up, to, work, late, !)\n",
       "7794                                                                                                                                                                                                                                                                                                                                                                                                                                                                                                                                                                                                                                              (sometimes, hard, to, set, job, priorities)\n",
       "8124                                                                                                                                                                                                                                                                                                                                                                                                                                                                                                                                                                     (Standard, growing, pains, \\n, No, 401k, match, \\n, Physical, office, location, can, be, annoying, due, to, traffic)\n",
       "8344                                                                                                                                                                                                                                                                                                                                                                                                                                        (The, downside, of, lots, of, ownership, &, hard, problems, is, that, work, -, life, balance, can, struggle, ., Definitely, not, a, cultural, norm, that, is, expected, ,, but, something, that, comes, naturally, at, times, in, some, projects)\n",
       "8434                                                                                                                                                                                                                                                                                                                                                                                                                                                                                                                                                                     (Job, skills, not, really, transferrable, outside, semiconductor, mfg, \\n, Clearly, second, class, to, headquarters)\n",
       "Name: Parsed_cons, Length: 7290, dtype: object"
      ]
     },
     "execution_count": 72,
     "metadata": {},
     "output_type": "execute_result"
    }
   ],
   "source": [
    "pd.set_option(\"display.max_colwidth\",10000)\n",
    "df['Parsed_cons']"
   ]
  },
  {
   "cell_type": "code",
   "execution_count": 5,
   "metadata": {},
   "outputs": [],
   "source": [
    "from scipy import spatial\n",
    "cosine_similarity = lambda x, y: 1 - spatial.distance.cosine(x, y)\n"
   ]
  },
  {
   "cell_type": "code",
   "execution_count": 101,
   "metadata": {},
   "outputs": [
    {
     "name": "stdout",
     "output_type": "stream",
     "text": [
      "['turnover', 'Turnover', 'TURNOVER', 'Turnovers', 'turnovers', 'TURNOVERS', 'Quarter', 'QUARTER', 'quarter', 'GROWTH']\n"
     ]
    }
   ],
   "source": [
    "\n",
    "computed_similarities = []\n",
    "#woman = nlp.vocab['woman'].vector\n",
    "#gender = nlp.vocab['gender'].vector\n",
    "#word_of_interest = woman + gender\n",
    "word_of_interest = nlp.vocab[u'turnover'].vector\n",
    "\n",
    "for word in nlp.vocab:\n",
    "    # Ignore words without vectors\n",
    "    if not word.has_vector:\n",
    "        continue\n",
    " \n",
    "    similarity = cosine_similarity(word_of_interest, word.vector)\n",
    "    computed_similarities.append((word, similarity))\n",
    " \n",
    "computed_similarities = sorted(computed_similarities, key=lambda item: -item[1])\n",
    "print([w[0].text for w in computed_similarities[:10]])\n",
    " "
   ]
  },
  {
   "cell_type": "markdown",
   "metadata": {},
   "source": [
    "### top 10 most similar words to:\n",
    "#### \"gender\"\n",
    "['GENDER', 'gender', 'Gender', 'Sexuality', 'sexuality', 'SEXUALITY', 'Ethnicity', 'ETHNICITY', 'ethnicity', 'Genders']\n",
    "\n",
    "####  \"woman\" + \"gender\n",
    "['WOMAN', 'womAn', 'WOman', 'woman', 'Woman', 'woMAN', 'GENDER', 'gender', 'Gender', 'WOMEN']\n",
    "\n",
    "####  bias\n",
    "['Bias', 'bias', 'BIAS', 'Biased', 'BIASED', 'biased', 'biases', 'BIASES', 'Biases', 'prejudice']\n",
    "\n",
    "#### tharassment\n",
    "['Harassment', 'harassment', 'HARASSMENT', 'Harrassment', 'harrassment', 'INTIMIDATION', 'intimidation', 'Intimidation', 'DISCRIMINATION', 'Discrimination']\n",
    "\n",
    "#### low-pay\n",
    "['low-pay', 'Low-Pay', 'LOW-PAY', 'low-skill', 'LOW-SKILL', 'Low-Skill', 'low-paying', 'Low-Paying', 'Low-paying', 'LOW-PAYING']\n",
    "\n",
    "#### salary\n",
    "['SALARY', 'salary', 'Salary', 'salaries', 'SALARIES', 'Salaries', 'WAGES', 'wages', 'Wages', 'Payroll']\n",
    "\n",
    "#### Management\n",
    "['management', 'Management', 'MANAGEMENT', 'MANAGING', 'managing', 'Managing', 'managment', 'Managment', 'MANAGMENT', 'Managers']\n",
    "\n",
    "\n"
   ]
  },
  {
   "cell_type": "markdown",
   "metadata": {},
   "source": [
    "### Create features"
   ]
  },
  {
   "cell_type": "code",
   "execution_count": 73,
   "metadata": {},
   "outputs": [],
   "source": [
    "search_doc = nlp(u'bad work life balance')\n",
    "tokens = df['Parsed_cons']\n",
    "work_life_bal = []\n",
    "for token in tokens:\n",
    "    sim = token.similarity(search_doc)\n",
    "    work_life_bal.append(sim)\n"
   ]
  },
  {
   "cell_type": "code",
   "execution_count": 74,
   "metadata": {},
   "outputs": [
    {
     "data": {
      "text/plain": [
       "0.9821525359447885"
      ]
     },
     "execution_count": 74,
     "metadata": {},
     "output_type": "execute_result"
    }
   ],
   "source": [
    "import numpy as np\n",
    "np.min(work_life_bal)\n",
    "np.max(work_life_bal)"
   ]
  },
  {
   "cell_type": "code",
   "execution_count": 75,
   "metadata": {},
   "outputs": [],
   "source": [
    "equality = []\n",
    "search_doc = nlp(u'equality')\n",
    "for token in tokens:\n",
    "    sim = token.similarity(search_doc)\n",
    "    equality.append(sim)"
   ]
  },
  {
   "cell_type": "code",
   "execution_count": 76,
   "metadata": {},
   "outputs": [
    {
     "data": {
      "text/plain": [
       "0.060099468119631405"
      ]
     },
     "execution_count": 76,
     "metadata": {},
     "output_type": "execute_result"
    }
   ],
   "source": [
    "np.min(equality)\n",
    "#np.max(equality)"
   ]
  },
  {
   "cell_type": "code",
   "execution_count": 77,
   "metadata": {},
   "outputs": [],
   "source": [
    "gender = []\n",
    "search_doc = nlp(u'gender')\n",
    "for token in tokens:\n",
    "    sim = token.similarity(search_doc)\n",
    "    gender.append(sim)"
   ]
  },
  {
   "cell_type": "code",
   "execution_count": 78,
   "metadata": {},
   "outputs": [
    {
     "data": {
      "text/plain": [
       "0.556511413150163"
      ]
     },
     "execution_count": 78,
     "metadata": {},
     "output_type": "execute_result"
    }
   ],
   "source": [
    "np.max(gender)"
   ]
  },
  {
   "cell_type": "code",
   "execution_count": 79,
   "metadata": {},
   "outputs": [],
   "source": [
    "bias = []\n",
    "search_doc = nlp(u'bias')\n",
    "for token in tokens:\n",
    "    sim = token.similarity(search_doc)\n",
    "    bias.append(sim)"
   ]
  },
  {
   "cell_type": "code",
   "execution_count": 80,
   "metadata": {},
   "outputs": [
    {
     "data": {
      "text/plain": [
       "0.5230408460429696"
      ]
     },
     "execution_count": 80,
     "metadata": {},
     "output_type": "execute_result"
    }
   ],
   "source": [
    "np.max(bias)"
   ]
  },
  {
   "cell_type": "code",
   "execution_count": 81,
   "metadata": {},
   "outputs": [
    {
     "data": {
      "text/plain": [
       "7290"
      ]
     },
     "execution_count": 81,
     "metadata": {},
     "output_type": "execute_result"
    }
   ],
   "source": [
    "len(bias)"
   ]
  },
  {
   "cell_type": "code",
   "execution_count": 82,
   "metadata": {},
   "outputs": [],
   "source": [
    "harassment = []\n",
    "search_doc = nlp(u'harassment')\n",
    "for token in tokens:\n",
    "    sim = token.similarity(search_doc)\n",
    "    harassment.append(sim)\n",
    "    \n",
    "sexual_harassment = []\n",
    "search_doc = nlp(u'sexual harassment')\n",
    "for token in tokens:\n",
    "    sim = token.similarity(search_doc)\n",
    "    sexual_harassment.append(sim)"
   ]
  },
  {
   "cell_type": "code",
   "execution_count": 83,
   "metadata": {},
   "outputs": [
    {
     "data": {
      "text/plain": [
       "0.1383988996399098"
      ]
     },
     "execution_count": 83,
     "metadata": {},
     "output_type": "execute_result"
    }
   ],
   "source": [
    "np.min(sexual_harassment)"
   ]
  },
  {
   "cell_type": "code",
   "execution_count": 84,
   "metadata": {},
   "outputs": [
    {
     "data": {
      "text/plain": [
       "0.8614589518465464"
      ]
     },
     "execution_count": 84,
     "metadata": {},
     "output_type": "execute_result"
    }
   ],
   "source": [
    "low_pay = []\n",
    "search_doc = nlp(u'low-pay')\n",
    "for token in tokens:\n",
    "    sim = token.similarity(search_doc)\n",
    "    low_pay.append(sim)\n",
    "np.max(low_pay)"
   ]
  },
  {
   "cell_type": "code",
   "execution_count": 85,
   "metadata": {},
   "outputs": [
    {
     "data": {
      "text/plain": [
       "0.6528421147939932"
      ]
     },
     "execution_count": 85,
     "metadata": {},
     "output_type": "execute_result"
    }
   ],
   "source": [
    "bureaucracy = []\n",
    "search_doc = nlp(u'bureaucracy')\n",
    "for token in tokens:\n",
    "    sim = token.similarity(search_doc)\n",
    "    bureaucracy.append(sim)\n",
    "np.max(bureaucracy)"
   ]
  },
  {
   "cell_type": "code",
   "execution_count": 86,
   "metadata": {},
   "outputs": [
    {
     "data": {
      "text/plain": [
       "0.03409948784777343"
      ]
     },
     "execution_count": 86,
     "metadata": {},
     "output_type": "execute_result"
    }
   ],
   "source": [
    "np.min(bureaucracy)"
   ]
  },
  {
   "cell_type": "code",
   "execution_count": 87,
   "metadata": {},
   "outputs": [
    {
     "name": "stdout",
     "output_type": "stream",
     "text": [
      "0.8721059539784616\n"
     ]
    }
   ],
   "source": [
    "main_doc = nlp(u'still moving around the same old managers making the same old mistakes work life balance is a joke work   hours a week and try to find a home balance')\n",
    "search_doc = nlp(u'bad work life balance')\n",
    "print(search_doc.similarity(main_doc))"
   ]
  },
  {
   "cell_type": "code",
   "execution_count": 88,
   "metadata": {},
   "outputs": [
    {
     "data": {
      "text/plain": [
       "0.9821525359447885"
      ]
     },
     "execution_count": 88,
     "metadata": {},
     "output_type": "execute_result"
    }
   ],
   "source": [
    "bad_worklife = []\n",
    "search_doc = nlp(u'bad work life balance')\n",
    "for token in tokens:\n",
    "    sim = token.similarity(search_doc)\n",
    "    bad_worklife.append(sim)\n",
    "np.max(bad_worklife)"
   ]
  },
  {
   "cell_type": "code",
   "execution_count": 89,
   "metadata": {},
   "outputs": [
    {
     "data": {
      "text/plain": [
       "0.6593382108876116"
      ]
     },
     "execution_count": 89,
     "metadata": {},
     "output_type": "execute_result"
    }
   ],
   "source": [
    "turnover = []\n",
    "search_doc = nlp(u'turnover')\n",
    "for token in tokens:\n",
    "    sim = token.similarity(search_doc)\n",
    "    turnover.append(sim)\n",
    "np.max(turnover)"
   ]
  },
  {
   "cell_type": "code",
   "execution_count": 90,
   "metadata": {},
   "outputs": [
    {
     "data": {
      "text/plain": [
       "0.013564410723681433"
      ]
     },
     "execution_count": 90,
     "metadata": {},
     "output_type": "execute_result"
    }
   ],
   "source": [
    "np.min(turnover)"
   ]
  },
  {
   "cell_type": "code",
   "execution_count": 91,
   "metadata": {},
   "outputs": [
    {
     "data": {
      "text/plain": [
       "0.9617493527011777"
      ]
     },
     "execution_count": 91,
     "metadata": {},
     "output_type": "execute_result"
    }
   ],
   "source": [
    "no_problems = []\n",
    "search_doc = nlp(u'cant think of any')\n",
    "for token in tokens:\n",
    "    sim = token.similarity(search_doc)\n",
    "    no_problems.append(sim)\n",
    "np.max(no_problems)"
   ]
  },
  {
   "cell_type": "code",
   "execution_count": 92,
   "metadata": {},
   "outputs": [
    {
     "data": {
      "text/plain": [
       "0.3605104214807551"
      ]
     },
     "execution_count": 92,
     "metadata": {},
     "output_type": "execute_result"
    }
   ],
   "source": [
    "np.min(no_problems)"
   ]
  },
  {
   "cell_type": "code",
   "execution_count": 93,
   "metadata": {},
   "outputs": [
    {
     "data": {
      "text/plain": [
       "0.6885535239255663"
      ]
     },
     "execution_count": 93,
     "metadata": {},
     "output_type": "execute_result"
    }
   ],
   "source": [
    "female_friendly = []\n",
    "search_doc = nlp(u'female friendly')\n",
    "for token in tokens:\n",
    "    sim = token.similarity(search_doc)\n",
    "    female_friendly.append(sim)\n",
    "np.max(female_friendly)"
   ]
  },
  {
   "cell_type": "code",
   "execution_count": 94,
   "metadata": {},
   "outputs": [
    {
     "data": {
      "text/plain": [
       "0.22792153791099917"
      ]
     },
     "execution_count": 94,
     "metadata": {},
     "output_type": "execute_result"
    }
   ],
   "source": [
    "np.min(female_friendly)"
   ]
  },
  {
   "cell_type": "code",
   "execution_count": 95,
   "metadata": {},
   "outputs": [],
   "source": [
    "#save features\n",
    "df['con_work_life_bal'] = work_life_bal\n",
    "df['con_equality'] = equality\n",
    "df['con_gender'] = gender\n",
    "df['con_harassment'] = harassment\n",
    "df['con_bias'] = bias\n",
    "df['consexual_harassment'] = sexual_harassment\n",
    "df['con_low_pay'] = low_pay\n",
    "df['con_bureaucracy'] = bureaucracy\n",
    "df['con_turnover'] = turnover\n",
    "df['con_no_problems'] = no_problems\n",
    "df['con_female_friendly'] = female_friendly\n",
    "df['con_worklife'] = bad_worklife\n"
   ]
  },
  {
   "cell_type": "code",
   "execution_count": 31,
   "metadata": {},
   "outputs": [
    {
     "data": {
      "text/html": [
       "<div>\n",
       "<style scoped>\n",
       "    .dataframe tbody tr th:only-of-type {\n",
       "        vertical-align: middle;\n",
       "    }\n",
       "\n",
       "    .dataframe tbody tr th {\n",
       "        vertical-align: top;\n",
       "    }\n",
       "\n",
       "    .dataframe thead th {\n",
       "        text-align: right;\n",
       "    }\n",
       "</style>\n",
       "<table border=\"1\" class=\"dataframe\">\n",
       "  <thead>\n",
       "    <tr style=\"text-align: right;\">\n",
       "      <th></th>\n",
       "      <th>company</th>\n",
       "      <th>cons</th>\n",
       "      <th>Overall</th>\n",
       "      <th>Paid Time Off</th>\n",
       "      <th>Ability Telecommute</th>\n",
       "      <th>Flexible Hours</th>\n",
       "      <th>Social Environment</th>\n",
       "      <th>Coworkers</th>\n",
       "      <th>Wellness Initiatives</th>\n",
       "      <th>Mentorship</th>\n",
       "      <th>...</th>\n",
       "      <th>con_gender</th>\n",
       "      <th>con_harassment</th>\n",
       "      <th>con_bias</th>\n",
       "      <th>consexual_harassment</th>\n",
       "      <th>con_low_pay</th>\n",
       "      <th>con_bureaucracy</th>\n",
       "      <th>con_turnover</th>\n",
       "      <th>con_no_problems</th>\n",
       "      <th>con_female_friendly</th>\n",
       "      <th>con_worklife</th>\n",
       "    </tr>\n",
       "  </thead>\n",
       "  <tbody>\n",
       "    <tr>\n",
       "      <th>0</th>\n",
       "      <td>360Training</td>\n",
       "      <td>The most tenure someone has there that is not the COO is 1 year.  Look at their blog to see how many employees have come and gone in a matter of months.  Wondering the reason for the turnover?  The CEO is verbally abusive and loves chaos and creating chaos.  He has no clue how to run a company.  Be sure to ask detailed questions about the current clients and profitability - they have never sold this platform to a single client. Company experiencing high staff Turnover Poor leadership. Untrustworthy. No transparency. Not all employees have accepted the new structure and can cause negativity throughout the office. Why does it seem that everyone is leaving a sinking ship? In the last 3 months more than half of the most competent people have left. During lunch and smoke breaks the topic #1 is applying for other jobs. What is going on that most of us are not hearing about? I can only recommend for new-comers to question the financials before taking a new job at 360 No cons here anymore....</td>\n",
       "      <td>1.9</td>\n",
       "      <td>2.2</td>\n",
       "      <td>2.8</td>\n",
       "      <td>3.0</td>\n",
       "      <td>2.4</td>\n",
       "      <td>2.0</td>\n",
       "      <td>1.8</td>\n",
       "      <td>1.2</td>\n",
       "      <td>...</td>\n",
       "      <td>0.382313</td>\n",
       "      <td>0.300220</td>\n",
       "      <td>0.349112</td>\n",
       "      <td>0.409909</td>\n",
       "      <td>0.638440</td>\n",
       "      <td>0.317306</td>\n",
       "      <td>0.294731</td>\n",
       "      <td>0.860891</td>\n",
       "      <td>0.525696</td>\n",
       "      <td>0.835213</td>\n",
       "    </tr>\n",
       "    <tr>\n",
       "      <th>1</th>\n",
       "      <td>3m</td>\n",
       "      <td>Modernization of lab buildings as they are vastly different. WFH is not uniformly applied. Unless there is a serious family emergency my manager does not allow it. Very retro I feel like I have to punch a time clock. Should be able to get project work done flexibly with your family rather than filling a chair for 8.5 hrs. This is specific to inside sales and the current management in place.  Management has never been in sales before. yet are in charge of sales.  Lack of understanding about sales process and how a sales cycle even works. It has changed from sales performance to metric based \"calls\" and \"correct contacts\" rather than the customer focused top line. Many employees are calling it their call center job because that's where the current  manager came from and runs it like that. Micromanagement and low morale haunts pieces of the personal safety division.  If you apply go for some area outside of inside sales and you'll be much happier. If you apply for a job outside of the...</td>\n",
       "      <td>3.3</td>\n",
       "      <td>3.7</td>\n",
       "      <td>3.0</td>\n",
       "      <td>3.2</td>\n",
       "      <td>2.7</td>\n",
       "      <td>3.4</td>\n",
       "      <td>3.7</td>\n",
       "      <td>3.0</td>\n",
       "      <td>...</td>\n",
       "      <td>0.398621</td>\n",
       "      <td>0.296322</td>\n",
       "      <td>0.362813</td>\n",
       "      <td>0.410812</td>\n",
       "      <td>0.641492</td>\n",
       "      <td>0.329191</td>\n",
       "      <td>0.304105</td>\n",
       "      <td>0.852979</td>\n",
       "      <td>0.531498</td>\n",
       "      <td>0.840051</td>\n",
       "    </tr>\n",
       "    <tr>\n",
       "      <th>2</th>\n",
       "      <td>AMD</td>\n",
       "      <td>the usual cons - slow to execute I didn't feel the downsides GameStop and i love it management was not as transparent More documentation and some learning curve Comparison to other software company AMD's pay is not the best. But still good. Zero career growth. Same routine work year after year especially in India. Even the software services companies provide better work and better career opportunities. No work/life balance. Any other company would provide better compensation and benefits. Horrible work culture. Too much politics especially by the India senior management. Employees are exploited like anything and are treated like how Indians treat their maids. One might sacrifice and give everything to the company year after year but eventually the India management will treat you like dirt. Need more resources for development New guys don't get itThat new guy leading your team - Company not aggressive for the market domains Management works in an archaic fashion and resists changeSh...</td>\n",
       "      <td>3.6</td>\n",
       "      <td>4.0</td>\n",
       "      <td>3.6</td>\n",
       "      <td>4.0</td>\n",
       "      <td>3.3</td>\n",
       "      <td>3.9</td>\n",
       "      <td>3.4</td>\n",
       "      <td>2.7</td>\n",
       "      <td>...</td>\n",
       "      <td>0.398897</td>\n",
       "      <td>0.300211</td>\n",
       "      <td>0.365045</td>\n",
       "      <td>0.412289</td>\n",
       "      <td>0.651354</td>\n",
       "      <td>0.344961</td>\n",
       "      <td>0.323316</td>\n",
       "      <td>0.845815</td>\n",
       "      <td>0.538199</td>\n",
       "      <td>0.851759</td>\n",
       "    </tr>\n",
       "    <tr>\n",
       "      <th>3</th>\n",
       "      <td>AT&amp;T</td>\n",
       "      <td>Lack of training in product.  Customers suffer because of delays in delivery.  Escalation is their favorite word. The Stressful sales driven environment. Moving majority of the work overseas They own you . Sign up with the golden handcuffs Moving up in the company is tough Nesting without commission pay. I feel like if we can sell while still in training we should be rewarded our commission. Zero growth opportunity for most Inefficient management in some departmentsVery little accountability a lot of people passing blame or not even acknowledging when something is wrong Forced over time take away second day off in the week toxic work environment. The sales goals are extremely competitive and sometimes unrealistic I work in the government support area so it it difficult dealing with governmental processes but nothing unsolvable. Long hours away from family.  Constantly piling on work outside of original scope.  Forced mandatory overtime Too many companywide layoffs by the AVP and up...</td>\n",
       "      <td>2.9</td>\n",
       "      <td>3.4</td>\n",
       "      <td>2.1</td>\n",
       "      <td>2.3</td>\n",
       "      <td>2.2</td>\n",
       "      <td>3.2</td>\n",
       "      <td>2.2</td>\n",
       "      <td>2.7</td>\n",
       "      <td>...</td>\n",
       "      <td>0.388176</td>\n",
       "      <td>0.303625</td>\n",
       "      <td>0.351141</td>\n",
       "      <td>0.413959</td>\n",
       "      <td>0.653679</td>\n",
       "      <td>0.331175</td>\n",
       "      <td>0.308587</td>\n",
       "      <td>0.857053</td>\n",
       "      <td>0.529877</td>\n",
       "      <td>0.847243</td>\n",
       "    </tr>\n",
       "    <tr>\n",
       "      <th>4</th>\n",
       "      <td>Accruent</td>\n",
       "      <td>Don't expect to get paid well and there has been a lot of \"churn\" since the new COO came aboard. Compensation during my tenure was definitely on the low side and depending on the role there may not be much room for advancement. The workers are undervalued and suffer a total lack of empowerment from upper management. The company sells that it is a great place to work on the merits of fun atmosphere appealing office flexible schedules and open PTO. However this comes at a cost of very high expectations for workers to work nights/weekends and base salary as much as $40k below market average. Newbies advised: there are a million tech companies with nice breakrooms fun events and smart people that will pay you what you're worth not half the industry standard (especially you developers!). Low pay relative to market Communication is not great at times Rapidly expanding without the proper infrastructure. Work life balance is a bit challenging but management is working on fixing it. My majo...</td>\n",
       "      <td>3.2</td>\n",
       "      <td>4.6</td>\n",
       "      <td>4.0</td>\n",
       "      <td>4.0</td>\n",
       "      <td>3.9</td>\n",
       "      <td>3.8</td>\n",
       "      <td>3.6</td>\n",
       "      <td>3.2</td>\n",
       "      <td>...</td>\n",
       "      <td>0.382924</td>\n",
       "      <td>0.289435</td>\n",
       "      <td>0.351523</td>\n",
       "      <td>0.401557</td>\n",
       "      <td>0.644374</td>\n",
       "      <td>0.311975</td>\n",
       "      <td>0.298724</td>\n",
       "      <td>0.859081</td>\n",
       "      <td>0.526612</td>\n",
       "      <td>0.832827</td>\n",
       "    </tr>\n",
       "  </tbody>\n",
       "</table>\n",
       "<p>5 rows × 59 columns</p>\n",
       "</div>"
      ],
      "text/plain": [
       "       company  \\\n",
       "0  360Training   \n",
       "1           3m   \n",
       "2          AMD   \n",
       "3         AT&T   \n",
       "4     Accruent   \n",
       "\n",
       "                                                                                                                                                                                                                                                                                                                                                                                                                                                                                                                                                                                                                                                                                                                                                                                                                                                                                                                                                                                                                                      cons  \\\n",
       "0  The most tenure someone has there that is not the COO is 1 year.  Look at their blog to see how many employees have come and gone in a matter of months.  Wondering the reason for the turnover?  The CEO is verbally abusive and loves chaos and creating chaos.  He has no clue how to run a company.  Be sure to ask detailed questions about the current clients and profitability - they have never sold this platform to a single client. Company experiencing high staff Turnover Poor leadership. Untrustworthy. No transparency. Not all employees have accepted the new structure and can cause negativity throughout the office. Why does it seem that everyone is leaving a sinking ship? In the last 3 months more than half of the most competent people have left. During lunch and smoke breaks the topic #1 is applying for other jobs. What is going on that most of us are not hearing about? I can only recommend for new-comers to question the financials before taking a new job at 360 No cons here anymore....   \n",
       "1  Modernization of lab buildings as they are vastly different. WFH is not uniformly applied. Unless there is a serious family emergency my manager does not allow it. Very retro I feel like I have to punch a time clock. Should be able to get project work done flexibly with your family rather than filling a chair for 8.5 hrs. This is specific to inside sales and the current management in place.  Management has never been in sales before. yet are in charge of sales.  Lack of understanding about sales process and how a sales cycle even works. It has changed from sales performance to metric based \"calls\" and \"correct contacts\" rather than the customer focused top line. Many employees are calling it their call center job because that's where the current  manager came from and runs it like that. Micromanagement and low morale haunts pieces of the personal safety division.  If you apply go for some area outside of inside sales and you'll be much happier. If you apply for a job outside of the...   \n",
       "2  the usual cons - slow to execute I didn't feel the downsides GameStop and i love it management was not as transparent More documentation and some learning curve Comparison to other software company AMD's pay is not the best. But still good. Zero career growth. Same routine work year after year especially in India. Even the software services companies provide better work and better career opportunities. No work/life balance. Any other company would provide better compensation and benefits. Horrible work culture. Too much politics especially by the India senior management. Employees are exploited like anything and are treated like how Indians treat their maids. One might sacrifice and give everything to the company year after year but eventually the India management will treat you like dirt. Need more resources for development New guys don't get itThat new guy leading your team - Company not aggressive for the market domains Management works in an archaic fashion and resists changeSh...   \n",
       "3  Lack of training in product.  Customers suffer because of delays in delivery.  Escalation is their favorite word. The Stressful sales driven environment. Moving majority of the work overseas They own you . Sign up with the golden handcuffs Moving up in the company is tough Nesting without commission pay. I feel like if we can sell while still in training we should be rewarded our commission. Zero growth opportunity for most Inefficient management in some departmentsVery little accountability a lot of people passing blame or not even acknowledging when something is wrong Forced over time take away second day off in the week toxic work environment. The sales goals are extremely competitive and sometimes unrealistic I work in the government support area so it it difficult dealing with governmental processes but nothing unsolvable. Long hours away from family.  Constantly piling on work outside of original scope.  Forced mandatory overtime Too many companywide layoffs by the AVP and up...   \n",
       "4  Don't expect to get paid well and there has been a lot of \"churn\" since the new COO came aboard. Compensation during my tenure was definitely on the low side and depending on the role there may not be much room for advancement. The workers are undervalued and suffer a total lack of empowerment from upper management. The company sells that it is a great place to work on the merits of fun atmosphere appealing office flexible schedules and open PTO. However this comes at a cost of very high expectations for workers to work nights/weekends and base salary as much as $40k below market average. Newbies advised: there are a million tech companies with nice breakrooms fun events and smart people that will pay you what you're worth not half the industry standard (especially you developers!). Low pay relative to market Communication is not great at times Rapidly expanding without the proper infrastructure. Work life balance is a bit challenging but management is working on fixing it. My majo...   \n",
       "\n",
       "   Overall  Paid Time Off  Ability Telecommute  Flexible Hours  \\\n",
       "0      1.9            2.2                  2.8             3.0   \n",
       "1      3.3            3.7                  3.0             3.2   \n",
       "2      3.6            4.0                  3.6             4.0   \n",
       "3      2.9            3.4                  2.1             2.3   \n",
       "4      3.2            4.6                  4.0             4.0   \n",
       "\n",
       "   Social Environment  Coworkers  Wellness Initiatives  Mentorship  ...  \\\n",
       "0                 2.4        2.0                   1.8         1.2  ...   \n",
       "1                 2.7        3.4                   3.7         3.0  ...   \n",
       "2                 3.3        3.9                   3.4         2.7  ...   \n",
       "3                 2.2        3.2                   2.2         2.7  ...   \n",
       "4                 3.9        3.8                   3.6         3.2  ...   \n",
       "\n",
       "   con_gender  con_harassment  con_bias  consexual_harassment  con_low_pay  \\\n",
       "0    0.382313        0.300220  0.349112              0.409909     0.638440   \n",
       "1    0.398621        0.296322  0.362813              0.410812     0.641492   \n",
       "2    0.398897        0.300211  0.365045              0.412289     0.651354   \n",
       "3    0.388176        0.303625  0.351141              0.413959     0.653679   \n",
       "4    0.382924        0.289435  0.351523              0.401557     0.644374   \n",
       "\n",
       "   con_bureaucracy  con_turnover  con_no_problems  con_female_friendly  \\\n",
       "0         0.317306      0.294731         0.860891             0.525696   \n",
       "1         0.329191      0.304105         0.852979             0.531498   \n",
       "2         0.344961      0.323316         0.845815             0.538199   \n",
       "3         0.331175      0.308587         0.857053             0.529877   \n",
       "4         0.311975      0.298724         0.859081             0.526612   \n",
       "\n",
       "  con_worklife  \n",
       "0     0.835213  \n",
       "1     0.840051  \n",
       "2     0.851759  \n",
       "3     0.847243  \n",
       "4     0.832827  \n",
       "\n",
       "[5 rows x 59 columns]"
      ]
     },
     "execution_count": 31,
     "metadata": {},
     "output_type": "execute_result"
    }
   ],
   "source": [
    "df.head()"
   ]
  },
  {
   "cell_type": "markdown",
   "metadata": {},
   "source": [
    "## pros"
   ]
  },
  {
   "cell_type": "code",
   "execution_count": 96,
   "metadata": {},
   "outputs": [],
   "source": [
    "df['Parsed_pros'] = df['pros_cleaned'].apply(nlp)"
   ]
  },
  {
   "cell_type": "code",
   "execution_count": 97,
   "metadata": {},
   "outputs": [
    {
     "data": {
      "text/plain": [
       "7757                                                                                                                                                                                                                                                                                                                                                                                                                                                                                                                                                                       (There, are, no, pros, with, the, exception, of, a, couple, nice, people, working, there, .)\n",
       "6024                                                                                                                                                                                                                                                                                                                                                                                                                                                                                                                                                          (Opportunity, rich, company, ., \\n, Deep, bench, with, a, wealth, of, experience, ., \\n, Fast, moving, .)\n",
       "6414                                                                                                                                                                                                                                                                                                                                                                                                                                                                                                      (The, ability, to, work, with, well, -, known, clients, and, to, make, a, difference, .,  , Transfer, to, other, campaigns, when, there, was, an, opening, .)\n",
       "7603                                                                                                           (I, 've, worked, at, this, company, for, 4.5, years, and, have, had, 4, different, roles/3, promotions--, wow, ,, time, flies, when, you, 're, having, fun, !, That, said, ,, there, 's, lots, of, opportunity, for, growth, here--, I, 've, noticed, this, across, multiple, departments, ., There, are, too, many, Pros, to, list--, this, company, has, to, be, one, of, the, best, places, to, work, in, Austin, ., I, 'm, guessing, it, 's, not, best, kept, secret, anymore, ,, as, people, are, taking, notice, of, all, the, awesomeness, ., :))\n",
       "1957                                                                                                                                                                                                                                                                                                                                                                                                                                                                                                             (great, people, ,, and, great, projects, ,, and, lots, of, flexible, working, in, a, friendly, environment, ., Company, is, definitely, going, places)\n",
       "5999                                                                                                                                                                                                                                                                                                                                                                                                                                                                                                                                                           (Flexible, ., \\n, Will, get, to, learn, a, wide, variety, ., \\n, Has, a, opportunity, to, stand, out, .)\n",
       "3218                                                                                                                                                                                                                                                                                                                                                                                                                                                                                                                                                                                                        (Good, vacation, \\n, Good, 401k, match, \\n, Decent, health)\n",
       "6886                                     (Overall, ,, Drillinginfo, is, staffed, with, incredible, people, with, impressive, pedigrees, ., \\n, The, products, are, spectacular, and, have, the, data, /, analysis, that, clients, are, looking, for, ., \\n, A, few, members, of, the, management, team, are, extremely, on, their, game, and, are, incredible, assets, to, the, Drillinginfo, team, -, they, are, truly, a, pleasure, to, work, with, ., \\n, When, oil, prices, are, high, ,, life, is, great, ., \\n, I, truly, believe, the, company, has, so, much, potential, ,, but, things, are, a, mess, right, now, and, low, oil, prices, are, n't, helping, .)\n",
       "5015                                                                                                                                                                                                                                                                                                                                                                                                                                                                                                                                                                                                                 (-Unlimited, PTO, \\n, -Generous, bonus, structure)\n",
       "3764                                                                                                                                                                                                                                                                                                                                                                                                                                                                                                                                                                                             (good, engineering, environment, to, work, in, as, a, career, starter)\n",
       "1730                                                                                                                                                                                                                                                                                                                                                                                                                                                                                                                                                                                                                        (Work, Life, Balance, \\n, Work, from, Home)\n",
       "8522                                                                                                                                                                                                                                                                                                                                                                                                                                                                                                                                                                                       (Decent, management, \\n, Good, work, life, -, balance, for, the, most, part)\n",
       "1218                                                                                                                                                                                                                                                                                                                                                                                                                                                                                                                                                                                                                             (The, atmosphere, is, fantastic, here)\n",
       "1729                                                                                                                                                                                                                                                                                                                                                                                                                                                                                                                                                                   (Great, people, ,, you, 're, always, busy, ,, great, benefits, and, fun, company, activities, .)\n",
       "4896                                                                                                                                                                                                                                                                                                                                                                                                                                                                                                                                                                                           (Unlimited, PTO, \\n, Open, office, concept, \\n, Get, what, you, put, in)\n",
       "7872                                                                                                                                                                                                                                                                                                                                                                                                                                                                                                                                                                                                (Generally, the, teams, are, made, up, of, pretty, good, people, .)\n",
       "7522                       (It, is, a, rare, opportunity, for, someone, to, be, a, part, of, a, company, that, is, truly, changing, the, world, .,    , Exciting, does, n't, begin, to, describe, what, an, employee, gets, to, be, a, part, of, .,  , From, my, perspective, ,, every, employee, counts, and, makes, a, difference, .,   , NVIDIA, offers, the, opportunity, to, gain, new, experiences, and, move, around, into, different, roles, .,   , The, salary, and, benefits, package, is, better, than, many, high, -, tech, companies, .,     , While, most, employees, work, a, lot, of, hours, ,, the, company, is, also, flexible, with, time, off, ...)\n",
       "4389                                                                                                                                                                                                                                                                                                                                                                                                                                                                                                                   (Working, at, home, ,, scheduling, your, own, hours, ,, minimum, of, 15, hrs, per, week, but, can, go, up, to, 29, ,, fun, quarterly, events, .)\n",
       "3053                                                                                                                                                                                                                                                                                                                                                                                                                                                                                                                                                                                                      (Technology, ,, work, life, balance, ,, culture, ,, benefits)\n",
       "8238                                                                                                                                                                                                                                                                                                                                                                                                                                                 (Put, responsibility, on, the, employees, and, kept, out, of, the, way, \\n, Good, ideas, on, where, to, take, certain, products, \\n, Good, office, in, Austin, \\n, Very, intelligent, people, in, some, positions)\n",
       "7521                                                                                                                                                                                                                                                                                                                                                                                                                                                 (NVIDIA, is, a, great, place, for, self, -, starters, who, are, passionate, about, their, work, ., New, hires, can, quickly, have, impact, with, their, projects, ., Good, food, --, though, it, 's, not, free, .)\n",
       "36                                                                                                                                                                                                                                                                                     (It, 's, a, big, company, with, a, lot, of, growth, still, ahead, of, it, ., If, you, 're, on, the, right, team, ,, the, place, is, great, ., \\n\\n, Work, life, balance, is, excellent, ,, unlike, silicon, valley, ,, this, is, an, Aussie, work, life, balance, company, ., \\n\\n, The, Founders, and, senior, leadership, are, amazing, ,, but, that, 's, where, it, stops, .)\n",
       "5533                                                                                                                                                                                                                                                                                                                                                                                                                                                                                                               (fast, pace, ,, switching, to, new, technologies, with, each, new, product, ., Lot, 's, of, opportunities, to, learn, something, new, every, day, .)\n",
       "4897                                             (Indeed, knows, how, to, truly, take, care, of, their, employees, ,, the, benefits, are, amazing, and, the, staff, really, does, try, and, make, sure, you, are, set, up, to, succeed, ., I, left, the, company, for, what, I, thought, was, a, better, opportunity, and, now, regret, the, decision, ., There, are, n't, many, corporations, that, pay, you, to, go, on, vacation, or, give, you, breakfast/, lunch, as, well, as, have, parties, to, celebrate, the, department, 's, achievements, ., Indeed, did, it, all, ,, If, your, looking, for, a, career, and, a, family, Indeed, is, the, place, to, go, .)\n",
       "3055                                                                                                                                                                                                                                                                                                                                                                                                                                                                                                                                                                                             (Stress, levels, are, manageable, and, work, life, balance, is, great)\n",
       "3051                                                                                                                                                                                                                                                                                                                                                                                                                                                                                                                                                                                                            (Great, benefits, ,, Fun, culture, ,, Always, changing)\n",
       "7877                                                                                                                                                                                                                                                                                                                                                                                                                                                                                                                                                                                                           (Team, is, good, ., Team, members, are, really, helpful)\n",
       "6960                                                                                                                                                                                                                                                                                                                                                                                                                                                                           (Work, with, happy, motivated, people, .,  , Great, benefits, .,  , Many, areas, to, increase, your, business, &, tech, skills, .,  , Flexible, schedules, and, relaxed, environment, .)\n",
       "3958                                                                                                                                                                                                                                                                                                                                                                                                                                                                                                                                                                                                                               (Work, life, balance, was, great, .)\n",
       "2097                                                                                                                                                                                                                                                                                                                                                                                                                                                                                                                                                                                                 (Nice, environment, -, free, food, ,, but, that, 's, about, it, .)\n",
       "                                                                                                                                                                                                                                                                                                                                     ...                                                                                                                                                                                                                                                                                                                               \n",
       "3668                                                                                                                                                                                                                                                                                                                                                                                                                                                                                                                                                                                                                          (time, free,               , that, s, it)\n",
       "96       (I, have, been, with, Protect, America, now,  , for, about, 3, Â½, years, .,  , I, love, the, fact, that, the, company, has, been, in, existence, for, 26, plus, years, ,, but, continues, to, be, creative, forward, thinkers, with, the, DIY, service, model, started, by, this, company, .,  , The, leadership, of, Protect, Americas, is, not, afraid, to, make, bold, moves, to, enhance, and, grow, the, business, .,  , One, of, the, many, supporting, pillars, of, our, foundational, Values, in, Action, is, âWe, Grow, ,, You, Growâ.,  , The, companyâs, Executive, Leadership, strongly, believes, in, grooming, ,, mentoring, ,, and, ...)\n",
       "7132                                                                                                                                                                                                                                                                                                                                                                                                                                                                                                            (*, Excellent, pay, \\n, *, Flexible, work, hours, \\n, *, Interesting, projects, \\n, *, Great, opportunities, for, research, \\n, *, Talented, teammates)\n",
       "6313                                                                                                                                                                                                                                                                                                                                                                                                                                                                                                                                                                                                       (Smart, people, ,, most, pull, their, weight, ,, fast, pace)\n",
       "753                                                                                                                                                                                                                                                                                                              (Innovative, \\n, When, you, join, a, team, ,, you, join, a, family, ., \\n, Internal, mobility, opportunities, \\n, Great, Employee, Resource, Groups, \\n, Free, catered, lunch, on, Tuesdays, \\n, Unlimited, free, snacks, and, drinks, \\n, Casual, dress, \\n, Unlimited, PTO, that, people, actually, get, to, use, \\n, Every, employee, gets, equity)\n",
       "7000                                                                                                                                                                                                                                                                                                                                                                                                                                                                                                       (Jake, Reni, is, the, best, leader, I, 've, ever, worked, with, ., It, 's, fun, to, come, to, work, every, day, when, you, work, for, someone, like, him, .)\n",
       "7804                                                                                                                                                                                                                                                                                                                                                                                                                                                                                                                                                   (Flexible, working, hours, including, being, able, to, work, from, home, for, a, couple, of, days, per, week, .)\n",
       "3097                                                                                                                                                                                                                                                                                                                                                                                                                                                                                                                                                                      (Working, on, current, /, new, technology, ,, great, atmosphere, ,, great, co, -, workers, .)\n",
       "1908                                                                                                                                                                                                                                                                                                                                                                                                                                                                                           (Great, opportunity, to, get, your, hands, on, some, of, the, best, tools, in, the, industry, and, to, make, your, own, path, ., \\n\\n, Solid, team, in, Hosting, Ops, .)\n",
       "0                                                                                                                                                                                                                                                        (People, CARE, ., They, care, about, me, ,, about, my, life, ,, about, my, work, ,, about, the, products, ,, about, my, success, ,, about, my, failures, ,, about, how, to, live, the, best, possible, work, /, life, balance, ., There, are, no, petty, attitudes, on, my, greater, team, of, 30, +, ,, just, people, who, understand, when, life, happens, and, want, you, to, the, best, work, possible, .)\n",
       "90                                                                                                      (I, have, worked, at, Protect, America, for, the, last, 3, months, ., I, feel, itâs, a, great, place, to, work, .,  , The, company, has, a, great, induction, training, program, that, adequately, prepares, you, ., They, have, created, excellent, resources, and, continuous, training, that, they, make, available, to, you, ., While, it, is, a, performance, driven, company, they, try, hard, to, make, it, a, fun, and, engaging, atmosphere, ., There, is, potential, for, personal, growth, and, therefore, feel, I, have, found, a, home, here, .)\n",
       "280                                                                                                                                                                                                                                                                                                                                                                                                                                                                                                        (Great, benefits, \\n, Competitive, salaries, \\n, Open, and, relaxed, culture, \\n, Freedom, at, work, \\n, Good, work, environment, &, work, -, life, balance)\n",
       "560                                                 (The, Mission, itself, is, amazing, .,  , You, are, actually, helping, organizations, raise, money, to, help, those, in, need, .,  , The, building, ,, the, culture, ,, the, people, are, all, fantastic, .,   , Even, the, cafeteria, !, !, Travel, opportunities, .,  , Tremendous, Growth, over, the, past, 5, years, I, have, been, here, .,  , Plenty, of, room, to, grow, with, the, company, .,  , Plenty, of, opportunities, .,  , Benefits, are, top, notch, .,  , Fun, place, to, work, .,  , Leadership, is, fantastic, (, not, just, saying, this, either, ), .,  , They, listen, and, respond, ., ...)\n",
       "650                                                                                                                                                                                                                                                                                                                                                                                                                                                                                                                                                                                                                    (Learning, is, really, good, and, opportunities)\n",
       "2550                                                                                                                                                                                                                                                                (-, You, can, learn, a, lot, very, quickly, in, a, very, short, time, \\n, -, Surrounded, with, nothing, but, incredibly, smart, and, driven, individuals, ., \\n, -, Compensation, is, well, beyond, my, expectations, ,, and, more, than, suitable, ., \\n, -, Exciting, projects, all, across, the, company, that, keep, you, interested, and, focused, ., \\n, -, Amazon, is, changing, the, world)\n",
       "2860                                                                                                                   (employee, -, friendly, ,, flexible, ,, mission/, values, -, driven, ,, offers, career, advancement, opportunities, ,, technologically, advanced, ,, innovative, ,, excellent, culture, ,, great, pay, &, benefits, ,, free, learning, resources, (, like, safari, books, ,, linkedin, learning, ,, slack, channels, ), ,, lunch, &, learn, sessions, ,, free, cereal/, snacks, ,, fruits, ,, multiple, growth, tracks/, learning, paths, to, choose, from, ,, free, vending, machines, for, accessories, ,, reasonable, work, -, life, balance)\n",
       "3231                                                                                                                                                                                                                                                                                                                                                                                                                                                                                                                 (Extremely, good, benefits, from, healthcare, ,, PTO, ,, and, discounts, ., Very, relaxed, environment, with, clearly, laid, out, expectations, .)\n",
       "3575                                          (New, CEO, has, really, turned, company, around, ,, and, we, 're, heading, in, a, great, direction, ., As, a, woman, in, tech, ,, I, feel, like, my, experience, at, Uber, has, felt, similar, to, the, experiences, I, 've, had, at, other, big, tech, companies, ., \\n, I, 'm, really, proud, of, the, products, we, build, ,, and, I, 'm, passionate, about, our, company, mission, ., \\n, Employees, get, an, incredible, benefits, package, ,, and, we, also, receive, a, couple, hundred, dollars, worth, of, uber, credits, to, use, on, either, rides, or, Uber, Eats, every, month, (, in, Seattle, ,, the, ...)\n",
       "3775                                                                                                                                                                                                                                                                                                                                                                                                                                                                                                                                                                                                                   (Great, place, to, work, ,, work, life, balance)\n",
       "4095           (Since, the, first, time, I, was, contacted, by, a, member, of, the, recruitment, team, ,, through, my, interview, process, and, on, to, becoming, a, fully, paid, -, up, employee, ,, I, have, been, blown, away, by, how, the, people, embody, the, Procore, values, of, Openness, ,, Optimism, and, Ownership, ., From, a, business, perspective, ,, the, opportunity, for, Procore, and, its, people, is, huge, and, they, are, doing, a, fantastic, job, on, capitalizing, on, that, (, this, truly, is, a, market, leading, product, and, organization, ), ., But, what, really, stands, Procore, apart, is, the, culture, and, the, way, it, ...)\n",
       "4725                                                                                                                                                                                                                                                                                                                                                                                                                                                                                        (Flexible, work, arrangements, ., Autonomy, ., Growth, potential, ., Love, the, culture, and, the, people, I, work, with, ., Management, support, ., Engaging, projects, .)\n",
       "6139                                                                                                                                                                                                                                                                                                                                                                                                            (Laid, back, ,, fun, atmosphere, \\n, Caring, Coworkers, \\n, An, HR, Dept, that, truly, tries, to, do, everything, right, \\n, Awesome, PTO, policy, \\n, Snacks, ,, Drinks, ,, Lunches, \\n, Charity, Days, -, People, are, encouraged, to, give, back, !)\n",
       "6229           (-Extremely, supportive, coworkers, (, the, most, helpful, people, I, know, ), \\n, -The, benefits, are, amazing, -, not, just, 401K, /, PTO, /, Health, Insurance, ,, but, Cisco, has, so, many, continued, learning, events, and, resources, ,, 5, days, VTO, (, volunteer, time, off, ), to, give, back, ,, employee, resource, organizations, to, get, involved, with, ,, on, site, gym, (, with, awesome, classes, ), and, healthcare, facilities, ,, plus, a, lot, of, on, -, site, events, to, promote, cross, -, collaboration, with, other, groups, ., \\n, -, The, pay, is, amazing, ., \\n, -, Very, communicative, and, transparent, with, ...)\n",
       "6515                                                               (-, Company, Benefits, :, commuter, benefits, ,, free, food, (, amazing, !, ), ,, health, care, (, paid, for, by, company, ), ,, events, that, get, everyone, together, ,, gym, (, and, wellness, subsidies, ), ,, unlimited, vacation, ,, I, could, go, on, !, \\n, -, Culture, (, most, leaders, lead, by, example, ,, everyone, is, super, polite, ,, people, try, to, live, the, company, values, ), :, I, would, say, the, best, co, -, workers, I, 've, ever, had, ., I, love, this, people, ., They, 've, become, friends, rather, than, colleagues, ., \\n, -, Office, (, including, the, ...)\n",
       "6605                                                                                                                                                                                (I, 've, worked, at, 3, M, for, over, 10, years, and, truly, love, it, ., If, you, bring, value, to, this, company, ,, then, it, will, bring, value, to, you, ., I, 'm, compensated, very, well, ,, but, there, are, days, when, I, 'd, do, the, job, for, free, ., It, 's, both, fun, and, challenging, ., Employees, -, at, least, in, my, division, -, are, equipped, with, all, the, tools, necessary, for, them, to, succeed, ., All, my, managers, have, been, supportive, .)\n",
       "6969    (I, can, honestly, say, that, I, 've, never, been, surrounded, by, so, many, genuine, ,, authentic, ,, and, nice, people, in, my, career, ., The, work, environment, is, one, where, colleagues, truly, care, about, each, other, ., It, may, sound, simple, but, it, 's, really, motivating, to, be, at, a, company, where, employees, care, so, much, about, each, other, and, the, company, cares, about, you-, as, a, person, not, just, another, employee, .,  , There, is, also, a, mindset, here, where, leadership, is, always, questioning, the, status, quo, ,, pushing, everyone, to, think, bigger, and, differently, ,, not, get, complacent, ...)\n",
       "7794                                                                                                                                                                                                                                                                                                                                                                                                                                                                                                                                                                                                                                (good, place, to, learn, and, work)\n",
       "8124                                                                                                                                                                                                                                                                                                                                                                                                                                      (Competitive, pay, &, good, benefits, \\n, Management, is, attentive, and, is, always, looking, for, feedback, \\n, Co, -, workers, are, great, \\n, Company, culture, is, taken, seriously, \\n, Career, growth, is, encouraged)\n",
       "8344                                                                                                                                                                                                                                                          (Great, coworkers, :, Incredibly, smart, but, also, very, humble, &, collaborative, \\n, Interesting, business, :, Really, complex, business, where, you, work, on, interesting, problems, ;, truly, are, never, bored, !, \\n, High, Ownership, :, In, my, experience, ,, most, roles, have, a, lot, of, ownership, over, business, problems, ,, meaning, there, 's, potential, for, really, high, impact)\n",
       "8434                                                                                                                                                                                                                                                                                                                                                                                                                                                                                                  (Very, stable, and, loyal, employment, \\n, Pay, is, good, \\n, Ability, to, move, up, if, high, performer, \\n, Ability, to, transfer, roles, within, the, company)\n",
       "Name: Parsed_pros, Length: 7290, dtype: object"
      ]
     },
     "execution_count": 97,
     "metadata": {},
     "output_type": "execute_result"
    }
   ],
   "source": [
    "pd.set_option(\"display.max_colwidth\",1000)\n",
    "df['Parsed_pros']"
   ]
  },
  {
   "cell_type": "markdown",
   "metadata": {},
   "source": [
    "### create features"
   ]
  },
  {
   "cell_type": "code",
   "execution_count": 98,
   "metadata": {},
   "outputs": [
    {
     "data": {
      "text/plain": [
       "0.18336066171268173"
      ]
     },
     "execution_count": 98,
     "metadata": {},
     "output_type": "execute_result"
    }
   ],
   "source": [
    "search_doc = nlp(u'work life balance')\n",
    "tokens = df['Parsed_pros']\n",
    "work_life_bal = []\n",
    "for token in tokens:\n",
    "    sim = token.similarity(search_doc)\n",
    "    work_life_bal.append(sim)\n",
    "np.min(work_life_bal)"
   ]
  },
  {
   "cell_type": "code",
   "execution_count": 99,
   "metadata": {},
   "outputs": [
    {
     "data": {
      "text/plain": [
       "0.9754660831899024"
      ]
     },
     "execution_count": 99,
     "metadata": {},
     "output_type": "execute_result"
    }
   ],
   "source": [
    "np.max(work_life_bal)"
   ]
  },
  {
   "cell_type": "code",
   "execution_count": 100,
   "metadata": {},
   "outputs": [
    {
     "data": {
      "text/plain": [
       "0.021217358710244688"
      ]
     },
     "execution_count": 100,
     "metadata": {},
     "output_type": "execute_result"
    }
   ],
   "source": [
    "search_doc = nlp(u'flexibility')\n",
    "flexibility = []\n",
    "for token in tokens:\n",
    "    sim = token.similarity(search_doc)\n",
    "    flexibility.append(sim)\n",
    "np.min(flexibility)"
   ]
  },
  {
   "cell_type": "code",
   "execution_count": 101,
   "metadata": {},
   "outputs": [
    {
     "data": {
      "text/plain": [
       "0.7265078187914426"
      ]
     },
     "execution_count": 101,
     "metadata": {},
     "output_type": "execute_result"
    }
   ],
   "source": [
    "np.max(flexibility)"
   ]
  },
  {
   "cell_type": "code",
   "execution_count": 102,
   "metadata": {},
   "outputs": [
    {
     "data": {
      "text/plain": [
       "0.9033656200221558"
      ]
     },
     "execution_count": 102,
     "metadata": {},
     "output_type": "execute_result"
    }
   ],
   "source": [
    "search_doc = nlp(u'flexibility to work remotely')\n",
    "work_remote = []\n",
    "for token in tokens:\n",
    "    sim = token.similarity(search_doc)\n",
    "    work_remote.append(sim)\n",
    "np.max(work_remote)"
   ]
  },
  {
   "cell_type": "code",
   "execution_count": 103,
   "metadata": {},
   "outputs": [
    {
     "data": {
      "text/plain": [
       "0.7132507745672968"
      ]
     },
     "execution_count": 103,
     "metadata": {},
     "output_type": "execute_result"
    }
   ],
   "source": [
    "search_doc = nlp(u'diversity inclusive')\n",
    "diversity = []\n",
    "for token in tokens:\n",
    "    sim = token.similarity(search_doc)\n",
    "    diversity.append(sim)\n",
    "np.max(diversity)"
   ]
  },
  {
   "cell_type": "code",
   "execution_count": 104,
   "metadata": {},
   "outputs": [
    {
     "data": {
      "text/plain": [
       "0.8348890411031745"
      ]
     },
     "execution_count": 104,
     "metadata": {},
     "output_type": "execute_result"
    }
   ],
   "source": [
    "search_doc = nlp(u'opportunities advancement')\n",
    "opportunities = []\n",
    "for token in tokens:\n",
    "    sim = token.similarity(search_doc)\n",
    "    opportunities.append(sim)\n",
    "np.max(opportunities)"
   ]
  },
  {
   "cell_type": "code",
   "execution_count": 105,
   "metadata": {},
   "outputs": [
    {
     "data": {
      "text/plain": [
       "0.9142589437105726"
      ]
     },
     "execution_count": 105,
     "metadata": {},
     "output_type": "execute_result"
    }
   ],
   "source": [
    "search_doc = nlp(u'salary satisfaction bonuses, merit increases, cost of living adjustments, overall compensation')\n",
    "salary_satisfaction = []\n",
    "for token in tokens:\n",
    "    sim = token.similarity(search_doc)\n",
    "    salary_satisfaction.append(sim)\n",
    "np.max(salary_satisfaction)"
   ]
  },
  {
   "cell_type": "code",
   "execution_count": 106,
   "metadata": {},
   "outputs": [
    {
     "data": {
      "text/plain": [
       "0.9592183524960883"
      ]
     },
     "execution_count": 106,
     "metadata": {},
     "output_type": "execute_result"
    }
   ],
   "source": [
    "search_doc = nlp(u'flexible hours ability to set your schedule as long as you get your work done')\n",
    "flexible = []\n",
    "for token in tokens:\n",
    "    sim = token.similarity(search_doc)\n",
    "    flexible.append(sim)\n",
    "np.max(flexible)"
   ]
  },
  {
   "cell_type": "code",
   "execution_count": 107,
   "metadata": {},
   "outputs": [
    {
     "data": {
      "text/plain": [
       "0.892749421173882"
      ]
     },
     "execution_count": 107,
     "metadata": {},
     "output_type": "execute_result"
    }
   ],
   "source": [
    "search_doc = nlp(u'PTO paid time off sick days, personal days, vacation days')\n",
    "PTO = []\n",
    "for token in tokens:\n",
    "    sim = token.similarity(search_doc)\n",
    "    PTO.append(sim)\n",
    "np.max(PTO)"
   ]
  },
  {
   "cell_type": "code",
   "execution_count": 108,
   "metadata": {},
   "outputs": [
    {
     "data": {
      "text/plain": [
       "0.8486736159545332"
      ]
     },
     "execution_count": 108,
     "metadata": {},
     "output_type": "execute_result"
    }
   ],
   "source": [
    "search_doc = nlp(u'supportive management and coworkers')\n",
    "supportive = []\n",
    "for token in tokens:\n",
    "    sim = token.similarity(search_doc)\n",
    "    supportive.append(sim)\n",
    "np.max(supportive)"
   ]
  },
  {
   "cell_type": "code",
   "execution_count": 109,
   "metadata": {},
   "outputs": [
    {
     "data": {
      "text/plain": [
       "0.8089161127985964"
      ]
     },
     "execution_count": 109,
     "metadata": {},
     "output_type": "execute_result"
    }
   ],
   "source": [
    "search_doc = nlp(u'learn grow growth mindset')\n",
    "learn = []\n",
    "for token in tokens:\n",
    "    sim = token.similarity(search_doc)\n",
    "    learn.append(sim)\n",
    "np.max(learn)"
   ]
  },
  {
   "cell_type": "code",
   "execution_count": 110,
   "metadata": {},
   "outputs": [
    {
     "data": {
      "text/plain": [
       "0.7074103555067509"
      ]
     },
     "execution_count": 110,
     "metadata": {},
     "output_type": "execute_result"
    }
   ],
   "source": [
    "search_doc = nlp(u'parents family')\n",
    "parent = []\n",
    "for token in tokens:\n",
    "    sim = token.similarity(search_doc)\n",
    "    parent.append(sim)\n",
    "np.max(parent)"
   ]
  },
  {
   "cell_type": "code",
   "execution_count": 111,
   "metadata": {},
   "outputs": [
    {
     "data": {
      "text/plain": [
       "0.8608321344477072"
      ]
     },
     "execution_count": 111,
     "metadata": {},
     "output_type": "execute_result"
    }
   ],
   "source": [
    "search_doc = nlp(u'leadership management')\n",
    "leadership = []\n",
    "for token in tokens:\n",
    "    sim = token.similarity(search_doc)\n",
    "    leadership.append(sim)\n",
    "np.max(leadership)"
   ]
  },
  {
   "cell_type": "code",
   "execution_count": 112,
   "metadata": {},
   "outputs": [
    {
     "data": {
      "text/plain": [
       "0.7461442984503963"
      ]
     },
     "execution_count": 112,
     "metadata": {},
     "output_type": "execute_result"
    }
   ],
   "source": [
    "search_doc = nlp(u'transparent decision process')\n",
    "transparent = []\n",
    "for token in tokens:\n",
    "    sim = token.similarity(search_doc)\n",
    "    transparent.append(sim)\n",
    "np.max(transparent)"
   ]
  },
  {
   "cell_type": "code",
   "execution_count": 113,
   "metadata": {},
   "outputs": [
    {
     "data": {
      "text/plain": [
       "0.8459195213433975"
      ]
     },
     "execution_count": 113,
     "metadata": {},
     "output_type": "execute_result"
    }
   ],
   "source": [
    "search_doc = nlp(u'healthcare benefits wellness')\n",
    "health_wellness = []\n",
    "for token in tokens:\n",
    "    sim = token.similarity(search_doc)\n",
    "    health_wellness.append(sim)\n",
    "np.max(health_wellness)"
   ]
  },
  {
   "cell_type": "code",
   "execution_count": 114,
   "metadata": {},
   "outputs": [
    {
     "data": {
      "text/plain": [
       "0.7251267375940736"
      ]
     },
     "execution_count": 114,
     "metadata": {},
     "output_type": "execute_result"
    }
   ],
   "source": [
    "search_doc = nlp(u'female friendly')\n",
    "female_friendly = []\n",
    "for token in tokens:\n",
    "    sim = token.similarity(search_doc)\n",
    "    female_friendly.append(sim)\n",
    "np.max(female_friendly)"
   ]
  },
  {
   "cell_type": "code",
   "execution_count": 115,
   "metadata": {},
   "outputs": [
    {
     "data": {
      "text/plain": [
       "0.7048614133792943"
      ]
     },
     "execution_count": 115,
     "metadata": {},
     "output_type": "execute_result"
    }
   ],
   "source": [
    "search_doc = nlp(u'mentor program')\n",
    "mentorship = []\n",
    "for token in tokens:\n",
    "    sim = token.similarity(search_doc)\n",
    "    mentorship.append(sim)\n",
    "np.max(mentorship)"
   ]
  },
  {
   "cell_type": "code",
   "execution_count": 116,
   "metadata": {},
   "outputs": [
    {
     "data": {
      "text/plain": [
       "0.8189399690708372"
      ]
     },
     "execution_count": 116,
     "metadata": {},
     "output_type": "execute_result"
    }
   ],
   "source": [
    "search_doc = nlp(u'equal opportunities')\n",
    "equal_opp = []\n",
    "for token in tokens:\n",
    "    sim = token.similarity(search_doc)\n",
    "    equal_opp.append(sim)\n",
    "np.max(equal_opp)"
   ]
  },
  {
   "cell_type": "code",
   "execution_count": 117,
   "metadata": {},
   "outputs": [
    {
     "data": {
      "text/plain": [
       "0.8607756909101956"
      ]
     },
     "execution_count": 117,
     "metadata": {},
     "output_type": "execute_result"
    }
   ],
   "source": [
    "search_doc = nlp(u'Social Activities and Environment')\n",
    "social_act = []\n",
    "for token in tokens:\n",
    "    sim = token.similarity(search_doc)\n",
    "    social_act.append(sim)\n",
    "np.max(social_act)"
   ]
  },
  {
   "cell_type": "code",
   "execution_count": 118,
   "metadata": {},
   "outputs": [
    {
     "data": {
      "text/plain": [
       "0.7911362375897287"
      ]
     },
     "execution_count": 118,
     "metadata": {},
     "output_type": "execute_result"
    }
   ],
   "source": [
    "search_doc = nlp(u'Maternity Leave parental leave')\n",
    "maternity_leave = []\n",
    "for token in tokens:\n",
    "    sim = token.similarity(search_doc)\n",
    "    maternity_leave.append(sim)\n",
    "np.max(maternity_leave)"
   ]
  },
  {
   "cell_type": "code",
   "execution_count": 119,
   "metadata": {},
   "outputs": [
    {
     "data": {
      "text/plain": [
       "0.6327326656771389"
      ]
     },
     "execution_count": 119,
     "metadata": {},
     "output_type": "execute_result"
    }
   ],
   "source": [
    "search_doc = nlp(u'nursing rooms childcare')\n",
    "childcare_nursing = []\n",
    "for token in tokens:\n",
    "    sim = token.similarity(search_doc)\n",
    "    childcare_nursing.append(sim)\n",
    "np.max(childcare_nursing)"
   ]
  },
  {
   "cell_type": "code",
   "execution_count": 120,
   "metadata": {},
   "outputs": [
    {
     "data": {
      "text/plain": [
       "0.10152481311257165"
      ]
     },
     "execution_count": 120,
     "metadata": {},
     "output_type": "execute_result"
    }
   ],
   "source": [
    "np.min(childcare_nursing)"
   ]
  },
  {
   "cell_type": "code",
   "execution_count": 121,
   "metadata": {},
   "outputs": [
    {
     "data": {
      "text/plain": [
       "0.9157009841598897"
      ]
     },
     "execution_count": 121,
     "metadata": {},
     "output_type": "execute_result"
    }
   ],
   "source": [
    "\n",
    "search_doc = nlp(u'promotions, leadership roles, salary increases, incentive programs')\n",
    "opps = []\n",
    "for token in tokens:\n",
    "    sim = token.similarity(search_doc)\n",
    "    opps.append(sim)\n",
    "np.max(opps)"
   ]
  },
  {
   "cell_type": "code",
   "execution_count": 122,
   "metadata": {},
   "outputs": [
    {
     "data": {
      "text/plain": [
       "0.857369317163077"
      ]
     },
     "execution_count": 122,
     "metadata": {},
     "output_type": "execute_result"
    }
   ],
   "source": [
    "search_doc = nlp(u'respectful, professional, and unbiased coworkers')\n",
    "coworkers = []\n",
    "for token in tokens:\n",
    "    sim = token.similarity(search_doc)\n",
    "    coworkers.append(sim)\n",
    "np.max(coworkers)"
   ]
  },
  {
   "cell_type": "code",
   "execution_count": 123,
   "metadata": {},
   "outputs": [
    {
     "data": {
      "text/plain": [
       "0.916613711049939"
      ]
     },
     "execution_count": 123,
     "metadata": {},
     "output_type": "execute_result"
    }
   ],
   "source": [
    "search_doc = nlp(u'great environment and atmosphere')\n",
    "environment = []\n",
    "for token in tokens:\n",
    "    sim = token.similarity(search_doc)\n",
    "    environment.append(sim)\n",
    "np.max(environment)"
   ]
  },
  {
   "cell_type": "code",
   "execution_count": 124,
   "metadata": {},
   "outputs": [],
   "source": [
    "df['pro_worklifebalance'] = work_life_bal\n",
    "df['pro_flexiblehours'] = flexibility\n",
    "df['pro_workremotely'] = work_remote\n",
    "df['pro_diversity'] = diversity\n",
    "df['pro_opp_advancement'] = opportunities\n",
    "df['pro_salarysatisfaction'] = salary_satisfaction\n",
    "df['pro_PTO'] = PTO\n",
    "df['pro_supportive_management'] = supportive\n",
    "df['pro_learning_opps'] = learn\n",
    "df['pro_parents'] = parent\n",
    "df['pro_leadership'] = leadership\n",
    "df['pro_transparency'] = transparent\n",
    "df['pro_health'] = health_wellness\n",
    "df['pro_female_friendly'] = female_friendly\n",
    "df['pro_mentorship_program'] = mentorship\n",
    "df['pro_equal_opps'] = equal_opp\n",
    "df['pro_social_environment'] = social_act\n",
    "df['pro_maternity_leave'] = maternity_leave\n",
    "df['pro_childcare'] = childcare_nursing\n",
    "df['pro_career_opps'] = opps\n",
    "df['pro_coworkers'] = coworkers\n",
    "df['pro_environment'] = environment"
   ]
  },
  {
   "cell_type": "code",
   "execution_count": 66,
   "metadata": {},
   "outputs": [],
   "source": [
    "#df.to_csv('1collapsed_allcompanies_withFeatures.csv')\n",
    "df.to_pickle(\"./1collapsed_allcompanies_withFeatures.pkl\")"
   ]
  },
  {
   "cell_type": "code",
   "execution_count": 67,
   "metadata": {},
   "outputs": [
    {
     "data": {
      "text/plain": [
       "'The most tenure someone has there that is not the COO is 1 year.  Look at their blog to see how many employees have come and gone in a matter of months.  Wondering the reason for the turnover?  The CEO is verbally abusive and loves chaos and creating chaos.  He has no clue how to run a company.  Be sure to ask detailed questions about the current clients and profitability - they have never sold this platform to a single client. Company experiencing high staff Turnover Poor leadership. Untrustworthy. No transparency. Not all employees have accepted the new structure and can cause negativity throughout the office. Why does it seem that everyone is leaving a sinking ship? In the last 3 months more than half of the most competent people have left. During lunch and smoke breaks the topic #1 is applying for other jobs. What is going on that most of us are not hearing about? I can only recommend for new-comers to question the financials before taking a new job at 360 No cons here anymore. It is now a fun place to work and we are changing faster than expected.  I guess some of the people don\\'t like the fast pace change but they will get over it and get on with themselves. It is nd has been needed. Lack of communication between departments and through the hierarchy. No systematic reviews nor bonuses/salary increases.  Products are mediocre despite the advertising. Technology varies depending on department no consistent protocols or processes for any of the operations. Can be extremely frustrating and the majority of the people have lots of duties beyond the scope of their jobs with very little training. There were not any cons. Unfortunately their claims to focus on customers and employees didn\\'t turn out to be true. I can honestly say that I have never been happier to finally get out after some time here. The management makes you feel like you owe them something with no repayment with a salary increase or praise. It\\'s give me give me until you finally cannot give anymore. The salaries are lacking because they promise a quarterly variable. RUN!!!! The bonus structure is a hoax. Don\\'t a believe a word they say about the Quarterly Variable. You never get paid even close to your \"target\". It\\'s a ploy to get you to sign the offer and in the door. The lacking of HR and administrative workers is insane. They will hire and hire sales people but  understaff and over work the admin side of the business. They cannot keep an HR position filled to save their life. This is mainly because the owner is so crooked and asks these people to \"work around rules and regulations\".  Be careful if they ever find an HR person that sticks around he/she will be just as crooked as him. Most importantly take a look at how many executives this company has run through over the years. If they don\\'t agree with Ed or his new fancy ideas \"they gone\". This company has extremely high turn over. Most of the staff has been with the company less than 1 year. They have almost a complete company turn over every couple of years. Another complaint that ex employee have is they work so hard at 360 that it ruins their work/ life balance. It\\'s hard to move on after working here because no company in their right mind makes you work so hard. You will be bored at every job after this.Ed is always pushing the HR newbies to push culture but doesn\\'t want to back it up. He wants to seem concerned about the employees but without spending any of his money. Senior level management is constantly changing which leads to speculation from employees especially at remote locations. The company is at least 1 year behind in their industry if not more. CEO has plenty of ideas but no clue how to actually communicate how things are going to be accomplished none to mention at this time In every company we see things that we can improve but more than that its the way people contribute to each problem we encounter. Butwe continue to miss our numbers not because of sales team not performaing but because of the lack of support from the management team of other departments like Marketing ITFinance and even HR. Non executive employees are underpaid.  Revenue goals are achieved by firing US employees and moving the work to the underpaid overseas employees.The CEO gossips undermines and verbally degrades staff behind their backs to members of his executive team.The CEO lives on Glassdoor and forces his staff to write fake good reviews to balance the honest ones.The company does not have the ability to track revenue accurately.Most of the product is out of date.The CEO convinces businesses and people he is interested in buying the business our hiring the employee to gain information from successful companies and staff with no intention on really hiring them. Unfortunately there are cons to working at 360. The pay is below average. Raises are maxed to 5% per year based on a review system that may award you between 0% and 5% merit increase per year. Reviews are subjective. PTO policy is designed in a way that you as an employee can never win. Too long to explain here but in one word: unfair. Other reviews here are from angry employees and that is also a common element that comes with working at 360training. I have not seen a review here that is untrue: Strategies shift often work overload is a daily routine reward and praise are rare and the few people that make the life at 360 a nightmare get rewarded and praised. Competition among teams departments coworkers and executives are common. Promotions from within the company are rare. Titles change but it\\'s not the career you picture yourself having over a 2 years time. For a mediocre salary more is demanded.Employees are held at the highest expectations. They are losing people every week. Horrible employee morale. New management is worse than previous. Don\\'t know where to start. Hostile atmosphere with the thought that you might be fired any moment which doesn\\'t really depend on some solid reason. Instinctive decision making and improper judgements lead to EXTREMELY high employee turnover rate. No exaggeration but no employee would like to work in such an atmosphere where you know you can be replaced any moment now if you don\\'t meet their impossible targets in a very short duration. They literally don\\'t care about the employees false promises are common. There are a few considerate managers but the ultimate authority looks out only for the immediate profitability and since the company is understaffed almost all employees are forced to overwork. What\\'s worse? Micromanagement is the chosen path trust issues. Although the pay is good it does not give the managers the rights to be authoritative and demeaning. A few managers have sky high attitude if there\\'s any opinion difference you\\'d have to give in to stay employed. Except for those who run the politics here every other employee literally hate being a part of this organization and are looking for other opportunities to save themselves asap. Just do yourselves some good and don\\'t get harassed by this organization. You wouldn\\'t be an employee here to be respected and listened to; you would just be a resource similar to a fax machine telephone or computer. I worked as an \"IT Skills Account Manager\" for a year and a half.  I was in the 100% club for Q4 of 2015 then Jan of 2016 my largest account was taken away and the only notice I received was the someone above me sending an email I was copied on to let my replacement into the building so she could take over my largest account.That\\'s sales right?  So I was moved to a named account list for the next few months until the world\\'s most brilliant CEO decided we would move the vertical accounts because of something he was told by an industry consultant.  I was then assigned to the Healthcare vertical with very few accounts in the city where I lived.  My manager was a great guy but he was pressured to ask me what was going to close all the time.  \"Remember I was reassigned twice already.  Not much to report.\"Early in 2016 the good reps I respected in other branches started to leave and go work for our largest competitor New Horizons.  Really good reps with many years of experience and great accounts.  There is a bi-weekly All Hands company call that further drives motivation down with empty rah-rah-rah.  \"Plan and Review\" is implemented a nonsensical PowerPoint deck that takes many hours to complete the person who put it in place leaves after just a few months on board.  Becomes an exercise in futility each month to update from CRM data that never seems to match up with my records of what sold.  Never seems to come out in my favor weird eh?Mid-2016 all sales managers now report directly to the CEO.  More reps leave.End of 2016 CEO starts attending Sales Meetings.  CEO still jumps in frequently to repeat things that worked over 10 years ago that some rep he liked at a company did when calling on him.  Good people are still dropping like flies my account vertical changes again because someone in marketing decides to launch a campaign that emails my prospects that I took the time to enter into CRM DAILY for 5 days.  Prospects are blocking my emails now emailing me back to \"go to #3&*\" and \"we will never do business with you.\"  CEO starts putting pressure on my through my manager to \"close something this month\" after moving my account base for the 5th time.  Decide it\\'s time to leave. tough economy business prospects not great.  The long term prospects of this company didn\\'t look great but it does always manage to survive any bumps they hit.   Had a lot of turn over while I was there did not like that. Where to start.....  They claim to be a technology company but most of the technology hasn\\'t been updated in 8-10 years. The 6000 courses that the CEO constantly talks about actually amounts to about 500 many of which haven\\'t been updated in years.  They talk about wanting to be an enterprise company and move away from a transactional company to focus more on longer term deals but the proof is in the pudding they continue to push to make numbers and have no patience for a longer sale.Channel conflict all over the place direct VAR B2B.No raises if you are in sales just told to sell more but then the play with the compensation and you can never make more $$. I am not a disgruntled employee. I feel like that is the majority of people on this site are. They want to bash 360Training because they feel like they have been â\\x80\\x9cwrongedâ\\x80\\x9d for one thing or another. I donâ\\x80\\x99t feel any ill will towards the people that brought me on board things just havenâ\\x80\\x99t worked out. The truth of the situation is that at the present moment this is not a very good company to work for. They purchased another training company because they thought it would be similar to the training model they currently had. However the IT skills industry requires much more on the operations and marketing side.  For whatever reason they are not willing to invest in operations. In other words there is much more â\\x80\\x9cupkeepâ\\x80\\x9d and overhead with the IT Skills business. . If I had to speculate it is simply a money issue they donâ\\x80\\x99t have the cash to run the business the way it is needed to run. For whatever reason no one realized this when making the investment to bring the company over. The plan to grow revenue was to simply hire sales people and have them cold call and email into new territories. They hired a lot of Smart Senior sales people and asked them to go make it work. The problem is that we have no name recognition in any of the territories and when we do win deals we are not able to fulfill the orders. Goals are not told to employees and no one really knows what we are working toward. Leadership keeps remote employees fairly in the dark about things so no one really knows what is going on. There is very little planning on anything. We will get a calendar invite for the next day with a new initiative that no one has heard of prior to this meeting. When you try to follow up with your leadership team no one is available. Requests from operations take anywhere from a couple days to as long as a week to respond. We have lost a lot of deals because no one can answer whether or not we are able to do it. Iâ\\x80\\x99m not sure why but Iâ\\x80\\x99m guessing itâ\\x80\\x99s because most people are checked out. You can see it even from the reviews on this site. Our HR Manager would try to get ahead of things by writing a positive spin on the bottom but after so many negative responses she just kind of quit. That seems to be a theme here good people get beaten down and eventually give up. I think the CEO and other managers do actually care and want it to work. They just donâ\\x80\\x99t know anything about the industry and are not willing to be strategic in order to fix things. They donâ\\x80\\x99t have or take the time to come up with a plan and make things work they want band aids. The ironic thing is that they are always in meetings I just donâ\\x80\\x99t know what they are meeting about because nothing gets done. I have never seen such a chaotic work place as 360training. There is so much disconnect between the departments between locations between management and staff between customers and customer service. How can a place like this stay in business?!? Location could be better and closer to the Austin biz scene. Company seems to get involved in lots of new projects or spin offs which seems to be distracting but that was above my pay grade. Company serves a lot of customers and industries so makes priorities compete. I hope those of you who still work there can see the handwriting on the wall. Get out while you still can. Easier to find a new job when you have a job. - Very High Turnover- Low Morale Work Environment - Confusing Management Structure- Limited Growth Opportunity- Enforced Dress Code - Siloed Departments- Poor Products and Negative Industry Reputation Personally working at 360training seemed to zap the energy out of me. With restricted PTO no work from home days and long hours 360training makes it difficult to foster an effective work-life balance.  If you are looking for a company with exciting perks and a fun upbeat culture this is not the company for you. 360training is also notorious for turnover as you can tell from other reviews with many employees lasting less than six months under the new regime. Employees are nervous theyâ\\x80\\x99ll be â\\x80\\x98nextâ\\x80\\x99 which is no way to work. The two star review comes from my personal experience. For me I have to enjoy the place wheee I spend the majority of my weeks and multiple factors made it hard at 360training to achieve that. I was hired knowing that the company was going through a transition of being bought out. That was the sole reason why they hired me as their Registrar because the previous Registrar went with the new company. Now understand I never write reviews for anything. But I\\'ve also never have had this happen to me either. I started working and throughout the 2 weeks everything was great. Then I was pulled into the director of HR\\'s office and was told that they discovered they don\\'t have the budget for my position and they have to let me go. I gave up a job to come to this company that I can\\'t get back now. It truly shows what kind of company this is when they can\\'t even look at the numbers and preplan BEFORE posting a position and changing someone\\'s life. I cannot believe how incredibly stupid the management is at this place. I wish I had looked at these reviews before starting. Overall nothing to complain about. Company is still building processes and systems that need improving in order to deliver on customer committments Stop saying the company is improving. The employee satisfaction polls are looking so much better than the previous quarters because now the managers are getting goaled on Employee Satisfaction. Instead of  actually improving work conditions or not changing directions every few months - the managers now pressure their teams to leave positive reviews. What exactly did you gain from that? On paper you see that the employees are more satisfied while they are not. You want to pay out a Quarterly bonus on a figure that was achieved by threats and is not a true representation of reality? The facepalm here is so strong I can not believe that this is happening. Reading these reviews and comments - this is a bunch of lies. I was highly motivated when I started working at 360 - I was aware that there is a lack of process strategy discipline consistency. And I took the job anyway. The CEO is one of the recruiters and I have to admit that I felt honored and up to the challenge to make this company better.Well the wake up came fast and brutal. The employees come and quit so fast that there is no documentation of previous plans efforts or investments. Every 6 months this company starts from scratch to \\'fix\\' itself. About the lies: Yes on the books it is a $40 million company. It is like saying Nokia had a $7 Billion revenue in 2010. What matters here are the cost that are running against the revenue. It is a $40 million company that spends $40 million to get there. Employees don\\'t get their Quarterly bonuses. Vendors are not getting paid. Contractors are not getting paid. All of this is a fact!The feeling working in this leftover Albertsons-retail-now-office area is like attending a funeral.  Any idea you provide to change the company for the better gets shot down by the CEO - because it wasn\\'t his idea. Nobody that works there for more than 3 months disagrees anymore with him - they know that it is his way or the highway. I highly recommend to anybody considering working there to ask an employee out for a coffee and get one (one is enough) true feedback about the place before accepting the job. Yes you will get stock options that are vested after 3 years. Only a handful of employees ever made it that long. (about 2 did) Prior ownership and disorganized systems in the past. As I said the new owners are invested in creating a productive and efficient environment. They are losing people because management is terrible CEO needs to look at the way his other upper management treats people. As long as you allow HR and operations to treat people like they are dishonest you will continue to lose team members.  Your company has a lot of potential but you need to start treating your team members all of them like they count.  Your team members are walking around like they are walking on eggs shells and with targets on their back. The culture HR has created is toxic. This company is a mess.  The operational issues that plague day-to-day life are some of the worst I\\'ve seen; and the inability of management to solve or address any of the problems have put our company into a death spiral.  Business critical systems - like CRM and the phone system - go down for months at a time while the executive team chooses to turn a blind eye.  I\\'m not kidding half of the company went without phones for 3 months.  An electricity bill recently went unpaid at one of our most important offices - the office where most of our live classes are hosted from - causing classes to go down across the company for almost a week.  Instructors go unpaid often times for months at a time until legal action is threatened.  Vendors go unpaid including training partners whom we\\'ve worked with for years causing bridges to be burned and soiling our reputation in the process.  There is a revolving door at the executive level with senior management constantly being let go anytime they disagree with our CEO on anything. We\\'re constantly finding \"Pay or Quit\" notices posted to the doors of our offices where students and customers can see.  They outsource any job they can to countries like Pakistan and the Philippines often at the expense of the student experience.  There are two separate CRM systems which are not unified and which don\\'t communicate with each other causing havoc among account managers and confusion for our customers.  Emails to upper management asking for help and assistance go ignored causing deals to be lost and fraying relationships with customers. Constantly Changing PrioritiesLack of Marketing Materials...although that may be changingTechnology HurdlesProduct Management Hurdles this company is a textbook example of what do wrong in business. they will not survive at least not in it\\'s present form. they are not honest no one seems to know what is really going on with the company at any given moment. almost without exception all employees are looking for other jobs. Do not be deceived by planted positive reviews. Lacks leadership at the top. No strategy and lack of consistency. Everything changes too often at the whims of a few Not focused on brick and mortor business They can\\'t pay their bills on time they never have accurate paychecks and their so called \"Accounting Department\" is less than adequate! Many employee\\'s have waited weeks or even months to get the money they are owed. They do not have internet access that is consistent and they have had to send their employee\\'s home to use their own internet access to do their jobs. Not to mention that this is a company that sells IT courses?!?!?!?!?! When you become an employee they give you a laptop that was outdated about 10 years with constant issues. But yet they expect you to complete task in a timely manner with poor equipment. Communication is almost nonexistent they create goals for you to meet or exceed that are NOT realistic and set you up for failure. They have so many underlying issues and are not upfront and honest with many of their customers/partners. Customer Service is terrible and don\\'t expect to receive a return call about any questions or concerns. They leave business partners hanging with students that are very unhappy! The turn over here is terrible thus far I have had 5 managers in a span of 5 months. Where do you start?  Mold mildew depressing fire hazard office. No HR.  They hire HR people a couple times a year.  No one stays long.  Unfocused abusive CEO.  No focus on strengths of the company because CEO is always chasing a new idea.  Sales people struggle every day to figure out a way to sell inferior products because money is invested in pet projects and pet people that the CEO tires of in months.  Then on to something else.  No opportunity to advance.  Below average wages pumped up with pretend bonuses. People get laid off all the time for not performing but the C level executive in charge of revenue doesn\\'t even come close to delivering on what he promises.  You can make your goals and not get a bonus because the CRO can\\'t get his job done.  I really liked the actual work I was doing here but the demands increase every day the pay is low with no hope of getting better and of the execs only the CFO and CIO really know what they are doing and give a ------ about the company and employees.  If I could have worked for one of them I might have stayed and waited it out.  The CEO seems to be losing interest and honestly if he\\'d leave the company would transform over night. There are too many things wrong with the companty to list them all: Executives are micro-managing no strategy no goals \\'culture\\' is an empty word and although there were many attempts - the CEO successfully kills all effort on others trying to make this company sane. This companies management style closely resembles flipping coins: no clear expectations no guidance no support to employees. Instead it is \\'throwing-under-the-bus\\' work overload conflicting tasks skewed priorities internal quarrel constant turn-over...HR is non-existent. Oversees workers are pressured into writing positive Glassdoor reviews. Anything more than 2 stars is a lie. Sad thing - working at 360training will not provide you with a network of good peple. Anybody that leaves keeps to themselves where they are going: the CEO has many times calles the company to badmouth the employee. Don\\'t work there - you will lose 3 months of your career! The company will drain your time with senseless initiatives to address the lack in strategy. Depending on what book of the week the CEO is reading you will either be implementing the Rockefeller Habits the Oz Principles Six Sigma KPMG best practices or the Operational Excellence procedures. Everything you did up to this point â\\x80\\x93 stop it. You will spend countless hours attending meetings filling out forms designing SOPs and reading scripts books newsletters just to have it all go to waste next week. The attrition rate is very high â\\x80\\x93 mainly due to the constant shift of focus lack of strategy and lack of leadership. Executives micro-manage beyond belief and all the hours you donâ\\x80\\x99t spend in meetings you spend refining reports. Eventually your productivity will be close to zero and you will spend more time in meetings explaining why. Many talented creative employees have left because of this reasons. The company is doing nothing to address the high attrition. Fun fact: HR Directors last the least: in 3 years the company had 8 people in that position.This is the worst company you will ever work for. Think twice. Still some of bad behaviors remain from prior management. Lotâ\\x80\\x99s of stuff still needs to be cleaned up from the past. 1. Ceilings that are so leaky the require large coolers and trash cans to collect the water. 2. Rodents 3. Temperatures so cold that you often see people wrapped in blankets at their desk. 4. Antiquated technology platform for a company trying to be a tech company.5. Phones  CRM and marketing automation tools that hardly work.6. Hundreds of thousands of bills that can\\'t be paid. 7. At least a 50% turnover rate in the 2 years I have been here. 8. A CEO that sets ridiculous strategies that are founded on his \"conversations\" with business leaders and advisors. Strategies that can\\'t possibly be executed with the capital technology or staff on board. Strategies that his entire leadership team tell him are not possible. 9. A CPO/CTO that has no vision leadership skills or know how to be at all innovative. 10. Only 1 person \"knows\" how to do every role in the company and every failure in the company is pinned on others so they can be fired and blamed. 11. Investors and banks won\\'t touch it !! They have a lot of house cleaning to do I have not been there for 3 months but I hear changes for the better are happening This happens a lot at this company from what the other employees say - most positions start all over since people quit/get laid off all the time.Everybody starts over basically. In terms of actually learning something about your job or advancing your career - it just isn\\'t happening. A huge waste of time. I do not have any Cons.  I love working here! Smells like a dump cheap operation management team are clueless CEO is toxic. Management lied right from the start.  When I asked specifically what I should expect to make my first year they kind of exaggerated in the tune of about 50k.  Product is outdated.  Even thought there are â\\x80\\x9csales territoriesâ\\x80\\x9d that does not seem to matter.  Itâ\\x80\\x99s a free for all.  No reprimanding of any sort.  Infact you are rewarded when you are able to steal from other sales reps opportunities.  The tools to do your job are always breaking and IT has their hands full with archaic hardware and outdated database tools.  Its not ITâ\\x80\\x99s fault that they are not able to keep the systems up and running full time. There are so many things but most of them are covered in these reviews here. There is also a lot that is not mentioned... The sum of it all: You do not want to work at 360. No you don\\'t. Even the people that still work there want to get out. If you ever needed a hint: Don\\'t start a job there. You will be miserable hate your life and get depressed - or addicted to pain meds.Seriously: there is mold in the air ventilation there are rats in the office the break rooms leaks water through the sealing. Very sales-type environment. Sales goals are too ambitious for this type of product and the reputation. If you don\\'t hit the numbers you are out of your job in no time. Sales is mostly over the phone then some follow up emails. Marketing is doing close to nothing to support sales. Plus while being in sales your title should be account manager because clients have their emails unanswered for days so they end up calling you. Not that you would get any credit for helping clients - just your revenue number is what counts. As much as I hate to say it - all these people fail. Nobody has started at this company and has made a lasting impact on turning around the management customer complaints finances sales or marketing.  Then they leave. Myself included - a very rough landing after flying and soaring for a few weeks. Let\\'s say you have a good idea. You know it will work because you have done this before - it\\'s your job. You are good at it. Then as you present your ideas and start implementing - the CEO gives you some input (\\'coaching\\'). A few changes here. A few modifications there. Some aspects get cut. Others get expedited and launched without their correlating items. The project fails. You failed. You try again - present ideas start implementing get modifications... From the start everything positive I was told about this company is a complete lie. They terminate employees all of the time and there is not one ounce of sorrow about it. The smart ones get out on their own within a few weeks/months of joining. HR does not care about the employees at all; they are only focused on protecting the company. There is not a single department I would suggest is a good place to work here. All the departments are overloaded and have massive employee turnover. Any positive reviews are clearly written by management and fake. - Everything: Toxic people culture and management 1.  Salary is below market share. I was promised that I would get a nice variable comp package to make up for the absurd difference.  I have seen barely half of that.2.  Turnover is extremely high. In less than a year  there have been three HR directors.  3.  Morale is extremely low which creates a hostile work environment and lack of productivity.   Employees are over worked  and accused by management for projects not completing on time. If that\\'s not the worst of it there is the constant threat of terminations.  Who could be happy or successful in an environment like that? VERY disorganized. Internal strife. Lots of bickering. Lots of people leaving enmasse! (including me) Just about everything: The shallow culture the pathetic local and corporate leadership the very dysfunctional and narcissistic people that are among your \"team mates\" and and managers. All this company does well is ruin careers you can serve here for 10 years and still someone who has no sense will try making you realize that you\\'re good for nothing. CEO and HR team is very shallow and absurd The list is too long. Had to write this one in response to a recent review where the advice to management was to continue in doing a great job by allowing staff members input. If management allowed such input this organization could truly be a company of value. Truth is management feels they are the only one who understand the business they are failing in. Management is in the weeds so badly they can\\'t see past the end of their nose. Management does not communicate with staffers. They have moving companies show up at an office on a Friday afternoon to pack up an office as they close said office. Staff members don\\'t know their office is closing until the moving company or Corp. staff member show up to close it. And yes clients are booked for classes in the center that is closed with no notice. Too much more to list but my fingers are getting tired. This is a very unstable company. The positive reviews on Glassdoor are obviously planted. Look at the number of complaints posted on the Better Business Bureau website and read the other reviews here on Glassdoor--I agree. Â\\xa0Very immature CEO with no leadership or people skills.Â\\xa0The company sells regulated content but before you pay for a course you should check to make sure that the course is compliant with regulators in your state. A rumor is now circulating that the CEO is trying to sell the company and many of us feel this is the reason everything is completely falling apart. He has no idea how to run a company and he isÂ\\xa0constantly chasing new ideas. Morale is rock bottom.There is no trust and everyone feels they are treated with suspicion. Lack of trust leads to complete micromanagement. We lose good people when they realize what they have gotten themselves into or that they cannot make changes. Â\\xa0Many people say they are interviewing with other companies and trying to get out as soon as possible. A very stressful work load severely understaffed over-promising managers and the teams will have to work overtime to get things done. Half the staff is on Xanax or other meds to keep from loosing it. This job is bad for my health and I do not recommend working for 360. I am looking for another job and I know of many other who do as well. The environment can be high-pressure at times but if you develop the skills to prioritize and vocalize your priorities  then it is very manageable. A nightmare! This company has no structure no plan no consistency. People are hired and quit all the time. The employees that managed to stay there have a \\'game\\' a list of names that worked there. This list has more than 120 names on it - and that is for 3 years only. HR has no structure - everyone is a slave to the CEO who changes direction constantly. If you disagree - you are out. People who have left either on their own or by being let go keep trashing the company.  It is hard not to when you are angry or upset.  But the company is doing many things to improve the company and that can be an easy way to ruffle feathers.   Give it some time there are honest and hardworking people who are making a huge difference. The CEO was one of the MOST unethical individuals i have ever encountered in the business world.  Lied to vendors didn\\'t pay them lied to employees fired good managers.  I cannot believe the Federal Government hasn\\'t shut them down yet for some of the \"other things\" this CEO has done.  If you see a positive review it was most likely planted.  I never put my experience at 360 on my resume i am too embarrassed and ashamed that I ever worked there. Most of the content was stolen.  It was outdated and every other day the system would go down while people were trying to train.  Atrocious company. none work at your own speed. Business can\\'t make up their mind.  Directions change by the day.  Turnover is high.  Pace is frantic. I think the CEO has ADHD. Goals are moving targets. Management is incompetent. Turnover is crazy high. Ethical questions. Before you take the job at 360 read these reviews. They are on the point: bad work environment bad pay bad outlook... HR had like 8 directors in 2 years every other position is rotating their employees almost just as fast. There is no plan just day-to-day activities to keep revenue from coming in. Vendors are not getting paid. The atmosphere is terrible! Unless you need a pay check really bad - don\\'t take this job. If you do you will start looking for another job within a week I promise. RUN AWAY! Do not give this place a second glance. You will be thankful you didnâ\\x80\\x99t waste your time here.Highly toxic environment low employee morale and just an overall sense of depression from working here. Iâ\\x80\\x99ve never seen employee turnover like it is here. The company was literally averaging 1 person being fired a week for several months (and this isnâ\\x80\\x99t a large company). This also includes members of the executive team. No one is safe and everyone is constantly terrified theyâ\\x80\\x99re going to be fired next. On the flip side those that are really good at their jobs and valuable employees are leaving to take other jobs. What does that tell you? People are working 60+ hours a week because theyâ\\x80\\x99re terrified of being fired with no work-life balance. Pretty much everyone that is still here is looking for another job. Instability at its finest. The culture is cold. Very unwelcoming and stiff environment. Accountability is preached which is nice but not with the tone in which itâ\\x80\\x99s conveyed. Employees should be held accountable but you can have other company values like wanting your employees to enjoy coming to work every day as well. I would call the culture somewhat collaborative in that some people do talk within departments but everyone will quickly throw each under the bus if thereâ\\x80\\x99s an issue. The new office is a completely open space with zero personality (how many more articles about employees hating open office environments do you need?). Itâ\\x80\\x99s very difficult to get work done in the cubes when conversations are being had especially in the sales area. The cubes that actually do have employees in them (those lucky to have not been fired yet) are bare. No one is willing to â\\x80\\x9cmove into their spaceâ\\x80\\x9d since theyâ\\x80\\x99re either already looking for their next job or waiting to be fired. Several people also have â\\x80\\x9cto-goâ\\x80\\x9d boxes ready in the event they get fired theyâ\\x80\\x99re prepared. Dress code was business casual (yep slacks and dress shirts) until they â\\x80\\x9cgrantedâ\\x80\\x9d us the ability to wear jeans for one month. If we could prove that we would dress nice with jeans they maybe would allow us to wear jeans from now on. Talk about being treated like children. Oh and donâ\\x80\\x99t get my started on flexibility. If you want it this is NOT the place for you. Itâ\\x80\\x99s clear the executive team does not trust their employees. Limited PTO and no ability to work from home. Ever.  Finally like most companies in Austin that have awesome benefits and perks. 360 has none of them. No company wide get togethers (we didnâ\\x80\\x99t even do anything for Christmas) no social gatherings we donâ\\x80\\x99t even have townhall meetings. So thereâ\\x80\\x99s no communication from the top on whatâ\\x80\\x99s going on or any appreciation from their side. I already mentioned the other issues: formal dress code no WFH no time away from the office weak 401K matching no maternity/paternity leave no laughing etc. This company lacks â\\x80\\x9call the feelsâ\\x80\\x9d.This place is seriously the worst place Iâ\\x80\\x99ve ever worked. Everyone is miserable and looking to get out. Do yourself a favor and go work somewhere anywhere else. Now back to my job applicationsâ\\x80¦ Too much change within organization without any clear direction.  Way too much turnover. This company is a joke! Starting with the management - it is a portfolio of the biggest failures in the industry: The CEO is using his wife\\'s money to run the company - before he worked as a car salesman. He does not have a college degree and it shows. Without this company it is doubtful he would find a job. The other C-Level execs: one of them has three sexual harassments complaints against him - but still works there. One has already run a learning company into the ground one has been fired from his family\\'s business (How bad are you at your job for your family to let you go?). Then the turnover. Nobody within the director level lasts longer than 24 months. No knowledge transfer. No training Everyone starts from scratch. HR is basically non-existent. Next: lack of strategy. There is no plan just a wild number of ideas from the CEO that everyone has to jump on. Worst company I\\'ve ever worked for. Bought out by an obvious idiot who knows nothing about business. It\\'s just a matter of time before the government shuts down contracts for OSHA certification. Most of the employees are looking for other jobs. This is a fly by night business who will be out of business within a year. Unethical treatment immoral employment practices and there is a pending wrongful termination lawsuit which is being filed. 1: Going through change2: Figuring out among many opportunities where the company is going to focus3: you find mix of talent good and not so good.  That mix slows things down The CEO and executive team are in constant battle for who\\'s the smartest.  There is zero structure and therefore very little execution on anything meaningful that would actually make the company revenue.  Forget about ever really making variable comp.  The failed goal structure and lack of direction means this company rarely hits it\\'s revenue goal.This is a training company that fails to provide training to its staff. Career growth and advancement is based on the CEO and Executive team\\'s personal preferences. Amazing talent walks through the door and then is set up for failure due to the CEO\\'s mentality that people should be able to just figure it out.  (Literally no training or development). Now that the office has moved my commute is a little longer. Can\\'t think of any others at this point Company need to work on employee attrition level. Whatever you do- don\\'t take a job there- especially in a marketing. It will likely be the most disturbing experience of your life... it\\'s so disturbing on so many psycho crazy levels that I\\'d rather not get into it- just save yourself from a bad experience. It won\\'t look good on your resume either. They have a bad rep out there. At first it was vendors not getting paid.  Then it was contractors.  Now employees are being told variable compensation payments will be paid out four months after they were due to us. It is a sunken ship.  Don\\'t take a job here no matter the sales pitch you are given. This website has become a battle field like Captain America vs. Iron Man. The common goal is that the company should get better and that everyone should work together. The sad difference is on how this can get done. Yes the company is in a bad place financially and the unofficial part of everyone\\'s job description is to string along vendors another month before they will get paid. Yes the company paid $1500 for positive reviews and yes the employee attrition rate is very high. BUT they are doing this to keep the machine running - of course they need employees help students and fix courses. What other options to they have to attract new workers? I don\\'t blame them.If you join 360 you will become part of either group don\\'t know who\\'s side I am on. Do not take a job here. You will go down with the ship. Where to start: The courses are old the company is constantly being reported for being out of compliance the vendors do not get paid employees are \\'goaled\\' so the company does not have to pay the variable component. There is a huge disconnect from upper management. You can speak and share your opinions however nothing will come out of it. Also zero room for advancement. I found it hard to even write this review but it is necessary to share my short experience at 360training. Hopefully this can help someone make a decision to either leave the company or not join the company. I am actually increasingly embarrassed to say I even work for 360training.com. I worked incredibly hard in college and past jobs and am constantly challenging myself to continuously grow and advance in corporate America. By working at 360 I almost feel like I have taken steps backwards. I also do not find it to be productive to constantly complain but I will state the facts of the cons: underpaid degraded manipulated demeaned MICROMANAGED (to the point where you have to send daily reports of activity to your manager...only to get racked and stacked the next day against your peers..completely unprofessional) horribly outdated systems (already this year we have had to shut down for two weeks due technical problems) unsuccessful marketing team lackluster tech-equipment (lap tops are from 2007-2009). CEO & CRO are two of the most in-genuine individuals I have ever come into contact with in my life. From the interview to the moment just before you turn in your resignation or walk out you will regret your decision.The company seems to only able to survive for 2 reasons: 1) constant cycle of employees willing to take a lower base with a promise of bigger bonus and that are hired through highly embellished numbers and 2) itâ\\x80\\x99s private so the P/L (profit and loss) is hidden.If you like rats roaches leaky roofs a cold office when the heater is too expensive to repair a hot office cause the AC is undersized poor excuses for your bonus being so small prorated merit increases worthless stock options taking on other peoples roles when they leave backed up toilets due to them being too cheap to fix the line then this maybe the place for you.When a company has a higher turnover than the McDonalds or Subway that neighbors it you know there is an issue.  The only positive reviews seem to be from overseas employees that are â\\x80\\x9chighly encouragedâ\\x80\\x9d to make positive comments the CEO a PR firm(?) or his cronies.  Normally the negative complaints come from the 10% and arenâ\\x80\\x99t accurate. However in this case the reviews are telling you everything.  Six to eight HR Managers in 2 years should be proof enough that environment sucks.  Six to eight marketing directors in 2 years should tell you no one can put enough lipstick on this pig.  Having 1 very tenured CFO through all the â\\x80\\x9cCâ\\x80\\x9d Level attrition is also strange.  The reputation within the training space is complete garbage â\\x80\\x93 poor customer services outdated content poor billing discrepancy in pricing between VARs partners and B2B.  The CEO sees himself as a visionary and compares himself to Jeff Bezos or Brett Hurt.  Whatever the latest book heâ\\x80\\x99s read (or be told about) determines the mantra of the company - The Medici Effect No Manâ\\x80\\x99s Land The Oz Principle.  If he didnâ\\x80\\x99t own the company heâ\\x80\\x99d never be hired for a director level position or higher. Incredible people are duped into working here and watching the metamorphosis of new motivated employees become demoralized is very sad. You start as the new shiny toy the CEO marches around the office introducing you as the new superstar.  You canâ\\x80\\x99t be too proficient at your job or youâ\\x80\\x99ll be sent packing.The next level for this company should be bankruptcy. Where to start? First: The office in Austin has a severe mold problem. People get sick have watery eyes. Nothing is done about it. I got sick working there and many others did as well. Then the turnover rate is super high People come and go all the time. There is little to no hand-off - so you always start from scratch. Third: The US-office does not have an HR department. HR directors come and leave fast as do most employees. Forth: There is no strategy. Fifth: Executives have no clue about the business and create a lot of busy-work. Sixth: Micro-Management is taken to a new level at this company. In short: Working at 360training is a nightmare. Unattainable goals with limited resources and executives are not open to different ideas or approaches.  They only want yes people.  Also having crazy dress policies (no jeans no polos no open toe shoes for women and much more)  controlling usage of mobile devices and no remote work ever seem like major trust issues. I have had many temp positions were I worked for 3 to 6 months to assist projects. During my time with 360 I worked on and stopped working on 4 projects - all because the strategic plan had shifted. I learned from the other employees that this is a routine at the company - there is always another idea that is better than the old one - and everything gets dropped to run after the new plan. Very disorganized very chaotic - not much stuff gets actually done. Where to start? 1. The management and HR ask employees to write positive reviews on Glassdoor. Don\\'t trust these reviews. 2. Chaos. Goals and plans change weekly if not daily. No project really gets finished. There is no strategic leadership. 3. Lies. Quarterly goals are setup to make sure the payouts are as low as possible. 4. Employee attrition is absurd. People stay for little time and realize the crazy going on and leave. 5 So many people have left that when other people hear you work at 360training - they treat you like you have to be the most miserable person on earth. 6. The CEO - plain luck to start an online company - pure miracle that is has not gone bankrupt.'"
      ]
     },
     "execution_count": 67,
     "metadata": {},
     "output_type": "execute_result"
    }
   ],
   "source": [
    "df['cons'][0]"
   ]
  },
  {
   "cell_type": "markdown",
   "metadata": {},
   "source": [
    "## Analysis per review (not collapsed)"
   ]
  },
  {
   "cell_type": "code",
   "execution_count": 2,
   "metadata": {},
   "outputs": [
    {
     "data": {
      "text/plain": [
       "Index(['company', 'cons', 'Overall', 'Paid Time Off', 'Ability Telecommute',\n",
       "       'Flexible Hours', 'Social Environment', 'Coworkers',\n",
       "       'Wellness Initiatives', 'Mentorship', 'Maternity Leave',\n",
       "       'Family Growth Support', 'Employer Responsiveness',\n",
       "       'Learning Opportunities', 'Management Opportunities',\n",
       "       'Equal Opportunities', 'Salary Satisfaction',\n",
       "       'Female Representation in Leadership', 'Number of Ratings', 'pros',\n",
       "       'advice_to_management', 'overall_rating', 'Career Opportunities',\n",
       "       'Compensation and Benefits', 'Culture & Values', 'Work/Life Balance',\n",
       "       'con_scores', 'cons_compound', 'cons_negative', 'cons_positive',\n",
       "       'pro_scores', 'pros_compound', 'pros_negative', 'pros_positive',\n",
       "       'cons_cleaned', 'cons_lemmats', 'pros_cleaned', 'pros_lemmats',\n",
       "       'con_lda_0', 'con_lda_1', 'con_lda_2', 'Cons Topic', 'Pros Topic',\n",
       "       'pro_lda_0', 'pro_lda_1', 'pro_lda_2', 'Parsed_cons',\n",
       "       'con_work_life_bal', 'con_equality', 'con_gender', 'con_harassment',\n",
       "       'con_bias', 'consexual_harassment', 'con_low_pay', 'con_bureaucracy',\n",
       "       'con_turnover', 'con_no_problems', 'con_female_friendly',\n",
       "       'con_worklife', 'Parsed_pros', 'pro_worklifebalance',\n",
       "       'pro_flexiblehours', 'pro_workremotely', 'pro_diversity',\n",
       "       'pro_opp_advancement', 'pro_salarysatisfaction', 'pro_PTO',\n",
       "       'pro_supportive_management', 'pro_learning_opps', 'pro_parents',\n",
       "       'pro_leadership', 'pro_transparency', 'pro_health',\n",
       "       'pro_female_friendly', 'pro_mentorship_program', 'pro_equal_opps',\n",
       "       'pro_social_environment', 'pro_maternity_leave', 'pro_childcare',\n",
       "       'pro_career_opps', 'pro_coworkers', 'pro_environment', 'PCA_0', 'PCA_1',\n",
       "       'PCA_2', 'PCA_3', 'PCA_4'],\n",
       "      dtype='object')"
      ]
     },
     "execution_count": 2,
     "metadata": {},
     "output_type": "execute_result"
    }
   ],
   "source": [
    "import pandas as pd\n",
    "#df = pd.read_csv('1collapsed_allcompanies_withFeatures.csv')\n",
    "\n",
    "df = pd.read_pickle(\"./1data_w_features.pkl\")\n",
    "\n",
    "df.columns"
   ]
  },
  {
   "cell_type": "code",
   "execution_count": 126,
   "metadata": {},
   "outputs": [
    {
     "name": "stdout",
     "output_type": "stream",
     "text": [
      "                           company  \\\n",
      "7693  360Training                    \n",
      "6639  3m                             \n",
      "3721  AMD                            \n",
      "7348  AT&T                           \n",
      "1650  Accruent                       \n",
      "7002  Adobe                          \n",
      "2598  Amazon                         \n",
      "3308  Apple                          \n",
      "2838  Applied Materials              \n",
      "4232  Arm Holdings                   \n",
      "62    Atlassian                      \n",
      "7592  BankVue                        \n",
      "2262  Bazaarvoice                    \n",
      "808   BigCommerce                    \n",
      "6477  BioWare                        \n",
      "569   Blackbaud                      \n",
      "276   Cirrus Logic                   \n",
      "6236  Cisco Systems                  \n",
      "5334  Dell                           \n",
      "6585  Dropbox                        \n",
      "2998  Ebay                           \n",
      "4084  Electronic Arts                \n",
      "8002  Epicore                        \n",
      "2506  Facebook                       \n",
      "6055  Forcepoint                     \n",
      "932   Freescale                      \n",
      "1273  GSDM                           \n",
      "3162  Gemalto                        \n",
      "7863  Global Foundries               \n",
      "384   Google                         \n",
      "7138  Hewlett Packard Enterprises    \n",
      "2068  HostGator                      \n",
      "6141  HotSchedules                   \n",
      "4789  IBM                            \n",
      "4830  Indeed                         \n",
      "3458  Informatica                    \n",
      "8394  Instacart                      \n",
      "3799  Intel                          \n",
      "6365  Invenio Solutions              \n",
      "8240  Khoros                         \n",
      "3489  Lawnstarter                    \n",
      "3895  Luminex                        \n",
      "5106  Main Street Hub                \n",
      "1694  Mood Media                     \n",
      "5907  National Instruments           \n",
      "3348  Netsync Network Solutions      \n",
      "7555  Nvidia                         \n",
      "4521  Oracle                         \n",
      "2894  PayPal                         \n",
      "3095  Pivot3                         \n",
      "1905  Plainview                      \n",
      "5574  Polycom                        \n",
      "4109  Procore Technologies           \n",
      "177   Protect America                \n",
      "8656  Q2 Software                    \n",
      "1803  Qualcomm                       \n",
      "1124  Rackspace                      \n",
      "6792  RetailMeNot                    \n",
      "8129  SailPoint                      \n",
      "7786  Salesforce                     \n",
      "8511  Samsung Austin Semiconductor   \n",
      "4630  Signpost                       \n",
      "6002  Silicon Labs                   \n",
      "538   SolarWinds                     \n",
      "5697  Sparefoot                      \n",
      "8117  Spiceworks                     \n",
      "4328  Stitch Fix                     \n",
      "2746  Tableau software               \n",
      "3544  TeleNetwork                    \n",
      "1334  USAA                           \n",
      "3654  Uber                           \n",
      "7472  VMware                         \n",
      "4421  Visa                           \n",
      "7164  Volusion                       \n",
      "8624  Vrbo                           \n",
      "690   Xerox                          \n",
      "304   Zynga                          \n",
      "6873  drillinginfo                   \n",
      "\n",
      "                                                                                                                                                                                                                                                                                                                                                                                                                                                                                                                                                                                                                                                                                                                                                                                                                                                                                                                                                                                                                                                                                                                                                                                                                                                                                                                                                                                                                                           cons  \\\n",
      "7693  Don't know where to start. Hostile atmosphere with the thought that you might be fired any moment, which doesn't really depend on some solid reason. Instinctive decision making and improper judgements lead to EXTREMELY high employee turnover rate. No exaggeration, but no employee would like to work in such an atmosphere where you know you can be replaced any moment now if you don't meet their impossible targets in a very short duration. They literally don't care about the employees, false promises are common. There are a few considerate managers but the ultimate authority looks out only for the immediate profitability and since the company is understaffed, almost all employees are forced to overwork. What's worse? Micromanagement is the chosen path, trust issues. Although the pay is good, it does not give the managers the rights to be authoritative and demeaning. A few managers have sky high attitude, if there's any opinion difference you'd have to give in to stay employed. Except for those who run the politics here, every other employee literally hate being a part of this organization and are looking for other opportunities to save themselves asap. Just do yourselves some good and don't get harassed by this organization. You wouldn't be an employee here to be respected and listened to; you would just be a resource similar to a fax machine, telephone or computer.   \n",
      "6639  way too many pointless meetings!                                                                                                                                                                                                                                                                                                                                                                                                                                                                                                                                                                                                                                                                                                                                                                                                                                                                                                                                                                                                                                                                                                                                                                                                                                                                                                                                                                                                            \n",
      "3721  Senior management can play favoritism and not supportive of engineering teams.                                                                                                                                                                                                                                                                                                                                                                                                                                                                                                                                                                                                                                                                                                                                                                                                                                                                                                                                                                                                                                                                                                                                                                                                                                                                                                                                                              \n",
      "7348  Limited advancement without relocating.                                                                                                                                                                                                                                                                                                                                                                                                                                                                                                                                                                                                                                                                                                                                                                                                                                                                                                                                                                                                                                                                                                                                                                                                                                                                                                                                                                                                     \n",
      "1650  Below average pay, and if you manage to get the pay you are happy with, good luck. They might let you go just so they can hire someone cheaper. Everyone is a commodity here except for the execs, who are secretive and duplicitous.                                                                                                                                                                                                                                                                                                                                                                                                                                                                                                                                                                                                                                                                                                                                                                                                                                                                                                                                                                                                                                                                                                                                                                                                       \n",
      "7002  Could not get enough work-from-home opportunity                                                                                                                                                                                                                                                                                                                                                                                                                                                                                                                                                                                                                                                                                                                                                                                                                                                                                                                                                                                                                                                                                                                                                                                                                                                                                                                                                                                             \n",
      "2598  Lot's of training, meetings, inefficient systems                                                                                                                                                                                                                                                                                                                                                                                                                                                                                                                                                                                                                                                                                                                                                                                                                                                                                                                                                                                                                                                                                                                                                                                                                                                                                                                                                                                            \n",
      "3308  the money was not good                                                                                                                                                                                                                                                                                                                                                                                                                                                                                                                                                                                                                                                                                                                                                                                                                                                                                                                                                                                                                                                                                                                                                                                                                                                                                                                                                                                                                      \n",
      "2838  Not a very social and fun work environment, many employees are in one age bracket                                                                                                                                                                                                                                                                                                                                                                                                                                                                                                                                                                                                                                                                                                                                                                                                                                                                                                                                                                                                                                                                                                                                                                                                                                                                                                                                                           \n",
      "4232  Career path definition or growth in roles not clear. Pay scale still not very competitive.                                                                                                                                                                                                                                                                                                                                                                                                                                                                                                                                                                                                                                                                                                                                                                                                                                                                                                                                                                                                                                                                                                                                                                                                                                                                                                                                                  \n",
      "62    Occasionally very early or very late meetings due to teammates in other countries. this isn't really a con                                                                                                                                                                                                                                                                                                                                                                                                                                                                                                                                                                                                                                                                                                                                                                                                                                                                                                                                                                                                                                                                                                                                                                                                                                                                                                                                  \n",
      "7592  Often time is spent - wasted - in meetings. Also, chit-chat can run long sometimes during potential productive stretches of developing time. Some of the developers that are a little more tenured can be a bit negative.                                                                                                                                                                                                                                                                                                                                                                                                                                                                                                                                                                                                                                                                                                                                                                                                                                                                                                                                                                                                                                                                                                                                                                                                                   \n",
      "2262  Quarterly minimum hour requirement can be challenging to meet at times\\nWork can be monotonous                                                                                                                                                                                                                                                                                                                                                                                                                                                                                                                                                                                                                                                                                                                                                                                                                                                                                                                                                                                                                                                                                                                                                                                                                                                                                                                                              \n",
      "808   * Executives keep using fake news to hype up the company. It's not real if you have to pay for it and it's on some blog with a ridiculous domain name.\\n* Executive keep treating options like they are worth a ridiculous amount when the actual valuation is not very much and they have no plans for an exit despite saying that they will very soon (been promising this for years).\\n* HR keeps trying to astroturf \"culture\"\\n* Not much upward mobility                                                                                                                                                                                                                                                                                                                                                                                                                                                                                                                                                                                                                                                                                                                                                                                                                                                                                                                                                                              \n",
      "6477  not the same company it was 5-10 years ago, and reflects in the # of senior managers that have either left or been let go\\nBenefits have slowly eroded or been revoked by EA                                                                                                                                                                                                                                                                                                                                                                                                                                                                                                                                                                                                                                                                                                                                                                                                                                                                                                                                                                                                                                                                                                                                                                                                                                                                \n",
      "569   Onboarding process could be better as there is a lot to learn fresh off the street so there could be a better way to ramp employees up to being fully productive.\\n\\nOverabundance of meetings.  Sometimes finding time to do the work you need to do can be hard as meetings can be back to back all day long.                                                                                                                                                                                                                                                                                                                                                                                                                                                                                                                                                                                                                                                                                                                                                                                                                                                                                                                                                                                                                                                                                                                             \n",
      "276   Too many close friendships at the management level that get in the way of making good business decisions.  Although they will tell you that there are no politics at Cirrus Logic it is probably the worst I have seen in all the places I have been.                                                                                                                                                                                                                                                                                                                                                                                                                                                                                                                                                                                                                                                                                                                                                                                                                                                                                                                                                                                                                                                                                                                                                                                       \n",
      "6236  often lots of hours because projects and customer support                                                                                                                                                                                                                                                                                                                                                                                                                                                                                                                                                                                                                                                                                                                                                                                                                                                                                                                                                                                                                                                                                                                                                                                                                                                                                                                                                                                   \n",
      "5334  Benefits are not that great                                                                                                                                                                                                                                                                                                                                                                                                                                                                                                                                                                                                                                                                                                                                                                                                                                                                                                                                                                                                                                                                                                                                                                                                                                                                                                                                                                                                                 \n",
      "6585  Giving people the freedom to work how they want means dozens if not hundreds of ways of working. Email, meetings, slack, chat groups, wikis, paper docs, text, etc.\\n\\nIt can be easy to fall in the trap of doing stuff vs. doing what matters.                                                                                                                                                                                                                                                                                                                                                                                                                                                                                                                                                                                                                                                                                                                                                                                                                                                                                                                                                                                                                                                                                                                                                                                            \n",
      "2998  Not doing well compared to competitors                                                                                                                                                                                                                                                                                                                                                                                                                                                                                                                                                                                                                                                                                                                                                                                                                                                                                                                                                                                                                                                                                                                                                                                                                                                                                                                                                                                                      \n",
      "4084  Dental Insurance is not the greatest                                                                                                                                                                                                                                                                                                                                                                                                                                                                                                                                                                                                                                                                                                                                                                                                                                                                                                                                                                                                                                                                                                                                                                                                                                                                                                                                                                                                        \n",
      "8002  likely to get layoff due to the outsourcing trend                                                                                                                                                                                                                                                                                                                                                                                                                                                                                                                                                                                                                                                                                                                                                                                                                                                                                                                                                                                                                                                                                                                                                                                                                                                                                                                                                                                           \n",
      "2506  As more people get hired scope of role and work may decrease due to too many cooks in the kitchen.\\n\\nI've noticed a creep in territoriality and focus on getting a good review rather than impact.                                                                                                                                                                                                                                                                                                                                                                                                                                                                                                                                                                                                                                                                                                                                                                                                                                                                                                                                                                                                                                                                                                                                                                                                                                         \n",
      "6055  Absolutely zero upward mobility.\\nEmployees aren't appreciated at all.\\nManagement never follows through with it's promises.\\nThey will find every reason possible to stop your raises or promotions.\\nCurrent CEO and upper management have destroyed the work environment for their employees.\\nSupport team is horribly understaffed, over worked, and under paid.                                                                                                                                                                                                                                                                                                                                                                                                                                                                                                                                                                                                                                                                                                                                                                                                                                                                                                                                                                                                                                                                       \n",
      "932   Work can be a bit hectic and process changes are difficult to deal with suddenly.                                                                                                                                                                                                                                                                                                                                                                                                                                                                                                                                                                                                                                                                                                                                                                                                                                                                                                                                                                                                                                                                                                                                                                                                                                                                                                                                                           \n",
      "1273  -heard negative things about working full time - lot of hours and work for not much pay, top heavy                                                                                                                                                                                                                                                                                                                                                                                                                                                                                                                                                                                                                                                                                                                                                                                                                                                                                                                                                                                                                                                                                                                                                                                                                                                                                                                                          \n",
      "3162  Pay could be more than what it is.  According to Glassdoor I am at the bottom of my range.                                                                                                                                                                                                                                                                                                                                                                                                                                                                                                                                                                                                                                                                                                                                                                                                                                                                                                                                                                                                                                                                                                                                                                                                                                                                                                                                                  \n",
      "7863  The project management and follow through to completion is terrible. Goals are constantly changing. The end result is nothing substantial ever gets done in a timely manner.                                                                                                                                                                                                                                                                                                                                                                                                                                                                                                                                                                                                                                                                                                                                                                                                                                                                                                                                                                                                                                                                                                                                                                                                                                                                \n",
      "384   Not many that I can think of that are specific to Google.\\nA few managers who weren't terribly hands-on from a technology perspective, caring only about deadlines. But, then again, that's part of their role as managers. Happens in all companies.\\nPerformance review process had become rather onerous, but it was adjusted almost every year to address this issue.                                                                                                                                                                                                                                                                                                                                                                                                                                                                                                                                                                                                                                                                                                                                                                                                                                                                                                                                                                                                                                                                   \n",
      "7138  Upper management treats the workforce as interchangeable cost units that can be moved from country to country.   This means that  you can be layed off (WFR) at a moments notice regardless of how talented or how much you contribute to the company.  The depersonalization is such that people are not really called people by management they are called TCOW's(total cost of workforce -- permanent)  and RCOW's (resource cost of workforce -- contractors).  When the word comes down from on high to cut your TCOWs you have to do so regardless of how good the people are that are working for you.  As  you read the reviews you will notice a very different set of reviews depending which country the review is from.\\n\\nManagement creates quite a bit of PR about how they value talent within HP, but the lack of training and/or apprenticeship opportunities to develop people into new or changing roles is almost non-existent.  It is pretty much limited to the occasional quarterly class on management processes or access to Linked-In learning.    There is tuition reimbursement but it takes a serious commitment to a program before you can use it.\\n\\nIt is clear that the stock holders greatly out-prioritize the work force.                                                                                                                                                                             \n",
      "2068  Confusing policies and promotions gave customers unrealistic expectations that customer service reps then had to walk back.                                                                                                                                                                                                                                                                                                                                                                                                                                                                                                                                                                                                                                                                                                                                                                                                                                                                                                                                                                                                                                                                                                                                                                                                                                                                                                                 \n",
      "6141  Very high turnover rate\\nLack of vision\\nAbrupt changes with no data supporting moves\\nLow Pay\\nDifficult to Move up \\nDiversity is non existent                                                                                                                                                                                                                                                                                                                                                                                                                                                                                                                                                                                                                                                                                                                                                                                                                                                                                                                                                                                                                                                                                                                                                                                                                                                                                            \n",
      "4789  Pay, work/life balance, management, more than 50% travel                                                                                                                                                                                                                                                                                                                                                                                                                                                                                                                                                                                                                                                                                                                                                                                                                                                                                                                                                                                                                                                                                                                                                                                                                                                                                                                                                                                    \n",
      "4830  very hard quotas to meet.                                                                                                                                                                                                                                                                                                                                                                                                                                                                                                                                                                                                                                                                                                                                                                                                                                                                                                                                                                                                                                                                                                                                                                                                                                                                                                                                                                                                                   \n",
      "3458  Riding the hype cycle a bit in terms of Big Data and AI.  Not sure this is a con as we'll see which bets pay off.                                                                                                                                                                                                                                                                                                                                                                                                                                                                                                                                                                                                                                                                                                                                                                                                                                                                                                                                                                                                                                                                                                                                                                                                                                                                                                                           \n",
      "8394  Not being able to get full time                                                                                                                                                                                                                                                                                                                                                                                                                                                                                                                                                                                                                                                                                                                                                                                                                                                                                                                                                                                                                                                                                                                                                                                                                                                                                                                                                                                                             \n",
      "3799  I dont have any cons for Intel                                                                                                                                                                                                                                                                                                                                                                                                                                                                                                                                                                                                                                                                                                                                                                                                                                                                                                                                                                                                                                                                                                                                                                                                                                                                                                                                                                                                              \n",
      "6365  Capped commissions \\n\\nI don't have anything else to add to the Cons section. I am only filling this to meet the 20 word minimum.                                                                                                                                                                                                                                                                                                                                                                                                                                                                                                                                                                                                                                                                                                                                                                                                                                                                                                                                                                                                                                                                                                                                                                                                                                                                                                           \n",
      "8240  So far it had been a good ride as I have a great manager and team members. But now that Spredfast was acquired by Vista Equities the future is uncertain. Vista is well known for hiring young, inexperienced and therefore more \"affordable\" people so we'll have to see what the impact of the acquisition will be.                                                                                                                                                                                                                                                                                                                                                                                                                                                                                                                                                                                                                                                                                                                                                                                                                                                                                                                                                                                                                                                                                                                       \n",
      "3489  It is a startup so there are frequent changes \\nPaying and finding downtown parking                                                                                                                                                                                                                                                                                                                                                                                                                                                                                                                                                                                                                                                                                                                                                                                                                                                                                                                                                                                                                                                                                                                                                                                                                                                                                                                                                         \n",
      "3895  None to name at the moment                                                                                                                                                                                                                                                                                                                                                                                                                                                                                                                                                                                                                                                                                                                                                                                                                                                                                                                                                                                                                                                                                                                                                                                                                                                                                                                                                                                                                  \n",
      "5106  Work can be a bit hectic and process changes are difficult to deal with suddenly.                                                                                                                                                                                                                                                                                                                                                                                                                                                                                                                                                                                                                                                                                                                                                                                                                                                                                                                                                                                                                                                                                                                                                                                                                                                                                                                                                           \n",
      "1694  Poor pay, discrimination,  poor management , HR managers are the worst. No career growth, RUN FAR AWAY. VP does nothing to solve the issue because they are afraid to lose their managers. the managers use that to treat you bad and talk down on you.  Cheap company so donât expect much.                                                                                                                                                                                                                                                                                                                                                                                                                                                                                                                                                                                                                                                                                                                                                                                                                                                                                                                                                                                                                                                                                                                                              \n",
      "5907  Many changes in recent years, people seem skeptical (but everyone is still working hard)\\nYour colleagues become your only friends, can be tough to separate work from play                                                                                                                                                                                                                                                                                                                                                                                                                                                                                                                                                                                                                                                                                                                                                                                                                                                                                                                                                                                                                                                                                                                                                                                                                                                                 \n",
      "3348  The director level managers are not open to culture changes\\nThe director level managers can be inappropriate at times\\nWork load can be heavy, especially for what they pay support staff\\nThe Account Managers are, for the most part, rude and have huge egos.                                                                                                                                                                                                                                                                                                                                                                                                                                                                                                                                                                                                                                                                                                                                                                                                                                                                                                                                                                                                                                                                                                                                                                           \n",
      "7555  Some old legacy processes still in place that make it hard to get your job done                                                                                                                                                                                                                                                                                                                                                                                                                                                                                                                                                                                                                                                                                                                                                                                                                                                                                                                                                                                                                                                                                                                                                                                                                                                                                                                                                             \n",
      "4521  Very distributed across the globe                                                                                                                                                                                                                                                                                                                                                                                                                                                                                                                                                                                                                                                                                                                                                                                                                                                                                                                                                                                                                                                                                                                                                                                                                                                                                                                                                                                                           \n",
      "2894  Not enough pay for the amount of work                                                                                                                                                                                                                                                                                                                                                                                                                                                                                                                                                                                                                                                                                                                                                                                                                                                                                                                                                                                                                                                                                                                                                                                                                                                                                                                                                                                                       \n",
      "3095  Terrible leadership from the top down.  Management is more concerned with their next job opportunity, and there is virtually no feedback.                                                                                                                                                                                                                                                                                                                                                                                                                                                                                                                                                                                                                                                                                                                                                                                                                                                                                                                                                                                                                                                                                                                                                                                                                                                                                                   \n",
      "1905  Technology is built on an old technology stack.  Not much room to grow and add skills.  Once you've mastered the software it becomes much less challenging.                                                                                                                                                                                                                                                                                                                                                                                                                                                                                                                                                                                                                                                                                                                                                                                                                                                                                                                                                                                                                                                                                                                                                                                                                                                                                 \n",
      "5574  In a global role, the work hours were crazy                                                                                                                                                                                                                                                                                                                                                                                                                                                                                                                                                                                                                                                                                                                                                                                                                                                                                                                                                                                                                                                                                                                                                                                                                                                                                                                                                                                                 \n",
      "4109  There are times when positions are not available to all remote offices, and that can be a bit deflating.                                                                                                                                                                                                                                                                                                                                                                                                                                                                                                                                                                                                                                                                                                                                                                                                                                                                                                                                                                                                                                                                                                                                                                                                                                                                                                                                    \n",
      "177   Every company has a list of cons depending on the employee you talk to. No one employee is going to be happy with everything a company does. You make your own destiny and the choices you make and the attitude you have coming to work can make it a great place to work or you will be miserable.                                                                                                                                                                                                                                                                                                                                                                                                                                                                                                                                                                                                                                                                                                                                                                                                                                                                                                                                                                                                                                                                                                                                        \n",
      "8656  Tremendous growth - very quickly.  Can create a sense of  chaos at times.   May be better suited for a \"builder\" as opposed to a \"maintainer.\"                                                                                                                                                                                                                                                                                                                                                                                                                                                                                                                                                                                                                                                                                                                                                                                                                                                                                                                                                                                                                                                                                                                                                                                                                                                                                              \n",
      "1803  Long working hours, less bonus                                                                                                                                                                                                                                                                                                                                                                                                                                                                                                                                                                                                                                                                                                                                                                                                                                                                                                                                                                                                                                                                                                                                                                                                                                                                                                                                                                                                              \n",
      "1124  Management does not share information widely until we hear about it from someone else.                                                                                                                                                                                                                                                                                                                                                                                                                                                                                                                                                                                                                                                                                                                                                                                                                                                                                                                                                                                                                                                                                                                                                                                                                                                                                                                                                      \n",
      "6792  The most common negative you see in other reviews is that the company is a sweat shop. This is ridiculous. The executives work hard and set the example, but I've never been asked to work the same hours they do. This company is for those who want to challenge themselves and develop their career. If you just want a place to \"pack it in\" and work a 9-5, you can work here but you won't advance. If you work hard and grow your skills set, you will be rewarded. This seems fair to me.                                                                                                                                                                                                                                                                                                                                                                                                                                                                                                                                                                                                                                                                                                                                                                                                                                                                                                                                           \n",
      "8129  No 401k match- but good bonus structure                                                                                                                                                                                                                                                                                                                                                                                                                                                                                                                                                                                                                                                                                                                                                                                                                                                                                                                                                                                                                                                                                                                                                                                                                                                                                                                                                                                                     \n",
      "7786  No room for much professional growth                                                                                                                                                                                                                                                                                                                                                                                                                                                                                                                                                                                                                                                                                                                                                                                                                                                                                                                                                                                                                                                                                                                                                                                                                                                                                                                                                                                                        \n",
      "8511  The higher you move up in the company and more responsibility you take on, the more the job will creep into your personal life.                                                                                                                                                                                                                                                                                                                                                                                                                                                                                                                                                                                                                                                                                                                                                                                                                                                                                                                                                                                                                                                                                                                                                                                                                                                                                                             \n",
      "4630  Sales is tough, but if you implement what your managers teach you, you'll be fine.                                                                                                                                                                                                                                                                                                                                                                                                                                                                                                                                                                                                                                                                                                                                                                                                                                                                                                                                                                                                                                                                                                                                                                                                                                                                                                                                                          \n",
      "6002  Due to the small size, there isn't as much potential for moving up the ladder.                                                                                                                                                                                                                                                                                                                                                                                                                                                                                                                                                                                                                                                                                                                                                                                                                                                                                                                                                                                                                                                                                                                                                                                                                                                                                                                                                              \n",
      "538   Very quick to let people go. Affecting office moral                                                                                                                                                                                                                                                                                                                                                                                                                                                                                                                                                                                                                                                                                                                                                                                                                                                                                                                                                                                                                                                                                                                                                                                                                                                                                                                                                                                         \n",
      "5697  You may have to work a weekend or two initially, but that can be easily managed like any other aspect of a work week.                                                                                                                                                                                                                                                                                                                                                                                                                                                                                                                                                                                                                                                                                                                                                                                                                                                                                                                                                                                                                                                                                                                                                                                                                                                                                                                       \n",
      "8117  - Things move fast. Priorities can shift quickly. You have to be ready & willing to change direction.                                                                                                                                                                                                                                                                                                                                                                                                                                                                                                                                                                                                                                                                                                                                                                                                                                                                                                                                                                                                                                                                                                                                                                                                                                                                                                                                       \n",
      "4328  Lack of inventory, management pretty naggy since they don't know you (and are primarily female moms), metrics set high, lack of flexibility once you set your schedule, their current supply chain model, being a part-time employee as a second job was really challenging because of inventory that it wasn't remotely fun. It seems like the stylists who do not have another job are the most successful.                                                                                                                                                                                                                                                                                                                                                                                                                                                                                                                                                                                                                                                                                                                                                                                                                                                                                                                                                                                                                               \n",
      "2746  The offices are located in an area that is very expensive to live and the wages are low compared to what other companies pay in Seattle for the same position                                                                                                                                                                                                                                                                                                                                                                                                                                                                                                                                                                                                                                                                                                                                                                                                                                                                                                                                                                                                                                                                                                                                                                                                                                                                               \n",
      "3544  Poor communication from upper management, some Team Leaders can be overbearing or fail to see subordinates as people with emotional and psychological needs or limitations. This also comes into play with coworkers as well. Occasionally Spark chats will contain unprofessional or downright rude language or behavior, though this is generally kept to a minimum with a good Team Leader. Holidays are incredibly limited, some only counting certain hours of the day as the actual holiday. As another reviewer stated, holiday bonuses were slashed without warning or explanation given this past year. Where they had been a few hundred after taxes in years past, almost all bonuses were under $100 last year, varying based on length of employment. We received no explanation, and no notice. Internal tools aren't always updated immediately with new policies or procedures, occasionally making it difficult to find new information during early implementation.                                                                                                                                                                                                                                                                                                                                                                                                                                                       \n",
      "1334  you can experience burn out rather quickly                                                                                                                                                                                                                                                                                                                                                                                                                                                                                                                                                                                                                                                                                                                                                                                                                                                                                                                                                                                                                                                                                                                                                                                                                                                                                                                                                                                                  \n",
      "3654  Realtime responsibilities lead to less personal time                                                                                                                                                                                                                                                                                                                                                                                                                                                                                                                                                                                                                                                                                                                                                                                                                                                                                                                                                                                                                                                                                                                                                                                                                                                                                                                                                                                        \n",
      "7472  Politics by senior management and lack of direction.                                                                                                                                                                                                                                                                                                                                                                                                                                                                                                                                                                                                                                                                                                                                                                                                                                                                                                                                                                                                                                                                                                                                                                                                                                                                                                                                                                                        \n",
      "4421  Office Politics can get overwhelming at times \\nHR department is inept in many areas                                                                                                                                                                                                                                                                                                                                                                                                                                                                                                                                                                                                                                                                                                                                                                                                                                                                                                                                                                                                                                                                                                                                                                                                                                                                                                                                                        \n",
      "7164  There's an internal tension at the company between the limitations of the platform due to poor engineering decisions in the past and the desire to build new features to remain competitive. The current V2 platform has improved significantly and working in TypeScript makes things much more pleasant but the underlying code is still poor and needs a significant amount of work. There appears to be a disconnect between product and engineering processes, but nothing that can't be fixed with better communication. The \"accelerators\" (more or less like Spotify pods) weekly meeting format seems to have drifted from its original intention and no longer enforces accountability, although accountability does exist through managerial and project relationships.                                                                                                                                                                                                                                                                                                                                                                                                                                                                                                                                                                                                                                                          \n",
      "8624  Bad culture, poor morale, low value added works, micro manage                                                                                                                                                                                                                                                                                                                                                                                                                                                                                                                                                                                                                                                                                                                                                                                                                                                                                                                                                                                                                                                                                                                                                                                                                                                                                                                                                                               \n",
      "690   Legacy systems, IRIF many knowledgeable people, very political and decentralized decision making which makes it difficult to be agile or to make necessary changes                                                                                                                                                                                                                                                                                                                                                                                                                                                                                                                                                                                                                                                                                                                                                                                                                                                                                                                                                                                                                                                                                                                                                                                                                                                                          \n",
      "304   Open seating.  Bad workers seem to be grandfathered in.                                                                                                                                                                                                                                                                                                                                                                                                                                                                                                                                                                                                                                                                                                                                                                                                                                                                                                                                                                                                                                                                                                                                                                                                                                                                                                                                                                                     \n",
      "6873  The pay for entry level positions (at least in my case) is lower than average, but they make up for it in career advancement opportunities, company sponsored outings/events/parties, and the chance to work with highly intelligent and fun people. In other positions the pay is definitely competitive.                                                                                                                                                                                                                                                                                                                                                                                                                                                                                                                                                                                                                                                                                                                                                                                                                                                                                                                                                                                                                                                                                                                                  \n",
      "\n",
      "                                                                                                                                                                                                                                                                                                                                                                                                                                                                                                                                                                                                                                                                                                                                                                                                                                                                                                                                                                                                                                                                                                                                                                                                                                                                                                                                                                                                                                                                                                                                                                                                                                                                                                                                                                                                                                                                                                                                                                                                                                                                                                                                    pros  \\\n",
      "7693  Technically potential opportunities since the existing systems are quite old and needs to be upgraded/enhanced. Good to see that they're investing in technology.                                                                                                                                                                                                                                                                                                                                                                                                                                                                                                                                                                                                                                                                                                                                                                                                                                                                                                                                                                                                                                                                                                                                                                                                                                                                                                                                                                                                                                                                                                                                                                                                                                                                                                                                                                                                                                                                                                                                                                    \n",
      "6639  flexible schedule - could work remotely                                                                                                                                                                                                                                                                                                                                                                                                                                                                                                                                                                                                                                                                                                                                                                                                                                                                                                                                                                                                                                                                                                                                                                                                                                                                                                                                                                                                                                                                                                                                                                                                                                                                                                                                                                                                                                                                                                                                                                                                                                                                                              \n",
      "3721  Flexible work schedule and nice people to work with.                                                                                                                                                                                                                                                                                                                                                                                                                                                                                                                                                                                                                                                                                                                                                                                                                                                                                                                                                                                                                                                                                                                                                                                                                                                                                                                                                                                                                                                                                                                                                                                                                                                                                                                                                                                                                                                                                                                                                                                                                                                                                 \n",
      "7348  Flexible work locations and excellent benefits.                                                                                                                                                                                                                                                                                                                                                                                                                                                                                                                                                                                                                                                                                                                                                                                                                                                                                                                                                                                                                                                                                                                                                                                                                                                                                                                                                                                                                                                                                                                                                                                                                                                                                                                                                                                                                                                                                                                                                                                                                                                                                      \n",
      "1650  Great entry level work. They have good training systems so they can develop all their employees quickly, especially those right out of school. Here youÛªll have lots of room to grow your career and skills horizontally and vertically.                                                                                                                                                                                                                                                                                                                                                                                                                                                                                                                                                                                                                                                                                                                                                                                                                                                                                                                                                                                                                                                                                                                                                                                                                                                                                                                                                                                                                                                                                                                                                                                                                                                                                                                                                                                                                                                                                           \n",
      "7002  Good Learning\\nVaried projects\\nGrowth prospects\\nEasy to approach Management\\nIf willing to learn and contribute, sky is the limit                                                                                                                                                                                                                                                                                                                                                                                                                                                                                                                                                                                                                                                                                                                                                                                                                                                                                                                                                                                                                                                                                                                                                                                                                                                                                                                                                                                                                                                                                                                                                                                                                                                                                                                                                                                                                                                                                                                                                                                                  \n",
      "2598  Ability to work remote, strong compensation, smart team members, fluidity in internal movement.                                                                                                                                                                                                                                                                                                                                                                                                                                                                                                                                                                                                                                                                                                                                                                                                                                                                                                                                                                                                                                                                                                                                                                                                                                                                                                                                                                                                                                                                                                                                                                                                                                                                                                                                                                                                                                                                                                                                                                                                                                      \n",
      "3308  good environment to work with                                                                                                                                                                                                                                                                                                                                                                                                                                                                                                                                                                                                                                                                                                                                                                                                                                                                                                                                                                                                                                                                                                                                                                                                                                                                                                                                                                                                                                                                                                                                                                                                                                                                                                                                                                                                                                                                                                                                                                                                                                                                                                        \n",
      "2838  Diverse place to work, ability to move between groups and projects easily as your interests change                                                                                                                                                                                                                                                                                                                                                                                                                                                                                                                                                                                                                                                                                                                                                                                                                                                                                                                                                                                                                                                                                                                                                                                                                                                                                                                                                                                                                                                                                                                                                                                                                                                                                                                                                                                                                                                                                                                                                                                                                                   \n",
      "4232  Great projects, work on Industry leading technologies, opportunities for learning and working with bright people, employees are motivated, stick to schedules and are easy to work with. Very transparent management and keeps people informed of the changes. Respects work-life balance                                                                                                                                                                                                                                                                                                                                                                                                                                                                                                                                                                                                                                                                                                                                                                                                                                                                                                                                                                                                                                                                                                                                                                                                                                                                                                                                                                                                                                                                                                                                                                                                                                                                                                                                                                                                                                            \n",
      "62    Terrific environment, teams genuinely try to help each other, opportunities for collaboration and upward mobility                                                                                                                                                                                                                                                                                                                                                                                                                                                                                                                                                                                                                                                                                                                                                                                                                                                                                                                                                                                                                                                                                                                                                                                                                                                                                                                                                                                                                                                                                                                                                                                                                                                                                                                                                                                                                                                                                                                                                                                                                    \n",
      "7592  Work with experienced, skilled, and intelligent developers using cutting edge technologies in an agile environment. Management is very empowering. Developers are given every opportunity to succeed.                                                                                                                                                                                                                                                                                                                                                                                                                                                                                                                                                                                                                                                                                                                                                                                                                                                                                                                                                                                                                                                                                                                                                                                                                                                                                                                                                                                                                                                                                                                                                                                                                                                                                                                                                                                                                                                                                                                                \n",
      "2262  Remote\\nSalary\\nFlexibility\\nAbility to work more than set hours\\nExtensive training and support\\nOpportunities for advancement \\nWork is engaging                                                                                                                                                                                                                                                                                                                                                                                                                                                                                                                                                                                                                                                                                                                                                                                                                                                                                                                                                                                                                                                                                                                                                                                                                                                                                                                                                                                                                                                                                                                                                                                                                                                                                                                                                                                                                                                                                                                                                                                   \n",
      "808   * Good work life balance\\n* Good coworkers\\n* Decent place to get some work experience but unlikely to be able to move up                                                                                                                                                                                                                                                                                                                                                                                                                                                                                                                                                                                                                                                                                                                                                                                                                                                                                                                                                                                                                                                                                                                                                                                                                                                                                                                                                                                                                                                                                                                                                                                                                                                                                                                                                                                                                                                                                                                                                                                                            \n",
      "6477  teams work hard to keep culture intact, still a sense of pride to work for company, support teams work hard to make environment fun as possible with restrictions given                                                                                                                                                                                                                                                                                                                                                                                                                                                                                                                                                                                                                                                                                                                                                                                                                                                                                                                                                                                                                                                                                                                                                                                                                                                                                                                                                                                                                                                                                                                                                                                                                                                                                                                                                                                                                                                                                                                                                              \n",
      "569   Great work/life balance\\nFriendly and relaxed work environment\\nChallenging work that will allow you to grow and expand knowledge base\\nEasy access to front line leaders\\nCompetitive pay and benefits\\nEmployees are encouraged to use all PTO and it is not held against them if taken\\nEncourages  employees to give back to the community and allows them time to do so                                                                                                                                                                                                                                                                                                                                                                                                                                                                                                                                                                                                                                                                                                                                                                                                                                                                                                                                                                                                                                                                                                                                                                                                                                                                                                                                                                                                                                                                                                                                                                                                                                                                                                                                                         \n",
      "276   Try and treat thier employees with respect and make it a fun place to work.  If you work remotely it is not a good situation.  Very little support outside of corp as it refers to tools, equip needed and understanding of your role.   Good people and decent products                                                                                                                                                                                                                                                                                                                                                                                                                                                                                                                                                                                                                                                                                                                                                                                                                                                                                                                                                                                                                                                                                                                                                                                                                                                                                                                                                                                                                                                                                                                                                                                                                                                                                                                                                                                                                                                             \n",
      "6236  Good benefits, flexibility to work                                                                                                                                                                                                                                                                                                                                                                                                                                                                                                                                                                                                                                                                                                                                                                                                                                                                                                                                                                                                                                                                                                                                                                                                                                                                                                                                                                                                                                                                                                                                                                                                                                                                                                                                                                                                                                                                                                                                                                                                                                                                                                   \n",
      "5334  Great place to Work\\nFlexible Working hours                                                                                                                                                                                                                                                                                                                                                                                                                                                                                                                                                                                                                                                                                                                                                                                                                                                                                                                                                                                                                                                                                                                                                                                                                                                                                                                                                                                                                                                                                                                                                                                                                                                                                                                                                                                                                                                                                                                                                                                                                                                                                          \n",
      "6585  Dropbox can be an intimidating place - extremely smart & capable people, everyone moves fast, decisions happen quickly, tons of exciting work and projects to grab on to, but where to startâ¦\\n\\nThen it hits you. Dropbox has made it possible for you to come and do your lifeâs work. Itâs a place where you can do and be what you want to be. The culture and atmosphere buzzes from excitement & innovation and exudes passion. \\n\\nThey make everyday decisions easy & painless so you can focus on the work that matters. From the incredible free food to quality healthcare to unlimited vacation to an environment where youâre free to work from where and how you want worry-free (which includes work/life balance).\\n\\nWhat youâre left with is the freedom and time to do the work youâre meant to do. And thatâs when you graduate from intimidation to empowering.                                                                                                                                                                                                                                                                                                                                                                                                                                                                                                                                                                                                                                                                                                                                                                                                                                                                                                                                                                                                                                                                                                                                                                                                                                   \n",
      "2998  -Good benefits \\n-Latest tech stack\\n-Accelerated career path if you are willing to work hard \\n- Reasonable work life balance                                                                                                                                                                                                                                                                                                                                                                                                                                                                                                                                                                                                                                                                                                                                                                                                                                                                                                                                                                                                                                                                                                                                                                                                                                                                                                                                                                                                                                                                                                                                                                                                                                                                                                                                                                                                                                                                                                                                                                                                       \n",
      "4084  Challenging role requires a broad range of business and technical knowledge with a fast pace and need to be agile to respond to business needs                                                                                                                                                                                                                                                                                                                                                                                                                                                                                                                                                                                                                                                                                                                                                                                                                                                                                                                                                                                                                                                                                                                                                                                                                                                                                                                                                                                                                                                                                                                                                                                                                                                                                                                                                                                                                                                                                                                                                                                       \n",
      "8002  has flexible work hours with option to work remotely                                                                                                                                                                                                                                                                                                                                                                                                                                                                                                                                                                                                                                                                                                                                                                                                                                                                                                                                                                                                                                                                                                                                                                                                                                                                                                                                                                                                                                                                                                                                                                                                                                                                                                                                                                                                                                                                                                                                                                                                                                                                                 \n",
      "2506  Flexibility of work\\nBest in Class Benefits\\nBig Interesting Problems to Solve at Scale\\nFlexibility to change teams if you get bored, don't fit well with a given team\\nPerformance is rewarded well                                                                                                                                                                                                                                                                                                                                                                                                                                                                                                                                                                                                                                                                                                                                                                                                                                                                                                                                                                                                                                                                                                                                                                                                                                                                                                                                                                                                                                                                                                                                                                                                                                                                                                                                                                                                                                                                                                                                \n",
      "6055  Adequate training time allotted to learn the product.\\nGood company to start at if you are new to support.                                                                                                                                                                                                                                                                                                                                                                                                                                                                                                                                                                                                                                                                                                                                                                                                                                                                                                                                                                                                                                                                                                                                                                                                                                                                                                                                                                                                                                                                                                                                                                                                                                                                                                                                                                                                                                                                                                                                                                                                                           \n",
      "932   Work environment is good, great people to work with.                                                                                                                                                                                                                                                                                                                                                                                                                                                                                                                                                                                                                                                                                                                                                                                                                                                                                                                                                                                                                                                                                                                                                                                                                                                                                                                                                                                                                                                                                                                                                                                                                                                                                                                                                                                                                                                                                                                                                                                                                                                                                 \n",
      "1273  -Great work environment \\n-SUPER friendly employees, make an effort to say hi to me\\n-my supervisor is regularly available                                                                                                                                                                                                                                                                                                                                                                                                                                                                                                                                                                                                                                                                                                                                                                                                                                                                                                                                                                                                                                                                                                                                                                                                                                                                                                                                                                                                                                                                                                                                                                                                                                                                                                                                                                                                                                                                                                                                                                                                           \n",
      "3162  Being able to Remote and have the flexibility is the most important benefit that this Company and my manager can offer.                                                                                                                                                                                                                                                                                                                                                                                                                                                                                                                                                                                                                                                                                                                                                                                                                                                                                                                                                                                                                                                                                                                                                                                                                                                                                                                                                                                                                                                                                                                                                                                                                                                                                                                                                                                                                                                                                                                                                                                                              \n",
      "7863  Get to work on leading edge technology\\nFlexible work hours                                                                                                                                                                                                                                                                                                                                                                                                                                                                                                                                                                                                                                                                                                                                                                                                                                                                                                                                                                                                                                                                                                                                                                                                                                                                                                                                                                                                                                                                                                                                                                                                                                                                                                                                                                                                                                                                                                                                                                                                                                                                          \n",
      "384   Smart people\\nInteresting projects\\nUses own software and platforms\\nGreat benefits\\nExposure to technology\\nGreat internal learning opportunities                                                                                                                                                                                                                                                                                                                                                                                                                                                                                                                                                                                                                                                                                                                                                                                                                                                                                                                                                                                                                                                                                                                                                                                                                                                                                                                                                                                                                                                                                                                                                                                                                                                                                                                                                                                                                                                                                                                                                                                   \n",
      "7138  A strong desire for fairness and encouraging teamwork.  Also, working around some very talented people encourages growth.    For newer employess, HP can be a great learning opportunity working alongside these veterans.  After about five years, it is usually time to move on to another company where you can have some assurance of more steady career paths.\\n\\nUpper management strives to provide solid financial stability to the company.                                                                                                                                                                                                                                                                                                                                                                                                                                                                                                                                                                                                                                                                                                                                                                                                                                                                                                                                                                                                                                                                                                                                                                                                                                                                                                                                                                                                                                                                                                                                                                                                                                                                                 \n",
      "2068  Willing to hire someone with very little experience and pay above minimum wage. Fairly flexible on scheduling, considering they have to staff a 24-hour operation.                                                                                                                                                                                                                                                                                                                                                                                                                                                                                                                                                                                                                                                                                                                                                                                                                                                                                                                                                                                                                                                                                                                                                                                                                                                                                                                                                                                                                                                                                                                                                                                                                                                                                                                                                                                                                                                                                                                                                                   \n",
      "6141  Flexibility\\nWork Life Balance\\nGood people\\nRelaxed environment\\nUnlimited PTo                                                                                                                                                                                                                                                                                                                                                                                                                                                                                                                                                                                                                                                                                                                                                                                                                                                                                                                                                                                                                                                                                                                                                                                                                                                                                                                                                                                                                                                                                                                                                                                                                                                                                                                                                                                                                                                                                                                                                                                                                                                      \n",
      "4789  Access to training materials, ability to skill up in modern technologies                                                                                                                                                                                                                                                                                                                                                                                                                                                                                                                                                                                                                                                                                                                                                                                                                                                                                                                                                                                                                                                                                                                                                                                                                                                                                                                                                                                                                                                                                                                                                                                                                                                                                                                                                                                                                                                                                                                                                                                                                                                             \n",
      "4830  very easy to work for                                                                                                                                                                                                                                                                                                                                                                                                                                                                                                                                                                                                                                                                                                                                                                                                                                                                                                                                                                                                                                                                                                                                                                                                                                                                                                                                                                                                                                                                                                                                                                                                                                                                                                                                                                                                                                                                                                                                                                                                                                                                                                                \n",
      "3458  autonomy and trust in employees to get there work done when needed and not micromanage schedules                                                                                                                                                                                                                                                                                                                                                                                                                                                                                                                                                                                                                                                                                                                                                                                                                                                                                                                                                                                                                                                                                                                                                                                                                                                                                                                                                                                                                                                                                                                                                                                                                                                                                                                                                                                                                                                                                                                                                                                                                                     \n",
      "8394  The flexibility of being able to work when i can.                                                                                                                                                                                                                                                                                                                                                                                                                                                                                                                                                                                                                                                                                                                                                                                                                                                                                                                                                                                                                                                                                                                                                                                                                                                                                                                                                                                                                                                                                                                                                                                                                                                                                                                                                                                                                                                                                                                                                                                                                                                                                    \n",
      "3799  Great benefits\\nFlexibility\\nExc place to work                                                                                                                                                                                                                                                                                                                                                                                                                                                                                                                                                                                                                                                                                                                                                                                                                                                                                                                                                                                                                                                                                                                                                                                                                                                                                                                                                                                                                                                                                                                                                                                                                                                                                                                                                                                                                                                                                                                                                                                                                                                                                       \n",
      "6365  Invenio Solutions was very nice work experience. If you put in your hard work and time it will pay off. Invenio provides a great work life balance, I never felt like my work followed me home. The way the Winchester environment is structured is committed to molding their employees into successful Business Development Representatives. I would recommend anyone looking to getting into sales or adding a new tool to their sales skill set to consider Invenio Solutions. My experience paid off in dividends.                                                                                                                                                                                                                                                                                                                                                                                                                                                                                                                                                                                                                                                                                                                                                                                                                                                                                                                                                                                                                                                                                                                                                                                                                                                                                                                                                                                                                                                                                                                                                                                                              \n",
      "8240  Some great and very smart people to work with. Good work/life balance and flexibility. Depending on which department you're in,  challenging problems to solve.                                                                                                                                                                                                                                                                                                                                                                                                                                                                                                                                                                                                                                                                                                                                                                                                                                                                                                                                                                                                                                                                                                                                                                                                                                                                                                                                                                                                                                                                                                                                                                                                                                                                                                                                                                                                                                                                                                                                                                      \n",
      "3489  Wonderful culture\\nAwesome support from coworkers\\nDelivering a quality service\\nDowntown location\\nGet to connect with CEO and other positions in the company\\nLearn multiple skillsets                                                                                                                                                                                                                                                                                                                                                                                                                                                                                                                                                                                                                                                                                                                                                                                                                                                                                                                                                                                                                                                                                                                                                                                                                                                                                                                                                                                                                                                                                                                                                                                                                                                                                                                                                                                                                                                                                                                                             \n",
      "3895  Worked on a small enough team and had access to other departments easily when it came to pushing forward goals and projects. Smaller company, making communications cross-functionally very easy to achieve.                                                                                                                                                                                                                                                                                                                                                                                                                                                                                                                                                                                                                                                                                                                                                                                                                                                                                                                                                                                                                                                                                                                                                                                                                                                                                                                                                                                                                                                                                                                                                                                                                                                                                                                                                                                                                                                                                                                         \n",
      "5106  Work environment is good, great people to work with.                                                                                                                                                                                                                                                                                                                                                                                                                                                                                                                                                                                                                                                                                                                                                                                                                                                                                                                                                                                                                                                                                                                                                                                                                                                                                                                                                                                                                                                                                                                                                                                                                                                                                                                                                                                                                                                                                                                                                                                                                                                                                 \n",
      "1694  Flexible work schedule and nothing else.                                                                                                                                                                                                                                                                                                                                                                                                                                                                                                                                                                                                                                                                                                                                                                                                                                                                                                                                                                                                                                                                                                                                                                                                                                                                                                                                                                                                                                                                                                                                                                                                                                                                                                                                                                                                                                                                                                                                                                                                                                                                                             \n",
      "5907  NI will help reimburse for sports teams, great for work-life balance\\nDecent benefits\\nTrust in employees to get the job done\\nFlexibility to move around internally\\nRewarding work, ability to drive projects, build early career skills quickly\\nYour colleagues become your good friends                                                                                                                                                                                                                                                                                                                                                                                                                                                                                                                                                                                                                                                                                                                                                                                                                                                                                                                                                                                                                                                                                                                                                                                                                                                                                                                                                                                                                                                                                                                                                                                                                                                                                                                                                                                                                                         \n",
      "3348  Some departments have flexible work schedules and remote days\\nThe people                                                                                                                                                                                                                                                                                                                                                                                                                                                                                                                                                                                                                                                                                                                                                                                                                                                                                                                                                                                                                                                                                                                                                                                                                                                                                                                                                                                                                                                                                                                                                                                                                                                                                                                                                                                                                                                                                                                                                                                                                                                            \n",
      "7555  Endless opportunities to grow, excel and  innovate\\nA company culture of employee first\\nA driven CEO who is committed to driving NVIDIA to excellence\\nEveryday you have the opportunity to work with really smart people on challenging and cutting edge technology and projects\\nWork at speed of light  \\nFlexible work environment\\nWinning Company                                                                                                                                                                                                                                                                                                                                                                                                                                                                                                                                                                                                                                                                                                                                                                                                                                                                                                                                                                                                                                                                                                                                                                                                                                                                                                                                                                                                                                                                                                                                                                                                                                                                                                                                                                             \n",
      "4521  Great flexibility\\nGood company to work                                                                                                                                                                                                                                                                                                                                                                                                                                                                                                                                                                                                                                                                                                                                                                                                                                                                                                                                                                                                                                                                                                                                                                                                                                                                                                                                                                                                                                                                                                                                                                                                                                                                                                                                                                                                                                                                                                                                                                                                                                                                                              \n",
      "2894  Good technologies to work on                                                                                                                                                                                                                                                                                                                                                                                                                                                                                                                                                                                                                                                                                                                                                                                                                                                                                                                                                                                                                                                                                                                                                                                                                                                                                                                                                                                                                                                                                                                                                                                                                                                                                                                                                                                                                                                                                                                                                                                                                                                                                                         \n",
      "3095  Flexible work schedule, nice facility and comfortable work setting.                                                                                                                                                                                                                                                                                                                                                                                                                                                                                                                                                                                                                                                                                                                                                                                                                                                                                                                                                                                                                                                                                                                                                                                                                                                                                                                                                                                                                                                                                                                                                                                                                                                                                                                                                                                                                                                                                                                                                                                                                                                                  \n",
      "1905  Good people to work with.\\n\\nManagement team makes an effort to be approachable and to will implement ideas that are not too costly.\\n\\nInteresting problems to solve                                                                                                                                                                                                                                                                                                                                                                                                                                                                                                                                                                                                                                                                                                                                                                                                                                                                                                                                                                                                                                                                                                                                                                                                                                                                                                                                                                                                                                                                                                                                                                                                                                                                                                                                                                                                                                                                                                                                                                \n",
      "5574  Flexibility to work from anywhere                                                                                                                                                                                                                                                                                                                                                                                                                                                                                                                                                                                                                                                                                                                                                                                                                                                                                                                                                                                                                                                                                                                                                                                                                                                                                                                                                                                                                                                                                                                                                                                                                                                                                                                                                                                                                                                                                                                                                                                                                                                                                                    \n",
      "4109  The opportunities for growth are everywhere, as long as you keep your eyes open. \\n\\nWorking in a remote office can make this difficult, and patience is definitely a virtue, but using creative thinking, and being aware of what your department and team members need to succeed allows for some interesting conversations with leadership.  \\n\\nEven if a certain position is not currently available to you, your voice is always listened to, and leadership is always looking for ways to empower you to find what works!                                                                                                                                                                                                                                                                                                                                                                                                                                                                                                                                                                                                                                                                                                                                                                                                                                                                                                                                                                                                                                                                                                                                                                                                                                                                                                                                                                                                                                                                                                                                                                                                     \n",
      "177   Management values individual employees strengths, recognizes their differences and works to develop everyone as a whole. You may not be the best sales person or the most technical savvy, but with a positive attitude and the desire to learn and grow anything is possible with Protect America. While no company is perfect Protect America takes the time to recognize their weaknesses and make changes to better our work environment and pushes us  to want to commit to provide our customer with 5 Diamond Service.                                                                                                                                                                                                                                                                                                                                                                                                                                                                                                                                                                                                                                                                                                                                                                                                                                                                                                                                                                                                                                                                                                                                                                                                                                                                                                                                                                                                                                                                                                                                                                                                        \n",
      "8656  Genuinely cares about employees and customers.   Rewards hard work.  Listens to feedback and makes adjustments when able.                                                                                                                                                                                                                                                                                                                                                                                                                                                                                                                                                                                                                                                                                                                                                                                                                                                                                                                                                                                                                                                                                                                                                                                                                                                                                                                                                                                                                                                                                                                                                                                                                                                                                                                                                                                                                                                                                                                                                                                                            \n",
      "1803  Good benefits and work flexibility                                                                                                                                                                                                                                                                                                                                                                                                                                                                                                                                                                                                                                                                                                                                                                                                                                                                                                                                                                                                                                                                                                                                                                                                                                                                                                                                                                                                                                                                                                                                                                                                                                                                                                                                                                                                                                                                                                                                                                                                                                                                                                   \n",
      "1124  Flexibility to work remote and on your own schedule                                                                                                                                                                                                                                                                                                                                                                                                                                                                                                                                                                                                                                                                                                                                                                                                                                                                                                                                                                                                                                                                                                                                                                                                                                                                                                                                                                                                                                                                                                                                                                                                                                                                                                                                                                                                                                                                                                                                                                                                                                                                                  \n",
      "6792  -Great opportunity to grow your career\\n-Hard work is rewarded with promotions\\n-Freedom to experiment and innovate\\n-Top notch benefits/ compensation package                                                                                                                                                                                                                                                                                                                                                                                                                                                                                                                                                                                                                                                                                                                                                                                                                                                                                                                                                                                                                                                                                                                                                                                                                                                                                                                                                                                                                                                                                                                                                                                                                                                                                                                                                                                                                                                                                                                                                                       \n",
      "8129  Exciting work, opportunities for advancement, great work life balance and remote options                                                                                                                                                                                                                                                                                                                                                                                                                                                                                                                                                                                                                                                                                                                                                                                                                                                                                                                                                                                                                                                                                                                                                                                                                                                                                                                                                                                                                                                                                                                                                                                                                                                                                                                                                                                                                                                                                                                                                                                                                                             \n",
      "7786  Work load is reasonable and provide good benefits                                                                                                                                                                                                                                                                                                                                                                                                                                                                                                                                                                                                                                                                                                                                                                                                                                                                                                                                                                                                                                                                                                                                                                                                                                                                                                                                                                                                                                                                                                                                                                                                                                                                                                                                                                                                                                                                                                                                                                                                                                                                                    \n",
      "8511  Fast paced and great opportunity to work internationally with Korea. Excellent people to work with. Employees are strongly encouraged to continue learning and developing new skills regardless of position.                                                                                                                                                                                                                                                                                                                                                                                                                                                                                                                                                                                                                                                                                                                                                                                                                                                                                                                                                                                                                                                                                                                                                                                                                                                                                                                                                                                                                                                                                                                                                                                                                                                                                                                                                                                                                                                                                                                         \n",
      "4630  Positive work environment, excellent training with managers who genuinely want you to succeed, fun contests, happy hours, and lots of room to grow if you work hard. Training is held daily. You can always meet with your manager if you feel you're struggling or want to strategize.                                                                                                                                                                                                                                                                                                                                                                                                                                                                                                                                                                                                                                                                                                                                                                                                                                                                                                                                                                                                                                                                                                                                                                                                                                                                                                                                                                                                                                                                                                                                                                                                                                                                                                                                                                                                                                              \n",
      "6002  Great flexibility with your schedule\\nGreat work/life balance\\nFantastic people to work with\\nOrganization not very vertical or large, allowing you to get to know management well                                                                                                                                                                                                                                                                                                                                                                                                                                                                                                                                                                                                                                                                                                                                                                                                                                                                                                                                                                                                                                                                                                                                                                                                                                                                                                                                                                                                                                                                                                                                                                                                                                                                                                                                                                                                                                                                                                                                                   \n",
      "538   Ability to self- start and flexibility                                                                                                                                                                                                                                                                                                                                                                                                                                                                                                                                                                                                                                                                                                                                                                                                                                                                                                                                                                                                                                                                                                                                                                                                                                                                                                                                                                                                                                                                                                                                                                                                                                                                                                                                                                                                                                                                                                                                                                                                                                                                                               \n",
      "5697  We help shape customer's experiences. You are part of a team that works very hard to find ways to improve the relationships between customers and the self storage facilities we help to them find. You are encouraged to come up with new ways to help improve these experiences, and get to see those ideas come to fruition much quicker and with better results than any other company you may have suggested an idea to and not seen much become of it.                                                                                                                                                                                                                                                                                                                                                                                                                                                                                                                                                                                                                                                                                                                                                                                                                                                                                                                                                                                                                                                                                                                                                                                                                                                                                                                                                                                                                                                                                                                                                                                                                                                                         \n",
      "8117  - An excellent company culture where creativity is encouraged. The co-founders really care about keeping it a place where people like to work.\\n- Micromanagement is kept at a minimum so you get plenty of opportunities to own projects. \\n- Flexible work environment - no clocking in/out, you can work remotely if you need to focus\\n- Open office floorplan allows for collaboration\\n- You can get real, honest feedback from your managers.                                                                                                                                                                                                                                                                                                                                                                                                                                                                                                                                                                                                                                                                                                                                                                                                                                                                                                                                                                                                                                                                                                                                                                                                                                                                                                                                                                                                                                                                                                                                                                                                                                                                                 \n",
      "4328  Ability to work anywhere and remote.                                                                                                                                                                                                                                                                                                                                                                                                                                                                                                                                                                                                                                                                                                                                                                                                                                                                                                                                                                                                                                                                                                                                                                                                                                                                                                                                                                                                                                                                                                                                                                                                                                                                                                                                                                                                                                                                                                                                                                                                                                                                                                 \n",
      "2746  Good atmosphere and interesting work.  If you work hard and seek to continually improve your knowledge and capabilities you should move up quickly                                                                                                                                                                                                                                                                                                                                                                                                                                                                                                                                                                                                                                                                                                                                                                                                                                                                                                                                                                                                                                                                                                                                                                                                                                                                                                                                                                                                                                                                                                                                                                                                                                                                                                                                                                                                                                                                                                                                                                                   \n",
      "3544  Flexible scheduling, work from home, sense of accomplishment, visible results, retirement benefits, acceptable pay, open communication, higher management actively scouts employees for new projects or higher paying positions. PTO accrual increases with time employed. Most Team Leaders encountered have been wonderful to work with, and very understanding of life changes. Excellent upward mobility, with plenty of chances to increase pay and hours. As another reviewer said, most coworkers foster a fantastic work environment. The Spark chat tool keeps communication easy and open, and most teams will allow you to discuss just about anything while working, within reason. Some do require chats to stick to work-related topics only.                                                                                                                                                                                                                                                                                                                                                                                                                                                                                                                                                                                                                                                                                                                                                                                                                                                                                                                                                                                                                                                                                                                                                                                                                                                                                                                                                                          \n",
      "1334  benefits, you learn about policies and how contracts work, overall good work experience, opportunities to get involved with organizations within the company                                                                                                                                                                                                                                                                                                                                                                                                                                                                                                                                                                                                                                                                                                                                                                                                                                                                                                                                                                                                                                                                                                                                                                                                                                                                                                                                                                                                                                                                                                                                                                                                                                                                                                                                                                                                                                                                                                                                                                         \n",
      "3654  Challenging work that builds your skillset for what the future will require                                                                                                                                                                                                                                                                                                                                                                                                                                                                                                                                                                                                                                                                                                                                                                                                                                                                                                                                                                                                                                                                                                                                                                                                                                                                                                                                                                                                                                                                                                                                                                                                                                                                                                                                                                                                                                                                                                                                                                                                                                                          \n",
      "7472  High Benefits to the employees, Opportunity to work on multiple technologies.                                                                                                                                                                                                                                                                                                                                                                                                                                                                                                                                                                                                                                                                                                                                                                                                                                                                                                                                                                                                                                                                                                                                                                                                                                                                                                                                                                                                                                                                                                                                                                                                                                                                                                                                                                                                                                                                                                                                                                                                                                                        \n",
      "4421  Work-life balance\\nLeadership\\nImpactful work \\nAbility to Manage workload how you see fit                                                                                                                                                                                                                                                                                                                                                                                                                                                                                                                                                                                                                                                                                                                                                                                                                                                                                                                                                                                                                                                                                                                                                                                                                                                                                                                                                                                                                                                                                                                                                                                                                                                                                                                                                                                                                                                                                                                                                                                                                                           \n",
      "7164  When I first arrived at Volusion, engineering was in a sorry state. A distributed monolith spread across hundreds of AWS lambdas, developers pushing to production without testing or even a pull request, no monitoring, stories of former toxic lead engineers who refused to give other devs access to GitHub repos because they would \"mess it up\", a very bad codebase, traumatized developers, and more.\\n\\nIn the short time I've been here, the engineering team has rolled out system monitoring, sound testing and development practices, release management processes, continuing education budgets and tech talks, and a cultural emphasis on collaboration (and a strict \"No A**holes\" policy). We've undertaken significant projects to improve the quality of the codebase, including converting it to TypeScript to aid refactoring, moving from a completely unmodeled Mongo implementation to a Postgres model that actually serves our purposes, and working a new admin site in modern technologies (React, Apollo GraphQL), in order to prepare for significant feature development to bring Volusion up to speed with its competitors.\\n\\nSenior management has been beyond patient with engineering while we've undertaken this work, as they seem to have realized just how far the product had fallen. They've been responsive to justifications of tech debt and I have seen the PDE organization get better at providing estimates and setting expectations, and the attitudes around engineering have improved noticeably. Despite the halt on some areas of feature development, we're building some very interesting site building and store rendering technology that has dramatic performance and SEO improvements and cutting edge tech.\\n\\nI've been very impressed with the transition we've made in engineering, and feel optimistic about the future of the company.\\n\\nOther things: the perks are solid and the flexibility around incidentals, PTO, and remote for the product-design-engineering (PDE) departments is phenomenal. People and Culture operate as an H&R department should.   \n",
      "8624  Flexibility to work at different locations, decent compensation and benefits                                                                                                                                                                                                                                                                                                                                                                                                                                                                                                                                                                                                                                                                                                                                                                                                                                                                                                                                                                                                                                                                                                                                                                                                                                                                                                                                                                                                                                                                                                                                                                                                                                                                                                                                                                                                                                                                                                                                                                                                                                                         \n",
      "690   Flexibility to work without much oversight                                                                                                                                                                                                                                                                                                                                                                                                                                                                                                                                                                                                                                                                                                                                                                                                                                                                                                                                                                                                                                                                                                                                                                                                                                                                                                                                                                                                                                                                                                                                                                                                                                                                                                                                                                                                                                                                                                                                                                                                                                                                                           \n",
      "304   Management listens and allows everyone to have a voice                                                                                                                                                                                                                                                                                                                                                                                                                                                                                                                                                                                                                                                                                                                                                                                                                                                                                                                                                                                                                                                                                                                                                                                                                                                                                                                                                                                                                                                                                                                                                                                                                                                                                                                                                                                                                                                                                                                                                                                                                                                                               \n",
      "6873  Drillinginfo offers flexible schedules, generous paid time off, and time and resources for developing new skills. If your goal is to work for a company where you can develop your professional skills to advance your career, drillinginfo is the place to work.                                                                                                                                                                                                                                                                                                                                                                                                                                                                                                                                                                                                                                                                                                                                                                                                                                                                                                                                                                                                                                                                                                                                                                                                                                                                                                                                                                                                                                                                                                                                                                                                                                                                                                                                                                                                                                                                    \n",
      "\n",
      "      pro_workremotely  \n",
      "7693  0.805456          \n",
      "6639  0.858783          \n",
      "3721  0.828089          \n",
      "7348  0.796750          \n",
      "1650  0.797878          \n",
      "7002  0.817949          \n",
      "2598  0.819181          \n",
      "3308  0.827241          \n",
      "2838  0.835798          \n",
      "4232  0.810748          \n",
      "62    0.815546          \n",
      "7592  0.811224          \n",
      "2262  0.873957          \n",
      "808   0.811224          \n",
      "6477  0.821460          \n",
      "569   0.842339          \n",
      "276   0.814746          \n",
      "6236  0.860494          \n",
      "5334  0.836293          \n",
      "6585  0.804534          \n",
      "2998  0.816148          \n",
      "4084  0.825059          \n",
      "8002  0.898896          \n",
      "2506  0.831176          \n",
      "6055  0.809632          \n",
      "932   0.789088          \n",
      "1273  0.820132          \n",
      "3162  0.824858          \n",
      "7863  0.834446          \n",
      "384   0.812652          \n",
      "7138  0.806395          \n",
      "2068  0.817983          \n",
      "6141  0.828558          \n",
      "4789  0.835372          \n",
      "4830  0.809876          \n",
      "3458  0.829397          \n",
      "8394  0.843630          \n",
      "3799  0.837929          \n",
      "6365  0.803296          \n",
      "8240  0.819652          \n",
      "3489  0.796004          \n",
      "3895  0.812645          \n",
      "5106  0.789088          \n",
      "1694  0.803713          \n",
      "5907  0.838105          \n",
      "3348  0.827139          \n",
      "7555  0.825105          \n",
      "4521  0.846426          \n",
      "2894  0.823155          \n",
      "3095  0.803743          \n",
      "1905  0.828295          \n",
      "5574  0.903366          \n",
      "4109  0.804360          \n",
      "177   0.814874          \n",
      "8656  0.802193          \n",
      "1803  0.838330          \n",
      "1124  0.874798          \n",
      "6792  0.814383          \n",
      "8129  0.803323          \n",
      "7786  0.811857          \n",
      "8511  0.816624          \n",
      "4630  0.800324          \n",
      "6002  0.845280          \n",
      "538   0.883715          \n",
      "5697  0.809701          \n",
      "8117  0.808678          \n",
      "4328  0.872183          \n",
      "2746  0.839992          \n",
      "3544  0.819473          \n",
      "1334  0.802824          \n",
      "3654  0.811047          \n",
      "7472  0.829378          \n",
      "4421  0.857496          \n",
      "7164  0.795535          \n",
      "8624  0.838928          \n",
      "690   0.887398          \n",
      "304   0.801369          \n",
      "6873  0.816006          \n"
     ]
    }
   ],
   "source": [
    "temp_df = df[['company','cons', 'pros', 'pro_workremotely']]\n",
    "temp = temp_df.sort_values(['pro_workremotely'],ascending=False).groupby('company').head(1)\n",
    "df_flexhours = temp.sort_values(['company'])\n",
    "#df_flexhours.to_csv('Data/Top reviews/reviews_remote.csv')\n",
    "pd.options.display.max_colwidth = -1\n",
    "with pd.option_context('display.max_rows', None, 'display.max_columns', None):  # more options can be specified also\n",
    "    print(df_flexhours)"
   ]
  },
  {
   "cell_type": "code",
   "execution_count": 127,
   "metadata": {},
   "outputs": [],
   "source": [
    "temp_df = df[['company','cons', 'pros', 'pro_PTO']]\n",
    "temp = temp_df.sort_values(['pro_PTO'],ascending=False).groupby('company').head(3)\n",
    "df_PTO = temp.sort_values(['company'])\n",
    "df_PTO.to_csv('Data/Top reviews/reviews_PTO.csv')"
   ]
  },
  {
   "cell_type": "code",
   "execution_count": 128,
   "metadata": {},
   "outputs": [],
   "source": [
    "temp_df = df[['company','cons', 'pros', 'pro_salarysatisfaction']]\n",
    "temp = temp_df.sort_values(['pro_salarysatisfaction'],ascending=False).groupby('company').head(1)\n",
    "temp_salary = temp.sort_values(['company'])\n",
    "temp_salary.to_csv('Data/Top reviews/salary.csv')"
   ]
  },
  {
   "cell_type": "code",
   "execution_count": 129,
   "metadata": {},
   "outputs": [],
   "source": [
    "temp_df = df[['company','cons', 'pros', 'pro_maternity_leave']]\n",
    "temp = temp_df.sort_values(['pro_maternity_leave'],ascending=False).groupby('company').head(1)\n",
    "temp_maternity = temp.sort_values(['company'])\n",
    "temp_maternity.to_csv('Data/Top reviews/maternity.csv')"
   ]
  },
  {
   "cell_type": "code",
   "execution_count": 5,
   "metadata": {},
   "outputs": [],
   "source": [
    "temp_df = df[['company','cons', 'pros', 'pro_learning_opps']]\n",
    "temp = temp_df.sort_values(['pro_learning_opps'],ascending=False).groupby('company').head(1)\n",
    "temp_learning = temp.sort_values(['company'])\n",
    "temp_learning.to_csv('Data/Top reviews/learning.csv')"
   ]
  },
  {
   "cell_type": "code",
   "execution_count": 3,
   "metadata": {},
   "outputs": [],
   "source": [
    "temp_df = df[['company','cons', 'pros', 'pro_mentorship_program']]\n",
    "temp = temp_df.sort_values(['pro_mentorship_program'],ascending=False).groupby('company').head(1)\n",
    "temp_mentor = temp.sort_values(['company'])\n",
    "temp_mentor.to_csv('Data/Top reviews/mentor.csv')"
   ]
  },
  {
   "cell_type": "code",
   "execution_count": 4,
   "metadata": {},
   "outputs": [],
   "source": [
    "temp_df = df[['company','cons', 'pros', 'pro_opp_advancement']]\n",
    "temp = temp_df.sort_values(['pro_opp_advancement'],ascending=False).groupby('company').head(1)\n",
    "temp_advance = temp.sort_values(['company'])\n",
    "temp_advance.to_csv('Data/Top reviews/advancement.csv')\n"
   ]
  },
  {
   "cell_type": "code",
   "execution_count": 13,
   "metadata": {},
   "outputs": [],
   "source": [
    "df_pro_features = df[['company','cons', 'pros', 'pro_opp_advancement', 'pro_mentorship_program', 'pro_learning_opps', 'pro_maternity_leave', 'pro_salarysatisfaction', 'pro_PTO', 'pro_workremotely']]"
   ]
  },
  {
   "cell_type": "code",
   "execution_count": 14,
   "metadata": {},
   "outputs": [
    {
     "data": {
      "text/html": [
       "<div>\n",
       "<style scoped>\n",
       "    .dataframe tbody tr th:only-of-type {\n",
       "        vertical-align: middle;\n",
       "    }\n",
       "\n",
       "    .dataframe tbody tr th {\n",
       "        vertical-align: top;\n",
       "    }\n",
       "\n",
       "    .dataframe thead th {\n",
       "        text-align: right;\n",
       "    }\n",
       "</style>\n",
       "<table border=\"1\" class=\"dataframe\">\n",
       "  <thead>\n",
       "    <tr style=\"text-align: right;\">\n",
       "      <th></th>\n",
       "      <th>company</th>\n",
       "      <th>cons</th>\n",
       "      <th>pros</th>\n",
       "      <th>pro_opp_advancement</th>\n",
       "      <th>pro_mentorship_program</th>\n",
       "      <th>pro_learning_opps</th>\n",
       "      <th>pro_maternity_leave</th>\n",
       "      <th>pro_salarysatisfaction</th>\n",
       "      <th>pro_PTO</th>\n",
       "      <th>pro_workremotely</th>\n",
       "    </tr>\n",
       "  </thead>\n",
       "  <tbody>\n",
       "    <tr>\n",
       "      <th>0</th>\n",
       "      <td>360Training</td>\n",
       "      <td>The most tenure someone has there that is not...</td>\n",
       "      <td>There are no pros with the exception of a cou...</td>\n",
       "      <td>0.517824</td>\n",
       "      <td>0.506491</td>\n",
       "      <td>0.667402</td>\n",
       "      <td>0.632402</td>\n",
       "      <td>0.742823</td>\n",
       "      <td>0.781670</td>\n",
       "      <td>0.770668</td>\n",
       "    </tr>\n",
       "    <tr>\n",
       "      <th>1</th>\n",
       "      <td>3m</td>\n",
       "      <td>Modernization of lab buildings as they are va...</td>\n",
       "      <td>Collaboration. Come as you are diversity. A c...</td>\n",
       "      <td>0.605020</td>\n",
       "      <td>0.532759</td>\n",
       "      <td>0.705079</td>\n",
       "      <td>0.624321</td>\n",
       "      <td>0.794517</td>\n",
       "      <td>0.760981</td>\n",
       "      <td>0.800905</td>\n",
       "    </tr>\n",
       "    <tr>\n",
       "      <th>2</th>\n",
       "      <td>AMD</td>\n",
       "      <td>the usual cons - slow to exe...</td>\n",
       "      <td>good engineering environment to work in as a ...</td>\n",
       "      <td>0.605741</td>\n",
       "      <td>0.539055</td>\n",
       "      <td>0.707120</td>\n",
       "      <td>0.614495</td>\n",
       "      <td>0.767472</td>\n",
       "      <td>0.752500</td>\n",
       "      <td>0.812884</td>\n",
       "    </tr>\n",
       "    <tr>\n",
       "      <th>3</th>\n",
       "      <td>AT&amp;T</td>\n",
       "      <td>Lack of training in product.  Customers suffe...</td>\n",
       "      <td>Good Benefits and Pay.  Some company disco...</td>\n",
       "      <td>0.583364</td>\n",
       "      <td>0.523950</td>\n",
       "      <td>0.680904</td>\n",
       "      <td>0.631105</td>\n",
       "      <td>0.806162</td>\n",
       "      <td>0.777083</td>\n",
       "      <td>0.785240</td>\n",
       "    </tr>\n",
       "    <tr>\n",
       "      <th>4</th>\n",
       "      <td>Accruent</td>\n",
       "      <td>Don't expect to get paid well and there has b...</td>\n",
       "      <td>The corporate culture is pretty good and the ...</td>\n",
       "      <td>0.546301</td>\n",
       "      <td>0.509688</td>\n",
       "      <td>0.685188</td>\n",
       "      <td>0.622428</td>\n",
       "      <td>0.735116</td>\n",
       "      <td>0.772335</td>\n",
       "      <td>0.776467</td>\n",
       "    </tr>\n",
       "    <tr>\n",
       "      <th>5</th>\n",
       "      <td>Adobe</td>\n",
       "      <td>There are no cons to working at Ad...</td>\n",
       "      <td>Adobe is a truly inspiring place to work. The...</td>\n",
       "      <td>0.577344</td>\n",
       "      <td>0.529853</td>\n",
       "      <td>0.696918</td>\n",
       "      <td>0.612565</td>\n",
       "      <td>0.761797</td>\n",
       "      <td>0.758676</td>\n",
       "      <td>0.784662</td>\n",
       "    </tr>\n",
       "    <tr>\n",
       "      <th>6</th>\n",
       "      <td>Amazon</td>\n",
       "      <td>Long hours and high expectations are the norm...</td>\n",
       "      <td>Fast promotion, Great Culture, Locations Worl...</td>\n",
       "      <td>0.593570</td>\n",
       "      <td>0.533658</td>\n",
       "      <td>0.706517</td>\n",
       "      <td>0.615149</td>\n",
       "      <td>0.775231</td>\n",
       "      <td>0.772103</td>\n",
       "      <td>0.802426</td>\n",
       "    </tr>\n",
       "    <tr>\n",
       "      <th>7</th>\n",
       "      <td>Apple</td>\n",
       "      <td>things are changing so fast within Apple. Now...</td>\n",
       "      <td>The benefits and the flexibi...</td>\n",
       "      <td>0.593975</td>\n",
       "      <td>0.537466</td>\n",
       "      <td>0.686056</td>\n",
       "      <td>0.627077</td>\n",
       "      <td>0.785904</td>\n",
       "      <td>0.768083</td>\n",
       "      <td>0.789060</td>\n",
       "    </tr>\n",
       "    <tr>\n",
       "      <th>8</th>\n",
       "      <td>Applied Materials</td>\n",
       "      <td>Horrible autocratic management and arbitrary ...</td>\n",
       "      <td>Salary, nothing much else to ...</td>\n",
       "      <td>0.615660</td>\n",
       "      <td>0.538189</td>\n",
       "      <td>0.716016</td>\n",
       "      <td>0.616748</td>\n",
       "      <td>0.780887</td>\n",
       "      <td>0.748932</td>\n",
       "      <td>0.814339</td>\n",
       "    </tr>\n",
       "    <tr>\n",
       "      <th>9</th>\n",
       "      <td>Arm Holdings</td>\n",
       "      <td>Nothing major that I have come across, so ...</td>\n",
       "      <td>Only 3 months in, but I am finding people are...</td>\n",
       "      <td>0.578533</td>\n",
       "      <td>0.523746</td>\n",
       "      <td>0.699948</td>\n",
       "      <td>0.619163</td>\n",
       "      <td>0.759270</td>\n",
       "      <td>0.767746</td>\n",
       "      <td>0.795321</td>\n",
       "    </tr>\n",
       "    <tr>\n",
       "      <th>10</th>\n",
       "      <td>Atlassian</td>\n",
       "      <td>There's a general departure from the original...</td>\n",
       "      <td>It's a big company with a lot of growth still...</td>\n",
       "      <td>0.548726</td>\n",
       "      <td>0.503399</td>\n",
       "      <td>0.688653</td>\n",
       "      <td>0.619231</td>\n",
       "      <td>0.736625</td>\n",
       "      <td>0.760049</td>\n",
       "      <td>0.769354</td>\n",
       "    </tr>\n",
       "    <tr>\n",
       "      <th>11</th>\n",
       "      <td>BankVue</td>\n",
       "      <td>I am having a hard time thinking of any Cons....</td>\n",
       "      <td>I've worked at this company for 4.5 years and...</td>\n",
       "      <td>0.543984</td>\n",
       "      <td>0.512910</td>\n",
       "      <td>0.683718</td>\n",
       "      <td>0.616677</td>\n",
       "      <td>0.737620</td>\n",
       "      <td>0.767557</td>\n",
       "      <td>0.769214</td>\n",
       "    </tr>\n",
       "    <tr>\n",
       "      <th>12</th>\n",
       "      <td>Bazaarvoice</td>\n",
       "      <td>lot's of competitors who provide the same ser...</td>\n",
       "      <td>great people, great office. Lots of managemen...</td>\n",
       "      <td>0.560491</td>\n",
       "      <td>0.523428</td>\n",
       "      <td>0.684917</td>\n",
       "      <td>0.620889</td>\n",
       "      <td>0.757615</td>\n",
       "      <td>0.775546</td>\n",
       "      <td>0.793723</td>\n",
       "    </tr>\n",
       "    <tr>\n",
       "      <th>13</th>\n",
       "      <td>BigCommerce</td>\n",
       "      <td>-Large departments with lack of definition\\n-...</td>\n",
       "      <td>Good pay, not much e...</td>\n",
       "      <td>0.557931</td>\n",
       "      <td>0.506137</td>\n",
       "      <td>0.676324</td>\n",
       "      <td>0.620249</td>\n",
       "      <td>0.738161</td>\n",
       "      <td>0.771819</td>\n",
       "      <td>0.762642</td>\n",
       "    </tr>\n",
       "    <tr>\n",
       "      <th>14</th>\n",
       "      <td>BioWare</td>\n",
       "      <td>Creativity limited by external requirem...</td>\n",
       "      <td>Passionate team who care about making high qu...</td>\n",
       "      <td>0.558866</td>\n",
       "      <td>0.513557</td>\n",
       "      <td>0.676371</td>\n",
       "      <td>0.606291</td>\n",
       "      <td>0.738066</td>\n",
       "      <td>0.756660</td>\n",
       "      <td>0.768109</td>\n",
       "    </tr>\n",
       "    <tr>\n",
       "      <th>15</th>\n",
       "      <td>Blackbaud</td>\n",
       "      <td>Work life balance is usually really great; so...</td>\n",
       "      <td>Blackbaud is so much better than any place I'...</td>\n",
       "      <td>0.592748</td>\n",
       "      <td>0.539710</td>\n",
       "      <td>0.703594</td>\n",
       "      <td>0.607604</td>\n",
       "      <td>0.756632</td>\n",
       "      <td>0.744641</td>\n",
       "      <td>0.790314</td>\n",
       "    </tr>\n",
       "    <tr>\n",
       "      <th>16</th>\n",
       "      <td>Cirrus Logic</td>\n",
       "      <td>I only remember the pros. But since I am told...</td>\n",
       "      <td>As an application engineering intern, you get...</td>\n",
       "      <td>0.568000</td>\n",
       "      <td>0.516437</td>\n",
       "      <td>0.681852</td>\n",
       "      <td>0.623703</td>\n",
       "      <td>0.759652</td>\n",
       "      <td>0.775342</td>\n",
       "      <td>0.780810</td>\n",
       "    </tr>\n",
       "    <tr>\n",
       "      <th>17</th>\n",
       "      <td>Cisco Systems</td>\n",
       "      <td>None that I can thin...</td>\n",
       "      <td>Great benefits, great breadth of products, go...</td>\n",
       "      <td>0.612490</td>\n",
       "      <td>0.543722</td>\n",
       "      <td>0.708684</td>\n",
       "      <td>0.619658</td>\n",
       "      <td>0.777280</td>\n",
       "      <td>0.755099</td>\n",
       "      <td>0.820277</td>\n",
       "    </tr>\n",
       "    <tr>\n",
       "      <th>18</th>\n",
       "      <td>Dell</td>\n",
       "      <td>Quota fluctuations can be challeng...</td>\n",
       "      <td>Flexibility, cutting edge solutions, great pa...</td>\n",
       "      <td>0.624454</td>\n",
       "      <td>0.548888</td>\n",
       "      <td>0.713664</td>\n",
       "      <td>0.620081</td>\n",
       "      <td>0.784579</td>\n",
       "      <td>0.752105</td>\n",
       "      <td>0.817694</td>\n",
       "    </tr>\n",
       "    <tr>\n",
       "      <th>19</th>\n",
       "      <td>Dropbox</td>\n",
       "      <td>- Analysis paralysis; slow pace of decision m...</td>\n",
       "      <td>- Strong culture; nice, high-EQ coworkers acr...</td>\n",
       "      <td>0.568351</td>\n",
       "      <td>0.513629</td>\n",
       "      <td>0.691417</td>\n",
       "      <td>0.610931</td>\n",
       "      <td>0.740328</td>\n",
       "      <td>0.749148</td>\n",
       "      <td>0.763665</td>\n",
       "    </tr>\n",
       "    <tr>\n",
       "      <th>20</th>\n",
       "      <td>Ebay</td>\n",
       "      <td>Re organization happens often that alters the...</td>\n",
       "      <td>Technology, work life balance, culture, bene...</td>\n",
       "      <td>0.583912</td>\n",
       "      <td>0.522525</td>\n",
       "      <td>0.692987</td>\n",
       "      <td>0.623545</td>\n",
       "      <td>0.777997</td>\n",
       "      <td>0.768397</td>\n",
       "      <td>0.800650</td>\n",
       "    </tr>\n",
       "    <tr>\n",
       "      <th>21</th>\n",
       "      <td>Electronic Arts</td>\n",
       "      <td>unorganized project management, lack of commu...</td>\n",
       "      <td>awesome co-workers, relaxed environment, flex...</td>\n",
       "      <td>0.584305</td>\n",
       "      <td>0.531177</td>\n",
       "      <td>0.697988</td>\n",
       "      <td>0.619901</td>\n",
       "      <td>0.755118</td>\n",
       "      <td>0.762908</td>\n",
       "      <td>0.792455</td>\n",
       "    </tr>\n",
       "    <tr>\n",
       "      <th>22</th>\n",
       "      <td>Epicore</td>\n",
       "      <td>Too much work al day ...</td>\n",
       "      <td>Fun time with other emplo...</td>\n",
       "      <td>0.585861</td>\n",
       "      <td>0.536494</td>\n",
       "      <td>0.694851</td>\n",
       "      <td>0.616873</td>\n",
       "      <td>0.766424</td>\n",
       "      <td>0.763410</td>\n",
       "      <td>0.807140</td>\n",
       "    </tr>\n",
       "    <tr>\n",
       "      <th>23</th>\n",
       "      <td>Facebook</td>\n",
       "      <td>work life balance. 6 months evaluation cycle ...</td>\n",
       "      <td>You get appreciated for the work you put (thr...</td>\n",
       "      <td>0.579572</td>\n",
       "      <td>0.520869</td>\n",
       "      <td>0.691256</td>\n",
       "      <td>0.622272</td>\n",
       "      <td>0.757614</td>\n",
       "      <td>0.756692</td>\n",
       "      <td>0.780687</td>\n",
       "    </tr>\n",
       "    <tr>\n",
       "      <th>24</th>\n",
       "      <td>Forcepoint</td>\n",
       "      <td>#N...</td>\n",
       "      <td>#N...</td>\n",
       "      <td>0.555106</td>\n",
       "      <td>0.515179</td>\n",
       "      <td>0.670926</td>\n",
       "      <td>0.629646</td>\n",
       "      <td>0.770950</td>\n",
       "      <td>0.787190</td>\n",
       "      <td>0.781933</td>\n",
       "    </tr>\n",
       "    <tr>\n",
       "      <th>25</th>\n",
       "      <td>Freescale</td>\n",
       "      <td>Extremely volatile and nobody seems to feel c...</td>\n",
       "      <td>Fun atmosphere and good perks.  Helps you gro...</td>\n",
       "      <td>0.529030</td>\n",
       "      <td>0.496301</td>\n",
       "      <td>0.675582</td>\n",
       "      <td>0.616181</td>\n",
       "      <td>0.719788</td>\n",
       "      <td>0.767938</td>\n",
       "      <td>0.764902</td>\n",
       "    </tr>\n",
       "    <tr>\n",
       "      <th>26</th>\n",
       "      <td>GSDM</td>\n",
       "      <td>Some lower employees get pushed to the ...</td>\n",
       "      <td>The atmosphere is fantastic ...</td>\n",
       "      <td>0.550276</td>\n",
       "      <td>0.504205</td>\n",
       "      <td>0.678770</td>\n",
       "      <td>0.611870</td>\n",
       "      <td>0.721664</td>\n",
       "      <td>0.759162</td>\n",
       "      <td>0.764288</td>\n",
       "    </tr>\n",
       "    <tr>\n",
       "      <th>27</th>\n",
       "      <td>Gemalto</td>\n",
       "      <td>Heavy administrative/bureaucracy\\nSiloed with...</td>\n",
       "      <td>Good vacation\\nGood 401k match\\nDecent he...</td>\n",
       "      <td>0.571262</td>\n",
       "      <td>0.525464</td>\n",
       "      <td>0.687752</td>\n",
       "      <td>0.629531</td>\n",
       "      <td>0.774971</td>\n",
       "      <td>0.773247</td>\n",
       "      <td>0.798035</td>\n",
       "    </tr>\n",
       "    <tr>\n",
       "      <th>28</th>\n",
       "      <td>Global Foundries</td>\n",
       "      <td>Management doesn't appreciate, vision and con...</td>\n",
       "      <td>Generally the teams are made up of pretty goo...</td>\n",
       "      <td>0.585968</td>\n",
       "      <td>0.533678</td>\n",
       "      <td>0.701282</td>\n",
       "      <td>0.621621</td>\n",
       "      <td>0.772735</td>\n",
       "      <td>0.765221</td>\n",
       "      <td>0.808073</td>\n",
       "    </tr>\n",
       "    <tr>\n",
       "      <th>29</th>\n",
       "      <td>Google</td>\n",
       "      <td>no work life balance, hierarchy, poor cul...</td>\n",
       "      <td>good salary, excellent stock benefits, amazin...</td>\n",
       "      <td>0.587072</td>\n",
       "      <td>0.519052</td>\n",
       "      <td>0.696370</td>\n",
       "      <td>0.620796</td>\n",
       "      <td>0.774107</td>\n",
       "      <td>0.767174</td>\n",
       "      <td>0.789470</td>\n",
       "    </tr>\n",
       "    <tr>\n",
       "      <th>...</th>\n",
       "      <td>...</td>\n",
       "      <td>...</td>\n",
       "      <td>...</td>\n",
       "      <td>...</td>\n",
       "      <td>...</td>\n",
       "      <td>...</td>\n",
       "      <td>...</td>\n",
       "      <td>...</td>\n",
       "      <td>...</td>\n",
       "      <td>...</td>\n",
       "    </tr>\n",
       "    <tr>\n",
       "      <th>48</th>\n",
       "      <td>PayPal</td>\n",
       "      <td>Too much middle management, wish my team was ...</td>\n",
       "      <td>Gives you great experience developing for ent...</td>\n",
       "      <td>0.599675</td>\n",
       "      <td>0.536275</td>\n",
       "      <td>0.704245</td>\n",
       "      <td>0.631529</td>\n",
       "      <td>0.783326</td>\n",
       "      <td>0.770597</td>\n",
       "      <td>0.800718</td>\n",
       "    </tr>\n",
       "    <tr>\n",
       "      <th>49</th>\n",
       "      <td>Pivot3</td>\n",
       "      <td>Company laid me off without any notice.  Very...</td>\n",
       "      <td>I worked remotely and that was n...</td>\n",
       "      <td>0.569178</td>\n",
       "      <td>0.521671</td>\n",
       "      <td>0.692725</td>\n",
       "      <td>0.604858</td>\n",
       "      <td>0.753878</td>\n",
       "      <td>0.756198</td>\n",
       "      <td>0.790967</td>\n",
       "    </tr>\n",
       "    <tr>\n",
       "      <th>50</th>\n",
       "      <td>Plainview</td>\n",
       "      <td>can be long working hours, last minute change...</td>\n",
       "      <td>great people, and great projects, and lots of...</td>\n",
       "      <td>0.558476</td>\n",
       "      <td>0.507992</td>\n",
       "      <td>0.688010</td>\n",
       "      <td>0.613539</td>\n",
       "      <td>0.750043</td>\n",
       "      <td>0.765372</td>\n",
       "      <td>0.776740</td>\n",
       "    </tr>\n",
       "    <tr>\n",
       "      <th>51</th>\n",
       "      <td>Polycom</td>\n",
       "      <td>not many cons. Looking forward to completing ...</td>\n",
       "      <td>fast pace, switching to new technologies with...</td>\n",
       "      <td>0.586805</td>\n",
       "      <td>0.537227</td>\n",
       "      <td>0.689737</td>\n",
       "      <td>0.622628</td>\n",
       "      <td>0.772678</td>\n",
       "      <td>0.761538</td>\n",
       "      <td>0.810681</td>\n",
       "    </tr>\n",
       "    <tr>\n",
       "      <th>52</th>\n",
       "      <td>Procore Technologies</td>\n",
       "      <td>The engineering hiring standard is pretty goo...</td>\n",
       "      <td>Iâve worked at several different tech compa...</td>\n",
       "      <td>0.558269</td>\n",
       "      <td>0.515919</td>\n",
       "      <td>0.694538</td>\n",
       "      <td>0.615771</td>\n",
       "      <td>0.747766</td>\n",
       "      <td>0.767398</td>\n",
       "      <td>0.764821</td>\n",
       "    </tr>\n",
       "    <tr>\n",
       "      <th>53</th>\n",
       "      <td>Protect America</td>\n",
       "      <td>Itâs like working in a prison. Scan your fi...</td>\n",
       "      <td>They allow you to tackle as much as you can h...</td>\n",
       "      <td>0.521466</td>\n",
       "      <td>0.505130</td>\n",
       "      <td>0.667860</td>\n",
       "      <td>0.635338</td>\n",
       "      <td>0.736330</td>\n",
       "      <td>0.784080</td>\n",
       "      <td>0.763654</td>\n",
       "    </tr>\n",
       "    <tr>\n",
       "      <th>54</th>\n",
       "      <td>Q2 Software</td>\n",
       "      <td>First and second level management is overstre...</td>\n",
       "      <td>Nice new shiny building with plenty of window...</td>\n",
       "      <td>0.558237</td>\n",
       "      <td>0.514354</td>\n",
       "      <td>0.696157</td>\n",
       "      <td>0.620432</td>\n",
       "      <td>0.748163</td>\n",
       "      <td>0.763652</td>\n",
       "      <td>0.774139</td>\n",
       "    </tr>\n",
       "    <tr>\n",
       "      <th>55</th>\n",
       "      <td>Qualcomm</td>\n",
       "      <td>Will be worked like crazy, work 16 hour days ...</td>\n",
       "      <td>Ok pay, ok hours, just all around ok. Not the...</td>\n",
       "      <td>0.585352</td>\n",
       "      <td>0.522398</td>\n",
       "      <td>0.682320</td>\n",
       "      <td>0.617537</td>\n",
       "      <td>0.777059</td>\n",
       "      <td>0.761139</td>\n",
       "      <td>0.804345</td>\n",
       "    </tr>\n",
       "    <tr>\n",
       "      <th>56</th>\n",
       "      <td>Rackspace</td>\n",
       "      <td>Specific to RMS\\n\\nOne of the most unprofessi...</td>\n",
       "      <td>Learning opportunities and exposure.\\nSome of...</td>\n",
       "      <td>0.582378</td>\n",
       "      <td>0.527917</td>\n",
       "      <td>0.698859</td>\n",
       "      <td>0.623115</td>\n",
       "      <td>0.754907</td>\n",
       "      <td>0.760372</td>\n",
       "      <td>0.794589</td>\n",
       "    </tr>\n",
       "    <tr>\n",
       "      <th>57</th>\n",
       "      <td>RetailMeNot</td>\n",
       "      <td>- Title entitlement\\n- Lack sense of urg...</td>\n",
       "      <td>- Company strategy rapidly evolving in the ri...</td>\n",
       "      <td>0.567689</td>\n",
       "      <td>0.519763</td>\n",
       "      <td>0.688920</td>\n",
       "      <td>0.610362</td>\n",
       "      <td>0.744181</td>\n",
       "      <td>0.759608</td>\n",
       "      <td>0.772370</td>\n",
       "    </tr>\n",
       "    <tr>\n",
       "      <th>58</th>\n",
       "      <td>SailPoint</td>\n",
       "      <td>nothing major really- lack of space due to gr...</td>\n",
       "      <td>Culture, innovation, growth, HQ in Austin, ho...</td>\n",
       "      <td>0.573209</td>\n",
       "      <td>0.531761</td>\n",
       "      <td>0.701698</td>\n",
       "      <td>0.605232</td>\n",
       "      <td>0.754031</td>\n",
       "      <td>0.752145</td>\n",
       "      <td>0.776870</td>\n",
       "    </tr>\n",
       "    <tr>\n",
       "      <th>59</th>\n",
       "      <td>Salesforce</td>\n",
       "      <td>monthly pay and frequent payroll er...</td>\n",
       "      <td>working with students and teac...</td>\n",
       "      <td>0.549158</td>\n",
       "      <td>0.541462</td>\n",
       "      <td>0.679018</td>\n",
       "      <td>0.655436</td>\n",
       "      <td>0.762217</td>\n",
       "      <td>0.779918</td>\n",
       "      <td>0.791982</td>\n",
       "    </tr>\n",
       "    <tr>\n",
       "      <th>60</th>\n",
       "      <td>Samsung Austin Semiconductor</td>\n",
       "      <td>Bad engineering skills (no one else runs a fa...</td>\n",
       "      <td>Decent management\\nGood work life-balance for...</td>\n",
       "      <td>0.577564</td>\n",
       "      <td>0.522862</td>\n",
       "      <td>0.668880</td>\n",
       "      <td>0.640235</td>\n",
       "      <td>0.804211</td>\n",
       "      <td>0.786619</td>\n",
       "      <td>0.779089</td>\n",
       "    </tr>\n",
       "    <tr>\n",
       "      <th>61</th>\n",
       "      <td>Signpost</td>\n",
       "      <td>None so far company knows what it is do...</td>\n",
       "      <td>The on boarding and training is fantas...</td>\n",
       "      <td>0.555680</td>\n",
       "      <td>0.529889</td>\n",
       "      <td>0.688969</td>\n",
       "      <td>0.608096</td>\n",
       "      <td>0.741275</td>\n",
       "      <td>0.766235</td>\n",
       "      <td>0.770122</td>\n",
       "    </tr>\n",
       "    <tr>\n",
       "      <th>62</th>\n",
       "      <td>Silicon Labs</td>\n",
       "      <td>Fast moving markets require periodic strategy...</td>\n",
       "      <td>Opportunity rich company.\\nDeep bench with a ...</td>\n",
       "      <td>0.593688</td>\n",
       "      <td>0.532516</td>\n",
       "      <td>0.696375</td>\n",
       "      <td>0.594952</td>\n",
       "      <td>0.752512</td>\n",
       "      <td>0.741707</td>\n",
       "      <td>0.792587</td>\n",
       "    </tr>\n",
       "    <tr>\n",
       "      <th>63</th>\n",
       "      <td>SolarWinds</td>\n",
       "      <td>I would say don't work there. You can make go...</td>\n",
       "      <td>They feed you a lot and host fun company outi...</td>\n",
       "      <td>0.537926</td>\n",
       "      <td>0.512891</td>\n",
       "      <td>0.667675</td>\n",
       "      <td>0.625555</td>\n",
       "      <td>0.755657</td>\n",
       "      <td>0.790475</td>\n",
       "      <td>0.767429</td>\n",
       "    </tr>\n",
       "    <tr>\n",
       "      <th>64</th>\n",
       "      <td>Sparefoot</td>\n",
       "      <td>If I had to give one it'd be work/life balanc...</td>\n",
       "      <td>This company employs the best people I've eve...</td>\n",
       "      <td>0.540024</td>\n",
       "      <td>0.505710</td>\n",
       "      <td>0.682384</td>\n",
       "      <td>0.620397</td>\n",
       "      <td>0.728820</td>\n",
       "      <td>0.772385</td>\n",
       "      <td>0.759895</td>\n",
       "    </tr>\n",
       "    <tr>\n",
       "      <th>65</th>\n",
       "      <td>Spiceworks</td>\n",
       "      <td>Definitely some growing pains going on, and t...</td>\n",
       "      <td>Lots of awesome people to work with.\\nVery fl...</td>\n",
       "      <td>0.536135</td>\n",
       "      <td>0.503679</td>\n",
       "      <td>0.677781</td>\n",
       "      <td>0.614245</td>\n",
       "      <td>0.723834</td>\n",
       "      <td>0.761256</td>\n",
       "      <td>0.759036</td>\n",
       "    </tr>\n",
       "    <tr>\n",
       "      <th>66</th>\n",
       "      <td>Stitch Fix</td>\n",
       "      <td>Working specific hours are better for invento...</td>\n",
       "      <td>Working at home, scheduling your own hours, m...</td>\n",
       "      <td>0.550825</td>\n",
       "      <td>0.541022</td>\n",
       "      <td>0.655002</td>\n",
       "      <td>0.658507</td>\n",
       "      <td>0.750403</td>\n",
       "      <td>0.799854</td>\n",
       "      <td>0.825460</td>\n",
       "    </tr>\n",
       "    <tr>\n",
       "      <th>67</th>\n",
       "      <td>Tableau software</td>\n",
       "      <td>Increased competition, need to innov...</td>\n",
       "      <td>Amazing product, wonderful customers, bright ...</td>\n",
       "      <td>0.572775</td>\n",
       "      <td>0.521156</td>\n",
       "      <td>0.700700</td>\n",
       "      <td>0.600706</td>\n",
       "      <td>0.742803</td>\n",
       "      <td>0.745525</td>\n",
       "      <td>0.772072</td>\n",
       "    </tr>\n",
       "    <tr>\n",
       "      <th>68</th>\n",
       "      <td>TeleNetwork</td>\n",
       "      <td>- ridiculous pay rate even for work from home...</td>\n",
       "      <td>- work from home\\n- quick hire pro...</td>\n",
       "      <td>0.550540</td>\n",
       "      <td>0.546740</td>\n",
       "      <td>0.660742</td>\n",
       "      <td>0.654111</td>\n",
       "      <td>0.760453</td>\n",
       "      <td>0.800704</td>\n",
       "      <td>0.814004</td>\n",
       "    </tr>\n",
       "    <tr>\n",
       "      <th>69</th>\n",
       "      <td>USAA</td>\n",
       "      <td>Overwhelming work load.  Unrealistic expectat...</td>\n",
       "      <td>Decent pay.  Ample Time off.  Great benef...</td>\n",
       "      <td>0.622958</td>\n",
       "      <td>0.552049</td>\n",
       "      <td>0.678398</td>\n",
       "      <td>0.633903</td>\n",
       "      <td>0.817315</td>\n",
       "      <td>0.767559</td>\n",
       "      <td>0.781811</td>\n",
       "    </tr>\n",
       "    <tr>\n",
       "      <th>70</th>\n",
       "      <td>Uber</td>\n",
       "      <td>You have to wait long hours to start wor...</td>\n",
       "      <td>You chose to work at any...</td>\n",
       "      <td>0.580953</td>\n",
       "      <td>0.531117</td>\n",
       "      <td>0.701481</td>\n",
       "      <td>0.626341</td>\n",
       "      <td>0.753132</td>\n",
       "      <td>0.765657</td>\n",
       "      <td>0.790683</td>\n",
       "    </tr>\n",
       "    <tr>\n",
       "      <th>71</th>\n",
       "      <td>VMware</td>\n",
       "      <td>If you are in Engineering, the majority of pe...</td>\n",
       "      <td>Good benefits and compensation\\nFlexible work...</td>\n",
       "      <td>0.622985</td>\n",
       "      <td>0.546699</td>\n",
       "      <td>0.705998</td>\n",
       "      <td>0.615075</td>\n",
       "      <td>0.787534</td>\n",
       "      <td>0.753257</td>\n",
       "      <td>0.800467</td>\n",
       "    </tr>\n",
       "    <tr>\n",
       "      <th>72</th>\n",
       "      <td>Visa</td>\n",
       "      <td>Team cultures vary drastically.  Don't care a...</td>\n",
       "      <td>Learn how to work in chaos. You will always h...</td>\n",
       "      <td>0.581893</td>\n",
       "      <td>0.523575</td>\n",
       "      <td>0.688986</td>\n",
       "      <td>0.637519</td>\n",
       "      <td>0.792767</td>\n",
       "      <td>0.781166</td>\n",
       "      <td>0.786750</td>\n",
       "    </tr>\n",
       "    <tr>\n",
       "      <th>73</th>\n",
       "      <td>Volusion</td>\n",
       "      <td>Towards the end of 2015, the ex-CEO had becom...</td>\n",
       "      <td>- People and Culture (H.R.) really seems to c...</td>\n",
       "      <td>0.538732</td>\n",
       "      <td>0.503953</td>\n",
       "      <td>0.671432</td>\n",
       "      <td>0.633822</td>\n",
       "      <td>0.738094</td>\n",
       "      <td>0.781432</td>\n",
       "      <td>0.765881</td>\n",
       "    </tr>\n",
       "    <tr>\n",
       "      <th>74</th>\n",
       "      <td>Vrbo</td>\n",
       "      <td>incompetent management, ineffective leadershi...</td>\n",
       "      <td>great benefits, fun product, enjoyable cowor...</td>\n",
       "      <td>0.581365</td>\n",
       "      <td>0.523289</td>\n",
       "      <td>0.687658</td>\n",
       "      <td>0.634613</td>\n",
       "      <td>0.766109</td>\n",
       "      <td>0.788312</td>\n",
       "      <td>0.780880</td>\n",
       "    </tr>\n",
       "    <tr>\n",
       "      <th>75</th>\n",
       "      <td>Xerox</td>\n",
       "      <td>customers able to dock my pay if they gave le...</td>\n",
       "      <td>training period was about a month and very ea...</td>\n",
       "      <td>0.563343</td>\n",
       "      <td>0.535869</td>\n",
       "      <td>0.685593</td>\n",
       "      <td>0.628537</td>\n",
       "      <td>0.751232</td>\n",
       "      <td>0.781088</td>\n",
       "      <td>0.798758</td>\n",
       "    </tr>\n",
       "    <tr>\n",
       "      <th>76</th>\n",
       "      <td>Zynga</td>\n",
       "      <td>Open seating.  Bad workers seem to be grandfa...</td>\n",
       "      <td>Management listens and allows everyone to hav...</td>\n",
       "      <td>0.564975</td>\n",
       "      <td>0.506982</td>\n",
       "      <td>0.671132</td>\n",
       "      <td>0.629996</td>\n",
       "      <td>0.759965</td>\n",
       "      <td>0.781844</td>\n",
       "      <td>0.767214</td>\n",
       "    </tr>\n",
       "    <tr>\n",
       "      <th>77</th>\n",
       "      <td>drillinginfo</td>\n",
       "      <td>The current business model is completely unsu...</td>\n",
       "      <td>Overall, Drillinginfo is staffed with incredi...</td>\n",
       "      <td>0.557984</td>\n",
       "      <td>0.518568</td>\n",
       "      <td>0.689883</td>\n",
       "      <td>0.615019</td>\n",
       "      <td>0.749970</td>\n",
       "      <td>0.764590</td>\n",
       "      <td>0.777825</td>\n",
       "    </tr>\n",
       "  </tbody>\n",
       "</table>\n",
       "<p>78 rows × 10 columns</p>\n",
       "</div>"
      ],
      "text/plain": [
       "                         company  \\\n",
       "0                    360Training   \n",
       "1                             3m   \n",
       "2                            AMD   \n",
       "3                           AT&T   \n",
       "4                       Accruent   \n",
       "5                          Adobe   \n",
       "6                         Amazon   \n",
       "7                          Apple   \n",
       "8              Applied Materials   \n",
       "9                   Arm Holdings   \n",
       "10                     Atlassian   \n",
       "11                       BankVue   \n",
       "12                   Bazaarvoice   \n",
       "13                   BigCommerce   \n",
       "14                       BioWare   \n",
       "15                     Blackbaud   \n",
       "16                  Cirrus Logic   \n",
       "17                 Cisco Systems   \n",
       "18                          Dell   \n",
       "19                       Dropbox   \n",
       "20                          Ebay   \n",
       "21               Electronic Arts   \n",
       "22                       Epicore   \n",
       "23                      Facebook   \n",
       "24                    Forcepoint   \n",
       "25                     Freescale   \n",
       "26                          GSDM   \n",
       "27                       Gemalto   \n",
       "28              Global Foundries   \n",
       "29                        Google   \n",
       "..                           ...   \n",
       "48                        PayPal   \n",
       "49                        Pivot3   \n",
       "50                     Plainview   \n",
       "51                       Polycom   \n",
       "52          Procore Technologies   \n",
       "53               Protect America   \n",
       "54                   Q2 Software   \n",
       "55                      Qualcomm   \n",
       "56                     Rackspace   \n",
       "57                   RetailMeNot   \n",
       "58                     SailPoint   \n",
       "59                    Salesforce   \n",
       "60  Samsung Austin Semiconductor   \n",
       "61                      Signpost   \n",
       "62                  Silicon Labs   \n",
       "63                    SolarWinds   \n",
       "64                     Sparefoot   \n",
       "65                    Spiceworks   \n",
       "66                    Stitch Fix   \n",
       "67              Tableau software   \n",
       "68                   TeleNetwork   \n",
       "69                          USAA   \n",
       "70                          Uber   \n",
       "71                        VMware   \n",
       "72                          Visa   \n",
       "73                      Volusion   \n",
       "74                          Vrbo   \n",
       "75                         Xerox   \n",
       "76                         Zynga   \n",
       "77                  drillinginfo   \n",
       "\n",
       "                                                 cons  \\\n",
       "0    The most tenure someone has there that is not...   \n",
       "1    Modernization of lab buildings as they are va...   \n",
       "2                     the usual cons - slow to exe...   \n",
       "3    Lack of training in product.  Customers suffe...   \n",
       "4    Don't expect to get paid well and there has b...   \n",
       "5               There are no cons to working at Ad...   \n",
       "6    Long hours and high expectations are the norm...   \n",
       "7    things are changing so fast within Apple. Now...   \n",
       "8    Horrible autocratic management and arbitrary ...   \n",
       "9       Nothing major that I have come across, so ...   \n",
       "10   There's a general departure from the original...   \n",
       "11   I am having a hard time thinking of any Cons....   \n",
       "12   lot's of competitors who provide the same ser...   \n",
       "13   -Large departments with lack of definition\\n-...   \n",
       "14         Creativity limited by external requirem...   \n",
       "15   Work life balance is usually really great; so...   \n",
       "16   I only remember the pros. But since I am told...   \n",
       "17                            None that I can thin...   \n",
       "18              Quota fluctuations can be challeng...   \n",
       "19   - Analysis paralysis; slow pace of decision m...   \n",
       "20   Re organization happens often that alters the...   \n",
       "21   unorganized project management, lack of commu...   \n",
       "22                           Too much work al day ...   \n",
       "23   work life balance. 6 months evaluation cycle ...   \n",
       "24                                              #N...   \n",
       "25   Extremely volatile and nobody seems to feel c...   \n",
       "26         Some lower employees get pushed to the ...   \n",
       "27   Heavy administrative/bureaucracy\\nSiloed with...   \n",
       "28   Management doesn't appreciate, vision and con...   \n",
       "29       no work life balance, hierarchy, poor cul...   \n",
       "..                                                ...   \n",
       "48   Too much middle management, wish my team was ...   \n",
       "49   Company laid me off without any notice.  Very...   \n",
       "50   can be long working hours, last minute change...   \n",
       "51   not many cons. Looking forward to completing ...   \n",
       "52   The engineering hiring standard is pretty goo...   \n",
       "53   Itâs like working in a prison. Scan your fi...   \n",
       "54   First and second level management is overstre...   \n",
       "55   Will be worked like crazy, work 16 hour days ...   \n",
       "56   Specific to RMS\\n\\nOne of the most unprofessi...   \n",
       "57        - Title entitlement\\n- Lack sense of urg...   \n",
       "58   nothing major really- lack of space due to gr...   \n",
       "59             monthly pay and frequent payroll er...   \n",
       "60   Bad engineering skills (no one else runs a fa...   \n",
       "61         None so far company knows what it is do...   \n",
       "62   Fast moving markets require periodic strategy...   \n",
       "63   I would say don't work there. You can make go...   \n",
       "64   If I had to give one it'd be work/life balanc...   \n",
       "65   Definitely some growing pains going on, and t...   \n",
       "66   Working specific hours are better for invento...   \n",
       "67            Increased competition, need to innov...   \n",
       "68   - ridiculous pay rate even for work from home...   \n",
       "69   Overwhelming work load.  Unrealistic expectat...   \n",
       "70        You have to wait long hours to start wor...   \n",
       "71   If you are in Engineering, the majority of pe...   \n",
       "72   Team cultures vary drastically.  Don't care a...   \n",
       "73   Towards the end of 2015, the ex-CEO had becom...   \n",
       "74   incompetent management, ineffective leadershi...   \n",
       "75   customers able to dock my pay if they gave le...   \n",
       "76   Open seating.  Bad workers seem to be grandfa...   \n",
       "77   The current business model is completely unsu...   \n",
       "\n",
       "                                                 pros  pro_opp_advancement  \\\n",
       "0    There are no pros with the exception of a cou...             0.517824   \n",
       "1    Collaboration. Come as you are diversity. A c...             0.605020   \n",
       "2    good engineering environment to work in as a ...             0.605741   \n",
       "3       Good Benefits and Pay.  Some company disco...             0.583364   \n",
       "4    The corporate culture is pretty good and the ...             0.546301   \n",
       "5    Adobe is a truly inspiring place to work. The...             0.577344   \n",
       "6    Fast promotion, Great Culture, Locations Worl...             0.593570   \n",
       "7                     The benefits and the flexibi...             0.593975   \n",
       "8                    Salary, nothing much else to ...             0.615660   \n",
       "9    Only 3 months in, but I am finding people are...             0.578533   \n",
       "10   It's a big company with a lot of growth still...             0.548726   \n",
       "11   I've worked at this company for 4.5 years and...             0.543984   \n",
       "12   great people, great office. Lots of managemen...             0.560491   \n",
       "13                            Good pay, not much e...             0.557931   \n",
       "14   Passionate team who care about making high qu...             0.558866   \n",
       "15   Blackbaud is so much better than any place I'...             0.592748   \n",
       "16   As an application engineering intern, you get...             0.568000   \n",
       "17   Great benefits, great breadth of products, go...             0.612490   \n",
       "18   Flexibility, cutting edge solutions, great pa...             0.624454   \n",
       "19   - Strong culture; nice, high-EQ coworkers acr...             0.568351   \n",
       "20    Technology, work life balance, culture, bene...             0.583912   \n",
       "21   awesome co-workers, relaxed environment, flex...             0.584305   \n",
       "22                       Fun time with other emplo...             0.585861   \n",
       "23   You get appreciated for the work you put (thr...             0.579572   \n",
       "24                                              #N...             0.555106   \n",
       "25   Fun atmosphere and good perks.  Helps you gro...             0.529030   \n",
       "26                    The atmosphere is fantastic ...             0.550276   \n",
       "27       Good vacation\\nGood 401k match\\nDecent he...             0.571262   \n",
       "28   Generally the teams are made up of pretty goo...             0.585968   \n",
       "29   good salary, excellent stock benefits, amazin...             0.587072   \n",
       "..                                                ...                  ...   \n",
       "48   Gives you great experience developing for ent...             0.599675   \n",
       "49                I worked remotely and that was n...             0.569178   \n",
       "50   great people, and great projects, and lots of...             0.558476   \n",
       "51   fast pace, switching to new technologies with...             0.586805   \n",
       "52   Iâve worked at several different tech compa...             0.558269   \n",
       "53   They allow you to tackle as much as you can h...             0.521466   \n",
       "54   Nice new shiny building with plenty of window...             0.558237   \n",
       "55   Ok pay, ok hours, just all around ok. Not the...             0.585352   \n",
       "56   Learning opportunities and exposure.\\nSome of...             0.582378   \n",
       "57   - Company strategy rapidly evolving in the ri...             0.567689   \n",
       "58   Culture, innovation, growth, HQ in Austin, ho...             0.573209   \n",
       "59                  working with students and teac...             0.549158   \n",
       "60   Decent management\\nGood work life-balance for...             0.577564   \n",
       "61          The on boarding and training is fantas...             0.555680   \n",
       "62   Opportunity rich company.\\nDeep bench with a ...             0.593688   \n",
       "63   They feed you a lot and host fun company outi...             0.537926   \n",
       "64   This company employs the best people I've eve...             0.540024   \n",
       "65   Lots of awesome people to work with.\\nVery fl...             0.536135   \n",
       "66   Working at home, scheduling your own hours, m...             0.550825   \n",
       "67   Amazing product, wonderful customers, bright ...             0.572775   \n",
       "68              - work from home\\n- quick hire pro...             0.550540   \n",
       "69       Decent pay.  Ample Time off.  Great benef...             0.622958   \n",
       "70                        You chose to work at any...             0.580953   \n",
       "71   Good benefits and compensation\\nFlexible work...             0.622985   \n",
       "72   Learn how to work in chaos. You will always h...             0.581893   \n",
       "73   - People and Culture (H.R.) really seems to c...             0.538732   \n",
       "74    great benefits, fun product, enjoyable cowor...             0.581365   \n",
       "75   training period was about a month and very ea...             0.563343   \n",
       "76   Management listens and allows everyone to hav...             0.564975   \n",
       "77   Overall, Drillinginfo is staffed with incredi...             0.557984   \n",
       "\n",
       "    pro_mentorship_program  pro_learning_opps  pro_maternity_leave  \\\n",
       "0                 0.506491           0.667402             0.632402   \n",
       "1                 0.532759           0.705079             0.624321   \n",
       "2                 0.539055           0.707120             0.614495   \n",
       "3                 0.523950           0.680904             0.631105   \n",
       "4                 0.509688           0.685188             0.622428   \n",
       "5                 0.529853           0.696918             0.612565   \n",
       "6                 0.533658           0.706517             0.615149   \n",
       "7                 0.537466           0.686056             0.627077   \n",
       "8                 0.538189           0.716016             0.616748   \n",
       "9                 0.523746           0.699948             0.619163   \n",
       "10                0.503399           0.688653             0.619231   \n",
       "11                0.512910           0.683718             0.616677   \n",
       "12                0.523428           0.684917             0.620889   \n",
       "13                0.506137           0.676324             0.620249   \n",
       "14                0.513557           0.676371             0.606291   \n",
       "15                0.539710           0.703594             0.607604   \n",
       "16                0.516437           0.681852             0.623703   \n",
       "17                0.543722           0.708684             0.619658   \n",
       "18                0.548888           0.713664             0.620081   \n",
       "19                0.513629           0.691417             0.610931   \n",
       "20                0.522525           0.692987             0.623545   \n",
       "21                0.531177           0.697988             0.619901   \n",
       "22                0.536494           0.694851             0.616873   \n",
       "23                0.520869           0.691256             0.622272   \n",
       "24                0.515179           0.670926             0.629646   \n",
       "25                0.496301           0.675582             0.616181   \n",
       "26                0.504205           0.678770             0.611870   \n",
       "27                0.525464           0.687752             0.629531   \n",
       "28                0.533678           0.701282             0.621621   \n",
       "29                0.519052           0.696370             0.620796   \n",
       "..                     ...                ...                  ...   \n",
       "48                0.536275           0.704245             0.631529   \n",
       "49                0.521671           0.692725             0.604858   \n",
       "50                0.507992           0.688010             0.613539   \n",
       "51                0.537227           0.689737             0.622628   \n",
       "52                0.515919           0.694538             0.615771   \n",
       "53                0.505130           0.667860             0.635338   \n",
       "54                0.514354           0.696157             0.620432   \n",
       "55                0.522398           0.682320             0.617537   \n",
       "56                0.527917           0.698859             0.623115   \n",
       "57                0.519763           0.688920             0.610362   \n",
       "58                0.531761           0.701698             0.605232   \n",
       "59                0.541462           0.679018             0.655436   \n",
       "60                0.522862           0.668880             0.640235   \n",
       "61                0.529889           0.688969             0.608096   \n",
       "62                0.532516           0.696375             0.594952   \n",
       "63                0.512891           0.667675             0.625555   \n",
       "64                0.505710           0.682384             0.620397   \n",
       "65                0.503679           0.677781             0.614245   \n",
       "66                0.541022           0.655002             0.658507   \n",
       "67                0.521156           0.700700             0.600706   \n",
       "68                0.546740           0.660742             0.654111   \n",
       "69                0.552049           0.678398             0.633903   \n",
       "70                0.531117           0.701481             0.626341   \n",
       "71                0.546699           0.705998             0.615075   \n",
       "72                0.523575           0.688986             0.637519   \n",
       "73                0.503953           0.671432             0.633822   \n",
       "74                0.523289           0.687658             0.634613   \n",
       "75                0.535869           0.685593             0.628537   \n",
       "76                0.506982           0.671132             0.629996   \n",
       "77                0.518568           0.689883             0.615019   \n",
       "\n",
       "    pro_salarysatisfaction   pro_PTO  pro_workremotely  \n",
       "0                 0.742823  0.781670          0.770668  \n",
       "1                 0.794517  0.760981          0.800905  \n",
       "2                 0.767472  0.752500          0.812884  \n",
       "3                 0.806162  0.777083          0.785240  \n",
       "4                 0.735116  0.772335          0.776467  \n",
       "5                 0.761797  0.758676          0.784662  \n",
       "6                 0.775231  0.772103          0.802426  \n",
       "7                 0.785904  0.768083          0.789060  \n",
       "8                 0.780887  0.748932          0.814339  \n",
       "9                 0.759270  0.767746          0.795321  \n",
       "10                0.736625  0.760049          0.769354  \n",
       "11                0.737620  0.767557          0.769214  \n",
       "12                0.757615  0.775546          0.793723  \n",
       "13                0.738161  0.771819          0.762642  \n",
       "14                0.738066  0.756660          0.768109  \n",
       "15                0.756632  0.744641          0.790314  \n",
       "16                0.759652  0.775342          0.780810  \n",
       "17                0.777280  0.755099          0.820277  \n",
       "18                0.784579  0.752105          0.817694  \n",
       "19                0.740328  0.749148          0.763665  \n",
       "20                0.777997  0.768397          0.800650  \n",
       "21                0.755118  0.762908          0.792455  \n",
       "22                0.766424  0.763410          0.807140  \n",
       "23                0.757614  0.756692          0.780687  \n",
       "24                0.770950  0.787190          0.781933  \n",
       "25                0.719788  0.767938          0.764902  \n",
       "26                0.721664  0.759162          0.764288  \n",
       "27                0.774971  0.773247          0.798035  \n",
       "28                0.772735  0.765221          0.808073  \n",
       "29                0.774107  0.767174          0.789470  \n",
       "..                     ...       ...               ...  \n",
       "48                0.783326  0.770597          0.800718  \n",
       "49                0.753878  0.756198          0.790967  \n",
       "50                0.750043  0.765372          0.776740  \n",
       "51                0.772678  0.761538          0.810681  \n",
       "52                0.747766  0.767398          0.764821  \n",
       "53                0.736330  0.784080          0.763654  \n",
       "54                0.748163  0.763652          0.774139  \n",
       "55                0.777059  0.761139          0.804345  \n",
       "56                0.754907  0.760372          0.794589  \n",
       "57                0.744181  0.759608          0.772370  \n",
       "58                0.754031  0.752145          0.776870  \n",
       "59                0.762217  0.779918          0.791982  \n",
       "60                0.804211  0.786619          0.779089  \n",
       "61                0.741275  0.766235          0.770122  \n",
       "62                0.752512  0.741707          0.792587  \n",
       "63                0.755657  0.790475          0.767429  \n",
       "64                0.728820  0.772385          0.759895  \n",
       "65                0.723834  0.761256          0.759036  \n",
       "66                0.750403  0.799854          0.825460  \n",
       "67                0.742803  0.745525          0.772072  \n",
       "68                0.760453  0.800704          0.814004  \n",
       "69                0.817315  0.767559          0.781811  \n",
       "70                0.753132  0.765657          0.790683  \n",
       "71                0.787534  0.753257          0.800467  \n",
       "72                0.792767  0.781166          0.786750  \n",
       "73                0.738094  0.781432          0.765881  \n",
       "74                0.766109  0.788312          0.780880  \n",
       "75                0.751232  0.781088          0.798758  \n",
       "76                0.759965  0.781844          0.767214  \n",
       "77                0.749970  0.764590          0.777825  \n",
       "\n",
       "[78 rows x 10 columns]"
      ]
     },
     "execution_count": 14,
     "metadata": {},
     "output_type": "execute_result"
    }
   ],
   "source": [
    "df_pro_features"
   ]
  },
  {
   "cell_type": "code",
   "execution_count": 15,
   "metadata": {},
   "outputs": [],
   "source": [
    "df_pro_features.to_csv('Data/Top reviews/w_reviews.csv')\n",
    "#df = pd.read_csv('glassdoor_reviews_top100_cleaned.csv')"
   ]
  },
  {
   "cell_type": "code",
   "execution_count": null,
   "metadata": {},
   "outputs": [],
   "source": []
  }
 ],
 "metadata": {
  "kernelspec": {
   "display_name": "Python 3",
   "language": "python",
   "name": "python3"
  },
  "language_info": {
   "codemirror_mode": {
    "name": "ipython",
    "version": 3
   },
   "file_extension": ".py",
   "mimetype": "text/x-python",
   "name": "python",
   "nbconvert_exporter": "python",
   "pygments_lexer": "ipython3",
   "version": "3.7.3"
  }
 },
 "nbformat": 4,
 "nbformat_minor": 2
}
